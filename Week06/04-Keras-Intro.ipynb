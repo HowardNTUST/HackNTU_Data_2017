{
 "cells": [
  {
   "cell_type": "code",
   "execution_count": 1,
   "metadata": {
    "collapsed": false
   },
   "outputs": [
    {
     "name": "stderr",
     "output_type": "stream",
     "text": [
      "Using TensorFlow backend.\n"
     ]
    }
   ],
   "source": [
    "import keras\n",
    "from keras.models import Sequential\n",
    "from PIL import Image\n",
    "import numpy as np"
   ]
  },
  {
   "cell_type": "code",
   "execution_count": 2,
   "metadata": {
    "collapsed": true
   },
   "outputs": [],
   "source": [
    "import gzip\n",
    "import pickle\n",
    "with gzip.open(\"../Week02/mnist.pkl.gz\", 'rb') as f:\n",
    "    train_set, validation_set, test_set = pickle.load(f, encoding='latin1')\n",
    "train_X, train_y = train_set\n",
    "validation_X, validation_y = validation_set\n",
    "test_X, test_y = test_set\n",
    "\n",
    "\n",
    "train_Y = np.eye(10)[train_y]\n",
    "test_Y = np.eye(10)[test_y]\n",
    "validation_Y = np.eye(10)[validation_y]\n",
    "\n",
    "# or\n",
    "# from keras.datasets import mnist\n",
    "# from keras.utils import np_utils\n",
    "# (train_X, train_y), (test_X, test_y) = mnist.load_data()\n",
    "# train_Y = np_utils.to_categorical(train_y, 10)\n",
    "# test_Y = np_utils.to_categorical(test_y, 10)"
   ]
  },
  {
   "cell_type": "markdown",
   "metadata": {},
   "source": [
    "### logistic regression"
   ]
  },
  {
   "cell_type": "code",
   "execution_count": 3,
   "metadata": {
    "collapsed": false
   },
   "outputs": [],
   "source": [
    "from keras.layers import Dense, Activation\n",
    "model = Sequential()\n",
    "model.add(Dense(units=10, input_dim=784))\n",
    "model.add(Activation('softmax'))"
   ]
  },
  {
   "cell_type": "code",
   "execution_count": 4,
   "metadata": {
    "collapsed": true
   },
   "outputs": [],
   "source": [
    "model.compile(loss='categorical_crossentropy',\n",
    "              optimizer='sgd',\n",
    "              metrics=['accuracy'])"
   ]
  },
  {
   "cell_type": "code",
   "execution_count": 5,
   "metadata": {
    "collapsed": false
   },
   "outputs": [
    {
     "name": "stdout",
     "output_type": "stream",
     "text": [
      "Train on 50000 samples, validate on 10000 samples\n",
      "Epoch 1/15\n",
      "50000/50000 [==============================] - 1s - loss: 1.3741 - acc: 0.6688 - val_loss: 0.8747 - val_acc: 0.8313\n",
      "Epoch 2/15\n",
      "50000/50000 [==============================] - 0s - loss: 0.7828 - acc: 0.8304 - val_loss: 0.6393 - val_acc: 0.8632\n",
      "Epoch 3/15\n",
      "50000/50000 [==============================] - 0s - loss: 0.6356 - acc: 0.8512 - val_loss: 0.5453 - val_acc: 0.8755\n",
      "Epoch 4/15\n",
      "50000/50000 [==============================] - 0s - loss: 0.5648 - acc: 0.8614 - val_loss: 0.4933 - val_acc: 0.8833\n",
      "Epoch 5/15\n",
      "50000/50000 [==============================] - 0s - loss: 0.5218 - acc: 0.8685 - val_loss: 0.4602 - val_acc: 0.8868\n",
      "Epoch 6/15\n",
      "50000/50000 [==============================] - 0s - loss: 0.4923 - acc: 0.8741 - val_loss: 0.4370 - val_acc: 0.8893\n",
      "Epoch 7/15\n",
      "50000/50000 [==============================] - 0s - loss: 0.4705 - acc: 0.8783 - val_loss: 0.4196 - val_acc: 0.8920\n",
      "Epoch 8/15\n",
      "50000/50000 [==============================] - 0s - loss: 0.4535 - acc: 0.8806 - val_loss: 0.4060 - val_acc: 0.8939\n",
      "Epoch 9/15\n",
      "50000/50000 [==============================] - 0s - loss: 0.4399 - acc: 0.8836 - val_loss: 0.3947 - val_acc: 0.8971\n",
      "Epoch 10/15\n",
      "50000/50000 [==============================] - 0s - loss: 0.4285 - acc: 0.8858 - val_loss: 0.3854 - val_acc: 0.8997\n",
      "Epoch 11/15\n",
      "50000/50000 [==============================] - 0s - loss: 0.4190 - acc: 0.8879 - val_loss: 0.3777 - val_acc: 0.9010\n",
      "Epoch 12/15\n",
      "50000/50000 [==============================] - 0s - loss: 0.4107 - acc: 0.8897 - val_loss: 0.3711 - val_acc: 0.9020\n",
      "Epoch 13/15\n",
      "50000/50000 [==============================] - 0s - loss: 0.4035 - acc: 0.8914 - val_loss: 0.3650 - val_acc: 0.9038\n",
      "Epoch 14/15\n",
      "50000/50000 [==============================] - 0s - loss: 0.3972 - acc: 0.8927 - val_loss: 0.3601 - val_acc: 0.9036\n",
      "Epoch 15/15\n",
      "50000/50000 [==============================] - 0s - loss: 0.3915 - acc: 0.8939 - val_loss: 0.3556 - val_acc: 0.9054\n"
     ]
    },
    {
     "data": {
      "text/plain": [
       "<keras.callbacks.History at 0x7fcf99355400>"
      ]
     },
     "execution_count": 5,
     "metadata": {},
     "output_type": "execute_result"
    }
   ],
   "source": [
    "model.fit(train_X, train_Y, validation_data=(validation_X, validation_Y), batch_size=128, epochs=15)"
   ]
  },
  {
   "cell_type": "code",
   "execution_count": 6,
   "metadata": {
    "collapsed": false
   },
   "outputs": [
    {
     "name": "stdout",
     "output_type": "stream",
     "text": [
      "20/20 [==============================] - 0s\n"
     ]
    },
    {
     "data": {
      "text/plain": [
       "array([7, 2, 1, 0, 4, 1, 4, 9, 6, 9, 0, 6, 9, 0, 1, 5, 9, 7, 3, 4])"
      ]
     },
     "execution_count": 6,
     "metadata": {},
     "output_type": "execute_result"
    }
   ],
   "source": [
    "# 預測看看 test_X 前 20 筆\n",
    "model.predict_classes(test_X[:20])"
   ]
  },
  {
   "cell_type": "code",
   "execution_count": 7,
   "metadata": {
    "collapsed": false
   },
   "outputs": [
    {
     "data": {
      "text/plain": [
       "array([7, 2, 1, 0, 4, 1, 4, 9, 5, 9, 0, 6, 9, 0, 1, 5, 9, 7, 3, 4])"
      ]
     },
     "execution_count": 7,
     "metadata": {},
     "output_type": "execute_result"
    }
   ],
   "source": [
    "# 對答案\n",
    "test_y[:20]"
   ]
  },
  {
   "cell_type": "code",
   "execution_count": 8,
   "metadata": {
    "collapsed": false
   },
   "outputs": [
    {
     "name": "stdout",
     "output_type": "stream",
     "text": [
      " 7616/10000 [=====================>........] - ETA: 0s"
     ]
    },
    {
     "data": {
      "text/plain": [
       "[0.36503848239183428, 0.9042]"
      ]
     },
     "execution_count": 8,
     "metadata": {},
     "output_type": "execute_result"
    }
   ],
   "source": [
    "# 看看 test accuracy\n",
    "model.evaluate(test_X, test_Y)"
   ]
  },
  {
   "cell_type": "markdown",
   "metadata": {},
   "source": [
    "## Q \n",
    "* 將 `optimizer` 換成 `\"adam\"`\n",
    "* 將 `optimizer` 換成 `keras.optimizers.SGD(lr=0.01, momentum=0.9, nesterov=True)`"
   ]
  },
  {
   "cell_type": "markdown",
   "metadata": {},
   "source": [
    "### 建立  convolutional model\n",
    "我們之前的網路架構\n",
    "* convolution 2d kernel=(3,3), filters=32\n",
    "* relu\n",
    "* max pool\n",
    "* convolution 2d kernel=(3,3), filters=64\n",
    "* relu\n",
    "* max pool\n",
    "* dense units=1024\n",
    "* relu\n",
    "* dropout (rate=0.8) # 先省略這一層\n",
    "* dense units = 10\n",
    "* softmax\n",
    "\n",
    "試著架出這樣的網路\n",
    "\n",
    "然後訓練看看\n",
    "\n",
    "開頭幾行可以這樣寫\n",
    "```python\n",
    "from keras.layers import Dense, Activation, Conv2D, MaxPool2D, Reshape\n",
    "model = Sequential()\n",
    "model.add(Reshape((28, 28, 1), input_shape=(784,) ))\n",
    "model.add(Conv2D(filters=32, kernel_size=(3,3), padding='same', activation=\"relu\"))\n",
    "```"
   ]
  },
  {
   "cell_type": "code",
   "execution_count": null,
   "metadata": {
    "collapsed": true
   },
   "outputs": [],
   "source": [
    "# 參考答案\n",
    "#%load q_keras_cnn.py"
   ]
  }
 ],
 "metadata": {
  "kernelspec": {
   "display_name": "Python 3",
   "language": "python",
   "name": "python3"
  },
  "language_info": {
   "codemirror_mode": {
    "name": "ipython",
    "version": 3
   },
   "file_extension": ".py",
   "mimetype": "text/x-python",
   "name": "python",
   "nbconvert_exporter": "python",
   "pygments_lexer": "ipython3",
   "version": "3.5.2+"
  }
 },
 "nbformat": 4,
 "nbformat_minor": 1
}
