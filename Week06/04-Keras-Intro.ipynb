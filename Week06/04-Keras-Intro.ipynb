{
 "cells": [
  {
   "cell_type": "code",
   "execution_count": 1,
   "metadata": {},
   "outputs": [
    {
     "name": "stderr",
     "output_type": "stream",
     "text": [
      "Using Theano backend.\n"
     ]
    }
   ],
   "source": [
    "import keras\n",
    "from keras.models import Sequential\n",
    "from PIL import Image\n",
    "import numpy as np"
   ]
  },
  {
   "cell_type": "code",
   "execution_count": 2,
   "metadata": {
    "collapsed": true
   },
   "outputs": [],
   "source": [
    "import gzip\n",
    "import pickle\n",
    "with gzip.open(\"../Week02/mnist.pkl.gz\", 'rb') as f:\n",
    "    train_set, validation_set, test_set = pickle.load(f, encoding='latin1')\n",
    "train_X, train_y = train_set\n",
    "validation_X, validation_y = validation_set\n",
    "test_X, test_y = test_set\n",
    "\n",
    "\n",
    "train_Y = np.eye(10)[train_y]\n",
    "test_Y = np.eye(10)[test_y]\n",
    "validation_Y = np.eye(10)[validation_y]\n",
    "\n",
    "# or\n",
    "# from keras.datasets import mnist\n",
    "# from keras.utils import np_utils\n",
    "# (train_X, train_y), (test_X, test_y) = mnist.load_data()\n",
    "# train_Y = np_utils.to_categorical(train_y, 10)\n",
    "# test_Y = np_utils.to_categorical(test_y, 10)"
   ]
  },
  {
   "cell_type": "markdown",
   "metadata": {},
   "source": [
    "### logistic regression"
   ]
  },
  {
   "cell_type": "code",
   "execution_count": 3,
   "metadata": {},
   "outputs": [],
   "source": [
    "from keras.layers import Dense, Activation\n",
    "model = Sequential()\n",
    "model.add(Dense(units=10, input_dim=784))\n",
    "model.add(Activation('softmax'))"
   ]
  },
  {
   "cell_type": "code",
   "execution_count": 4,
   "metadata": {
    "collapsed": true
   },
   "outputs": [],
   "source": [
    "model.compile(loss='categorical_crossentropy',\n",
    "              optimizer='sgd',\n",
    "              metrics=['accuracy'])"
   ]
  },
  {
   "cell_type": "code",
   "execution_count": 5,
   "metadata": {},
   "outputs": [
    {
     "data": {
      "image/svg+xml": [
       "<svg height=\"221pt\" viewBox=\"0.00 0.00 309.00 221.00\" width=\"309pt\" xmlns=\"http://www.w3.org/2000/svg\" xmlns:xlink=\"http://www.w3.org/1999/xlink\">\n",
       "<g class=\"graph\" id=\"graph0\" transform=\"scale(1 1) rotate(0) translate(4 217)\">\n",
       "<title>G</title>\n",
       "<polygon fill=\"white\" points=\"-4,4 -4,-217 305,-217 305,4 -4,4\" stroke=\"none\"/>\n",
       "<!-- 140555478369840 -->\n",
       "<g class=\"node\" id=\"node1\"><title>140555478369840</title>\n",
       "<polygon fill=\"none\" points=\"0,-166.5 0,-212.5 301,-212.5 301,-166.5 0,-166.5\" stroke=\"black\"/>\n",
       "<text font-family=\"Times,serif\" font-size=\"14.00\" text-anchor=\"middle\" x=\"81.5\" y=\"-185.8\">dense_1_input: InputLayer</text>\n",
       "<polyline fill=\"none\" points=\"163,-166.5 163,-212.5 \" stroke=\"black\"/>\n",
       "<text font-family=\"Times,serif\" font-size=\"14.00\" text-anchor=\"middle\" x=\"190.5\" y=\"-197.3\">input:</text>\n",
       "<polyline fill=\"none\" points=\"163,-189.5 218,-189.5 \" stroke=\"black\"/>\n",
       "<text font-family=\"Times,serif\" font-size=\"14.00\" text-anchor=\"middle\" x=\"190.5\" y=\"-174.3\">output:</text>\n",
       "<polyline fill=\"none\" points=\"218,-166.5 218,-212.5 \" stroke=\"black\"/>\n",
       "<text font-family=\"Times,serif\" font-size=\"14.00\" text-anchor=\"middle\" x=\"259.5\" y=\"-197.3\">(None, 784)</text>\n",
       "<polyline fill=\"none\" points=\"218,-189.5 301,-189.5 \" stroke=\"black\"/>\n",
       "<text font-family=\"Times,serif\" font-size=\"14.00\" text-anchor=\"middle\" x=\"259.5\" y=\"-174.3\">(None, 784)</text>\n",
       "</g>\n",
       "<!-- 140555478369336 -->\n",
       "<g class=\"node\" id=\"node2\"><title>140555478369336</title>\n",
       "<polygon fill=\"none\" points=\"30.5,-83.5 30.5,-129.5 270.5,-129.5 270.5,-83.5 30.5,-83.5\" stroke=\"black\"/>\n",
       "<text font-family=\"Times,serif\" font-size=\"14.00\" text-anchor=\"middle\" x=\"81.5\" y=\"-102.8\">dense_1: Dense</text>\n",
       "<polyline fill=\"none\" points=\"132.5,-83.5 132.5,-129.5 \" stroke=\"black\"/>\n",
       "<text font-family=\"Times,serif\" font-size=\"14.00\" text-anchor=\"middle\" x=\"160\" y=\"-114.3\">input:</text>\n",
       "<polyline fill=\"none\" points=\"132.5,-106.5 187.5,-106.5 \" stroke=\"black\"/>\n",
       "<text font-family=\"Times,serif\" font-size=\"14.00\" text-anchor=\"middle\" x=\"160\" y=\"-91.3\">output:</text>\n",
       "<polyline fill=\"none\" points=\"187.5,-83.5 187.5,-129.5 \" stroke=\"black\"/>\n",
       "<text font-family=\"Times,serif\" font-size=\"14.00\" text-anchor=\"middle\" x=\"229\" y=\"-114.3\">(None, 784)</text>\n",
       "<polyline fill=\"none\" points=\"187.5,-106.5 270.5,-106.5 \" stroke=\"black\"/>\n",
       "<text font-family=\"Times,serif\" font-size=\"14.00\" text-anchor=\"middle\" x=\"229\" y=\"-91.3\">(None, 10)</text>\n",
       "</g>\n",
       "<!-- 140555478369840&#45;&gt;140555478369336 -->\n",
       "<g class=\"edge\" id=\"edge1\"><title>140555478369840-&gt;140555478369336</title>\n",
       "<path d=\"M150.5,-166.366C150.5,-158.152 150.5,-148.658 150.5,-139.725\" fill=\"none\" stroke=\"black\"/>\n",
       "<polygon fill=\"black\" points=\"154,-139.607 150.5,-129.607 147,-139.607 154,-139.607\" stroke=\"black\"/>\n",
       "</g>\n",
       "<!-- 140555478369112 -->\n",
       "<g class=\"node\" id=\"node3\"><title>140555478369112</title>\n",
       "<polygon fill=\"none\" points=\"11,-0.5 11,-46.5 290,-46.5 290,-0.5 11,-0.5\" stroke=\"black\"/>\n",
       "<text font-family=\"Times,serif\" font-size=\"14.00\" text-anchor=\"middle\" x=\"85\" y=\"-19.8\">activation_1: Activation</text>\n",
       "<polyline fill=\"none\" points=\"159,-0.5 159,-46.5 \" stroke=\"black\"/>\n",
       "<text font-family=\"Times,serif\" font-size=\"14.00\" text-anchor=\"middle\" x=\"186.5\" y=\"-31.3\">input:</text>\n",
       "<polyline fill=\"none\" points=\"159,-23.5 214,-23.5 \" stroke=\"black\"/>\n",
       "<text font-family=\"Times,serif\" font-size=\"14.00\" text-anchor=\"middle\" x=\"186.5\" y=\"-8.3\">output:</text>\n",
       "<polyline fill=\"none\" points=\"214,-0.5 214,-46.5 \" stroke=\"black\"/>\n",
       "<text font-family=\"Times,serif\" font-size=\"14.00\" text-anchor=\"middle\" x=\"252\" y=\"-31.3\">(None, 10)</text>\n",
       "<polyline fill=\"none\" points=\"214,-23.5 290,-23.5 \" stroke=\"black\"/>\n",
       "<text font-family=\"Times,serif\" font-size=\"14.00\" text-anchor=\"middle\" x=\"252\" y=\"-8.3\">(None, 10)</text>\n",
       "</g>\n",
       "<!-- 140555478369336&#45;&gt;140555478369112 -->\n",
       "<g class=\"edge\" id=\"edge2\"><title>140555478369336-&gt;140555478369112</title>\n",
       "<path d=\"M150.5,-83.3664C150.5,-75.1516 150.5,-65.6579 150.5,-56.7252\" fill=\"none\" stroke=\"black\"/>\n",
       "<polygon fill=\"black\" points=\"154,-56.6068 150.5,-46.6068 147,-56.6069 154,-56.6068\" stroke=\"black\"/>\n",
       "</g>\n",
       "</g>\n",
       "</svg>"
      ],
      "text/plain": [
       "<IPython.core.display.SVG object>"
      ]
     },
     "execution_count": 5,
     "metadata": {},
     "output_type": "execute_result"
    }
   ],
   "source": [
    "from IPython.display import SVG, display\n",
    "from keras.utils.vis_utils import model_to_dot\n",
    "\n",
    "SVG(model_to_dot(model, show_shapes=True).create(prog='dot', format='svg'))"
   ]
  },
  {
   "cell_type": "code",
   "execution_count": 6,
   "metadata": {},
   "outputs": [
    {
     "name": "stdout",
     "output_type": "stream",
     "text": [
      "Train on 50000 samples, validate on 10000 samples\n",
      "Epoch 1/15\n",
      "50000/50000 [==============================] - 0s - loss: 1.4028 - acc: 0.6622 - val_loss: 0.8777 - val_acc: 0.8333\n",
      "Epoch 2/15\n",
      "50000/50000 [==============================] - 0s - loss: 0.7834 - acc: 0.8297 - val_loss: 0.6381 - val_acc: 0.8631\n",
      "Epoch 3/15\n",
      "50000/50000 [==============================] - 0s - loss: 0.6352 - acc: 0.8520 - val_loss: 0.5440 - val_acc: 0.8751\n",
      "Epoch 4/15\n",
      "50000/50000 [==============================] - 0s - loss: 0.5642 - acc: 0.8625 - val_loss: 0.4922 - val_acc: 0.8823\n",
      "Epoch 5/15\n",
      "50000/50000 [==============================] - 0s - loss: 0.5212 - acc: 0.8697 - val_loss: 0.4588 - val_acc: 0.8870\n",
      "Epoch 6/15\n",
      "50000/50000 [==============================] - 0s - loss: 0.4917 - acc: 0.8744 - val_loss: 0.4358 - val_acc: 0.8905\n",
      "Epoch 7/15\n",
      "50000/50000 [==============================] - 0s - loss: 0.4699 - acc: 0.8780 - val_loss: 0.4183 - val_acc: 0.8933\n",
      "Epoch 8/15\n",
      "50000/50000 [==============================] - 0s - loss: 0.4530 - acc: 0.8813 - val_loss: 0.4045 - val_acc: 0.8968\n",
      "Epoch 9/15\n",
      "50000/50000 [==============================] - 0s - loss: 0.4393 - acc: 0.8839 - val_loss: 0.3937 - val_acc: 0.8982\n",
      "Epoch 10/15\n",
      "50000/50000 [==============================] - 0s - loss: 0.4281 - acc: 0.8859 - val_loss: 0.3843 - val_acc: 0.9005\n",
      "Epoch 11/15\n",
      "50000/50000 [==============================] - 0s - loss: 0.4185 - acc: 0.8879 - val_loss: 0.3765 - val_acc: 0.9013\n",
      "Epoch 12/15\n",
      "50000/50000 [==============================] - 0s - loss: 0.4103 - acc: 0.8898 - val_loss: 0.3701 - val_acc: 0.9027\n",
      "Epoch 13/15\n",
      "50000/50000 [==============================] - 0s - loss: 0.4032 - acc: 0.8911 - val_loss: 0.3643 - val_acc: 0.9034\n",
      "Epoch 14/15\n",
      "50000/50000 [==============================] - 0s - loss: 0.3968 - acc: 0.8924 - val_loss: 0.3592 - val_acc: 0.9048\n",
      "Epoch 15/15\n",
      "50000/50000 [==============================] - 0s - loss: 0.3912 - acc: 0.8932 - val_loss: 0.3546 - val_acc: 0.9053\n"
     ]
    },
    {
     "data": {
      "text/plain": [
       "<keras.callbacks.History at 0x7fd591372668>"
      ]
     },
     "execution_count": 6,
     "metadata": {},
     "output_type": "execute_result"
    }
   ],
   "source": [
    "model.fit(train_X, train_Y, validation_data=(validation_X, validation_Y), batch_size=128, epochs=15)"
   ]
  },
  {
   "cell_type": "code",
   "execution_count": 7,
   "metadata": {},
   "outputs": [
    {
     "name": "stdout",
     "output_type": "stream",
     "text": [
      "20/20 [==============================] - 0s\n"
     ]
    },
    {
     "data": {
      "text/plain": [
       "array([7, 2, 1, 0, 4, 1, 4, 9, 6, 9, 0, 6, 9, 0, 1, 5, 9, 7, 3, 4])"
      ]
     },
     "execution_count": 7,
     "metadata": {},
     "output_type": "execute_result"
    }
   ],
   "source": [
    "# 預測看看 test_X 前 20 筆\n",
    "model.predict_classes(test_X[:20])"
   ]
  },
  {
   "cell_type": "code",
   "execution_count": 8,
   "metadata": {},
   "outputs": [
    {
     "data": {
      "text/plain": [
       "array([7, 2, 1, 0, 4, 1, 4, 9, 5, 9, 0, 6, 9, 0, 1, 5, 9, 7, 3, 4])"
      ]
     },
     "execution_count": 8,
     "metadata": {},
     "output_type": "execute_result"
    }
   ],
   "source": [
    "# 對答案\n",
    "test_y[:20]"
   ]
  },
  {
   "cell_type": "code",
   "execution_count": 9,
   "metadata": {},
   "outputs": [
    {
     "name": "stdout",
     "output_type": "stream",
     "text": [
      " 8384/10000 [========================>.....] - ETA: 0s"
     ]
    },
    {
     "data": {
      "text/plain": [
       "[0.36257555615901949, 0.9032]"
      ]
     },
     "execution_count": 9,
     "metadata": {},
     "output_type": "execute_result"
    }
   ],
   "source": [
    "# 看看 test accuracy\n",
    "model.evaluate(test_X, test_Y)"
   ]
  },
  {
   "cell_type": "markdown",
   "metadata": {},
   "source": [
    "## Q \n",
    "* 將 `optimizer` 換成 `\"adam\"`\n",
    "* 將 `optimizer` 換成 `keras.optimizers.SGD(lr=0.01, momentum=0.9, nesterov=True)`"
   ]
  },
  {
   "cell_type": "markdown",
   "metadata": {},
   "source": [
    "### 建立  convolutional model\n",
    "我們之前的網路架構\n",
    "* convolution 2d kernel=(3,3), filters=32\n",
    "* relu\n",
    "* max pool\n",
    "* convolution 2d kernel=(3,3), filters=64\n",
    "* relu\n",
    "* max pool\n",
    "* dense units=1024\n",
    "* relu\n",
    "* dropout (rate=0.8) # 先省略這一層\n",
    "* dense units = 10\n",
    "* softmax\n",
    "\n",
    "試著架出這樣的網路\n",
    "\n",
    "然後訓練看看\n",
    "\n",
    "開頭幾行可以這樣寫\n",
    "```python\n",
    "from keras.layers import Dense, Activation, Conv2D, MaxPool2D, Reshape\n",
    "model = Sequential()\n",
    "model.add(Reshape((28, 28, 1), input_shape=(784,) ))\n",
    "model.add(Conv2D(filters=32, kernel_size=(3,3), padding='same', activation=\"relu\"))\n",
    "```"
   ]
  },
  {
   "cell_type": "code",
   "execution_count": 10,
   "metadata": {},
   "outputs": [],
   "source": [
    "# 參考答案\n",
    "#%load q_keras_cnn.py"
   ]
  }
 ],
 "metadata": {
  "kernelspec": {
   "display_name": "Python 3",
   "language": "python",
   "name": "python3"
  },
  "language_info": {
   "codemirror_mode": {
    "name": "ipython",
    "version": 3
   },
   "file_extension": ".py",
   "mimetype": "text/x-python",
   "name": "python",
   "nbconvert_exporter": "python",
   "pygments_lexer": "ipython3",
   "version": "3.6.1"
  }
 },
 "nbformat": 4,
 "nbformat_minor": 1
}
