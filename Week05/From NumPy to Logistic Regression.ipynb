{
 "cells": [
  {
   "cell_type": "markdown",
   "metadata": {},
   "source": [
    "起手式，導入 numpy, matplotlib"
   ]
  },
  {
   "cell_type": "code",
   "execution_count": 1,
   "metadata": {
    "collapsed": false
   },
   "outputs": [],
   "source": [
    "from PIL import Image\n",
    "import numpy as np\n",
    "%matplotlib inline\n",
    "import matplotlib\n",
    "import matplotlib.pyplot as plt\n",
    "matplotlib.style.use('bmh')\n",
    "matplotlib.rcParams['figure.figsize']=(8,5)"
   ]
  },
  {
   "cell_type": "markdown",
   "metadata": {},
   "source": [
    "使用之前下載的 mnist 資料，載入訓練資料 `train_set`  和測試資料 `test_set`"
   ]
  },
  {
   "cell_type": "code",
   "execution_count": 2,
   "metadata": {
    "collapsed": false
   },
   "outputs": [],
   "source": [
    "import gzip\n",
    "import pickle\n",
    "with gzip.open('../Week02/mnist.pkl.gz', 'rb') as f:\n",
    "    train_set, validation_set, test_set = pickle.load(f, encoding='latin1')\n",
    "    \n",
    "train_X, train_y = train_set\n",
    "validation_X, validation_y = validation_set\n",
    "test_X, test_y = test_set"
   ]
  },
  {
   "cell_type": "markdown",
   "metadata": {},
   "source": [
    "之前的看圖片函數"
   ]
  },
  {
   "cell_type": "code",
   "execution_count": 3,
   "metadata": {
    "collapsed": false
   },
   "outputs": [
    {
     "data": {
      "image/png": "[encoded data removed]",
      "text/plain": [
       "<PIL.Image.Image image mode=L size=560x28 at 0x7F324F033B38>"
      ]
     },
     "metadata": {},
     "output_type": "display_data"
    }
   ],
   "source": [
    "from IPython.display import display\n",
    "def showX(X):\n",
    "    int_X = (X*255).clip(0,255).astype('uint8')\n",
    "    # N*784 -> N*28*28 -> 28*N*28 -> 28 * 28N\n",
    "    int_X_reshape = int_X.reshape(-1,28,28).swapaxes(0,1).reshape(28,-1)\n",
    "    display(Image.fromarray(int_X_reshape))\n",
    "# 訓練資料， X 的前 20 筆\n",
    "showX(train_X[:20])"
   ]
  },
  {
   "cell_type": "markdown",
   "metadata": {},
   "source": [
    "train_set 是用來訓練我們的模型用的\n",
    "\n",
    "我們的模型是很簡單的 logistic regression 模型，用到的參數只有一個 784x10 的矩陣 W 和一個長度 10 的向量 b。\n",
    "\n",
    "我們先用均勻隨機亂數來設定 W 和 b 。 "
   ]
  },
  {
   "cell_type": "code",
   "execution_count": 4,
   "metadata": {
    "collapsed": false
   },
   "outputs": [],
   "source": [
    "W = np.random.uniform(low=-1, high=1, size=(28*28,10))\n",
    "b = np.random.uniform(low=-1, high=1, size=10)\n"
   ]
  },
  {
   "cell_type": "markdown",
   "metadata": {},
   "source": [
    "完整的模型如下\n",
    "將圖片看成是長度 784 的向量 x\n",
    "\n",
    "計算 Wx+b， 然後再取 exp。 最後得到的十個數值。將這些數值除以他們的總和。\n",
    "我們希望出來的數字會符合這張圖片是這個數字的機率。\n",
    "\n",
    "# $softmax_i(W x + b)  = \\frac {e^{W_i x + b_i}} {\\sum_j e^{W_j x + b_j}}$\n"
   ]
  },
  {
   "cell_type": "markdown",
   "metadata": {},
   "source": [
    "先拿第一筆資料試試看， x 是輸入。 y 是這張圖片對應到的數字(以這個例子來說 y=5)。"
   ]
  },
  {
   "cell_type": "code",
   "execution_count": 5,
   "metadata": {
    "collapsed": false
   },
   "outputs": [
    {
     "data": {
      "image/png": "[encoded data removed]",
      "text/plain": [
       "<PIL.Image.Image image mode=L size=28x28 at 0x7F324F033400>"
      ]
     },
     "metadata": {},
     "output_type": "display_data"
    },
    {
     "data": {
      "text/plain": [
       "5"
      ]
     },
     "execution_count": 5,
     "metadata": {},
     "output_type": "execute_result"
    }
   ],
   "source": [
    "x = train_X[0]\n",
    "y = train_y[0]\n",
    "showX(x)\n",
    "y"
   ]
  },
  {
   "cell_type": "markdown",
   "metadata": {},
   "source": [
    "先計算 $e^{Wx+b} $"
   ]
  },
  {
   "cell_type": "code",
   "execution_count": 6,
   "metadata": {
    "collapsed": false
   },
   "outputs": [
    {
     "data": {
      "text/plain": [
       "(10,)"
      ]
     },
     "execution_count": 6,
     "metadata": {},
     "output_type": "execute_result"
    }
   ],
   "source": [
    "Pr = np.exp(x @ W + b)\n",
    "Pr.shape"
   ]
  },
  {
   "cell_type": "markdown",
   "metadata": {},
   "source": [
    "然後 normalize，讓總和變成 1 （符合機率的意義）"
   ]
  },
  {
   "cell_type": "code",
   "execution_count": 7,
   "metadata": {
    "collapsed": false
   },
   "outputs": [
    {
     "data": {
      "text/plain": [
       "array([  4.13597432e-03,   2.73477703e-01,   6.76290467e-02,\n",
       "         2.78693575e-04,   8.96048522e-07,   5.91818687e-03,\n",
       "         3.97837670e-07,   5.60042201e-01,   3.35430931e-07,\n",
       "         8.85165647e-02])"
      ]
     },
     "execution_count": 7,
     "metadata": {},
     "output_type": "execute_result"
    }
   ],
   "source": [
    "Pr = Pr/Pr.sum()\n",
    "Pr"
   ]
  },
  {
   "cell_type": "markdown",
   "metadata": {},
   "source": [
    "由於 W 和 b 都是隨機設定的，所以上面我們算出的機率也是隨機的。\n",
    "\n",
    "正確解是 y=5， 運氣好友可能猜中\n",
    "\n",
    "為了要評斷我們的預測的品質，要設計一個評斷誤差的方式，我們用的方法如下（不是常見的方差，而是用熵的方式來算，好處是容易微分，效果好）"
   ]
  },
  {
   "cell_type": "markdown",
   "metadata": {},
   "source": [
    "\n",
    "\n",
    "# $ error = - \\log(P(Y=y^{(i)}|x^{(i)}, W,b)) $\n"
   ]
  },
  {
   "cell_type": "markdown",
   "metadata": {},
   "source": [
    "上述的誤差評分方式，常常稱作 error 或者 loss，數學式可能有點費解。實際計算其實很簡單，就是下面的式子"
   ]
  },
  {
   "cell_type": "code",
   "execution_count": 8,
   "metadata": {
    "collapsed": false
   },
   "outputs": [
    {
     "data": {
      "text/plain": [
       "5.1297251493431553"
      ]
     },
     "execution_count": 8,
     "metadata": {},
     "output_type": "execute_result"
    }
   ],
   "source": [
    "loss = -np.log(Pr[y])\n",
    "loss"
   ]
  },
  {
   "cell_type": "markdown",
   "metadata": {},
   "source": [
    "### 想辦法改進。 \n",
    "我們用一種被稱作是 gradient descent 的方式來改善我們的誤差。\n",
    "\n",
    "因為我們知道 gradient 是讓函數上升最快的方向。所以我們如果朝 gradient 的反方向走一點點（也就是下降最快的方向），那麼得到的函數值應該會小一點。\n",
    "\n",
    "記得我們的變數是 W 和 b (裡面總共有 28*20+10 個變數)，所以我們要把 loss 對 W 和 b 裡面的每一個參數來偏微分。\n",
    "\n",
    "還好這個偏微分是可以用手算出他的形式，而最後偏微分的式子也不會很複雜。\n",
    "\n",
    "對 b 的偏微分如下"
   ]
  },
  {
   "cell_type": "code",
   "execution_count": 9,
   "metadata": {
    "collapsed": false
   },
   "outputs": [
    {
     "name": "stdout",
     "output_type": "stream",
     "text": [
      "[  4.13597432e-03   2.73477703e-01   6.76290467e-02   2.78693575e-04\n",
      "   8.96048522e-07  -9.94081813e-01   3.97837670e-07   5.60042201e-01\n",
      "   3.35430931e-07   8.85165647e-02]\n"
     ]
    }
   ],
   "source": [
    "gradb = Pr.copy()\n",
    "gradb[y] -= 1\n",
    "print(gradb)"
   ]
  },
  {
   "cell_type": "markdown",
   "metadata": {},
   "source": [
    "對 W 的偏微分也不難"
   ]
  },
  {
   "cell_type": "code",
   "execution_count": 10,
   "metadata": {
    "collapsed": false
   },
   "outputs": [
    {
     "name": "stdout",
     "output_type": "stream",
     "text": [
      "(10,) (784,) (784, 10)\n"
     ]
    }
   ],
   "source": [
    "print(Pr.shape, x.shape, W.shape)\n",
    "gradW = x.reshape(784,1) @ Pr.reshape(1,10)\n",
    "gradW[:, y] -= x"
   ]
  },
  {
   "cell_type": "markdown",
   "metadata": {},
   "source": [
    "算好 gradient 後，讓 W 和 b 分別往 gradient 反方向走一點點，得到新的 W 和 b"
   ]
  },
  {
   "cell_type": "code",
   "execution_count": 11,
   "metadata": {
    "collapsed": false
   },
   "outputs": [],
   "source": [
    "W -= 0.1 * gradW\n",
    "b -= 0.1 * gradb"
   ]
  },
  {
   "cell_type": "markdown",
   "metadata": {},
   "source": [
    "再一次計算 Pr 以及 loss"
   ]
  },
  {
   "cell_type": "code",
   "execution_count": 12,
   "metadata": {
    "collapsed": false
   },
   "outputs": [
    {
     "data": {
      "text/plain": [
       "0.0019717780667706259"
      ]
     },
     "execution_count": 12,
     "metadata": {},
     "output_type": "execute_result"
    }
   ],
   "source": [
    "Pr = np.exp(x @ W + b)\n",
    "Pr = Pr/Pr.sum()\n",
    "loss = -np.log(Pr[y])\n",
    "loss"
   ]
  },
  {
   "cell_type": "markdown",
   "metadata": {},
   "source": [
    "### Q\n",
    "* 看看 Pr ， 然後找出機率最大者， predict y 值\n",
    "* 再跑一遍上面程序，看看誤差是否變小？\n",
    "* 拿其他的測試資料來看看，我們的 W, b 學到了什麼？"
   ]
  },
  {
   "cell_type": "markdown",
   "metadata": {},
   "source": [
    "我們將同樣的方式輪流對五萬筆訓練資料來做，看看情形會如何"
   ]
  },
  {
   "cell_type": "code",
   "execution_count": 13,
   "metadata": {
    "collapsed": false
   },
   "outputs": [
    {
     "name": "stdout",
     "output_type": "stream",
     "text": [
      "0 0.000%\n",
      "50000 87.033%\n",
      "100000 89.231%\n",
      "150000 90.166%\n",
      "200000 90.567%\n",
      "250000 91.114%\n",
      "300000 91.532%\n",
      "350000 91.562%\n",
      "400000 91.642%\n",
      "450000 91.493%\n",
      "500000 91.567%\n",
      "550000 91.601%\n",
      "600000 91.600%\n",
      "650000 91.647%\n",
      "700000 91.677%\n",
      "750000 91.723%\n",
      "800000 91.835%\n",
      "850000 91.838%\n",
      "900000 91.789%\n",
      "950000 91.733%\n"
     ]
    }
   ],
   "source": [
    "W = np.random.uniform(low=-1, high=1, size=(28*28,10))\n",
    "b = np.random.uniform(low=-1, high=1, size=10)\n",
    "score = 0\n",
    "N=50000*20\n",
    "d = 0.001\n",
    "learning_rate = 1e-2\n",
    "for i in range(N):\n",
    "    if i%50000==0:\n",
    "        print(i, \"%5.3f%%\"%(score*100))\n",
    "    x = train_X[i%50000]\n",
    "    y = train_y[i%50000]\n",
    "    Pr = np.exp( x @ W +b)\n",
    "    Pr = Pr/Pr.sum()\n",
    "    loss = -np.log(Pr[y])\n",
    "    score *=(1-d)\n",
    "    if Pr.argmax() == y:\n",
    "        score += d\n",
    "    gradb = Pr.copy()\n",
    "    gradb[y] -= 1\n",
    "    gradW = x.reshape(784,1) @ Pr.reshape(1,10)\n",
    "    gradW[:, y] -= x\n",
    "    W -= learning_rate * gradW\n",
    "    b -= learning_rate * gradb\n",
    "    "
   ]
  },
  {
   "cell_type": "markdown",
   "metadata": {},
   "source": [
    "結果發現正確率大約是 92%， 但這是對訓練資料而不是對測試資料\n",
    "\n",
    "而且，一筆一筆的訓練資也有點慢，線性代數的特點就是能夠向量運算。如果把很多筆 $x$ 當成列向量組合成一個矩陣（然後叫做 $X$），由於矩陣乘法的原理，我們還是一樣計算 $WX+b$ ， 就可以同時得到多筆結果。\n",
    "\n",
    "下面的函數，可以一次輸入多筆 $x$， 同時一次計算多筆 $x$ 的結果和準確率。"
   ]
  },
  {
   "cell_type": "code",
   "execution_count": 14,
   "metadata": {
    "collapsed": true
   },
   "outputs": [],
   "source": [
    "def compute_Pr(X):\n",
    "    Pr = np.exp(X @ W + b)\n",
    "    return Pr/Pr.sum(axis=1, keepdims=True)\n",
    "def compute_accuracy(Pr, y):\n",
    "    return (Pr.argmax(axis=1)==y).mean()"
   ]
  },
  {
   "cell_type": "markdown",
   "metadata": {},
   "source": [
    "下面是更新過得訓練過程， 當 i%100000 時，順便計算一下 test accuracy 和 valid accuracy。"
   ]
  },
  {
   "cell_type": "code",
   "execution_count": 15,
   "metadata": {
    "collapsed": false,
    "scrolled": false
   },
   "outputs": [
    {
     "name": "stdout",
     "output_type": "stream",
     "text": [
      "0 12.38% 12.70%\n",
      "100000 84.69% 84.26%\n",
      "200000 87.28% 87.16%\n",
      "300000 88.56% 88.37%\n",
      "400000 89.25% 89.03%\n",
      "500000 89.60% 89.71%\n",
      "600000 90.14% 90.14%\n",
      "700000 90.29% 90.41%\n",
      "800000 90.58% 90.57%\n",
      "900000 90.62% 90.76%\n",
      "1000000 90.67% 91.04%\n",
      "1100000 90.85% 91.27%\n",
      "1200000 91.06% 91.37%\n",
      "1300000 91.05% 91.47%\n",
      "1400000 91.10% 91.51%\n",
      "1500000 91.22% 91.68%\n",
      "1600000 91.32% 91.79%\n",
      "1700000 91.36% 91.80%\n",
      "1800000 91.63% 91.83%\n",
      "1900000 91.64% 91.80%\n",
      "2000000 91.43% 92.00%\n",
      "2100000 91.49% 92.05%\n",
      "2200000 91.58% 92.00%\n",
      "2300000 91.64% 92.15%\n",
      "2400000 91.78% 92.21%\n",
      "2500000 91.62% 92.20%\n",
      "2600000 91.67% 92.15%\n",
      "2700000 91.89% 92.34%\n",
      "2800000 91.88% 92.33%\n",
      "2900000 91.77% 92.31%\n",
      "3000000 91.89% 92.50%\n",
      "3100000 92.00% 92.43%\n",
      "3200000 91.95% 92.46%\n",
      "3300000 91.88% 92.43%\n",
      "3400000 92.20% 92.58%\n",
      "3500000 91.94% 92.62%\n",
      "3600000 92.04% 92.67%\n",
      "3700000 92.02% 92.60%\n",
      "3800000 92.06% 92.67%\n",
      "3900000 91.95% 92.71%\n",
      "4000000 92.11% 92.67%\n",
      "4100000 92.08% 92.73%\n",
      "4200000 92.01% 92.76%\n",
      "4300000 92.14% 92.79%\n",
      "4400000 92.16% 92.82%\n",
      "4500000 92.19% 92.80%\n",
      "4600000 92.03% 92.70%\n",
      "4700000 92.26% 92.91%\n",
      "4800000 92.12% 92.82%\n",
      "4900000 92.25% 92.91%\n"
     ]
    }
   ],
   "source": [
    "W = np.random.uniform(low=-1, high=1, size=(28*28,10))\n",
    "b = np.random.uniform(low=-1, high=1, size=10)\n",
    "score = 0\n",
    "N=50000*100\n",
    "batch_size = 500\n",
    "learning_rate = 0.5\n",
    "for i in range(0, N, batch_size):\n",
    "    if i%100000==0:        \n",
    "        test_score = compute_accuracy(compute_Pr(test_X), test_y)*100        \n",
    "        train_score = compute_accuracy(compute_Pr(train_X), train_y)*100\n",
    "        print(i, \"%5.2f%%\"%test_score, \"%5.2f%%\"%train_score)\n",
    "    # 隨機選出一些訓練資料出來\n",
    "    rndidx = np.random.choice(train_X.shape[0], batch_size, replace=False)\n",
    "    X, y  = train_X[rndidx], train_y[rndidx]\n",
    "    # 一次計算所有的 Pr\n",
    "    Pr = compute_Pr(X)\n",
    "    # 計算平均 gradient \n",
    "    gradb = Pr.mean(axis=0)-[(y==i).mean() for i in range(10)]\n",
    "    gradW = X.T @ Pr  \n",
    "    for i in range(batch_size):\n",
    "        gradW[:, y[i]] -= X[i]\n",
    "    gradW /= batch_size\n",
    "    # 更新 W 和 b\n",
    "    W -= learning_rate * gradW\n",
    "    b -= learning_rate * gradb"
   ]
  },
  {
   "cell_type": "markdown",
   "metadata": {},
   "source": [
    "最後得到的準確率是 92%-93%\n",
    "\n",
    "不算完美，不過畢竟這只有一個矩陣而已。"
   ]
  },
  {
   "cell_type": "markdown",
   "metadata": {},
   "source": [
    "光看數據沒感覺，我們來看看前十筆測試資料跑起來的情形\n",
    "\n",
    "可以看到前十筆只有錯一個"
   ]
  },
  {
   "cell_type": "code",
   "execution_count": 16,
   "metadata": {
    "collapsed": false
   },
   "outputs": [
    {
     "name": "stdout",
     "output_type": "stream",
     "text": [
      "7 7\n"
     ]
    },
    {
     "data": {
      "image/png": "[encoded data removed]",
      "text/plain": [
       "<PIL.Image.Image image mode=L size=28x28 at 0x7F32459BC0F0>"
      ]
     },
     "metadata": {},
     "output_type": "display_data"
    },
    {
     "name": "stdout",
     "output_type": "stream",
     "text": [
      "2 2\n"
     ]
    },
    {
     "data": {
      "image/png": "[encoded data removed]",
      "text/plain": [
       "<PIL.Image.Image image mode=L size=28x28 at 0x7F32459BC208>"
      ]
     },
     "metadata": {},
     "output_type": "display_data"
    },
    {
     "name": "stdout",
     "output_type": "stream",
     "text": [
      "1 1\n"
     ]
    },
    {
     "data": {
      "image/png": "[encoded data removed]",
      "text/plain": [
       "<PIL.Image.Image image mode=L size=28x28 at 0x7F32459BC390>"
      ]
     },
     "metadata": {},
     "output_type": "display_data"
    },
    {
     "name": "stdout",
     "output_type": "stream",
     "text": [
      "0 0\n"
     ]
    },
    {
     "data": {
      "image/png": "[encoded data removed]",
      "text/plain": [
       "<PIL.Image.Image image mode=L size=28x28 at 0x7F32459BC2B0>"
      ]
     },
     "metadata": {},
     "output_type": "display_data"
    },
    {
     "name": "stdout",
     "output_type": "stream",
     "text": [
      "4 4\n"
     ]
    },
    {
     "data": {
      "image/png": "[encoded data removed]",
      "text/plain": [
       "<PIL.Image.Image image mode=L size=28x28 at 0x7F32459BC160>"
      ]
     },
     "metadata": {},
     "output_type": "display_data"
    },
    {
     "name": "stdout",
     "output_type": "stream",
     "text": [
      "1 1\n"
     ]
    },
    {
     "data": {
      "image/png": "[encoded data removed]",
      "text/plain": [
       "<PIL.Image.Image image mode=L size=28x28 at 0x7F32459BC0F0>"
      ]
     },
     "metadata": {},
     "output_type": "display_data"
    },
    {
     "name": "stdout",
     "output_type": "stream",
     "text": [
      "4 4\n"
     ]
    },
    {
     "data": {
      "image/png": "[encoded data removed]",
      "text/plain": [
       "<PIL.Image.Image image mode=L size=28x28 at 0x7F32459BC208>"
      ]
     },
     "metadata": {},
     "output_type": "display_data"
    },
    {
     "name": "stdout",
     "output_type": "stream",
     "text": [
      "9 9\n"
     ]
    },
    {
     "data": {
      "image/png": "[encoded data removed]",
      "text/plain": [
       "<PIL.Image.Image image mode=L size=28x28 at 0x7F32459BC390>"
      ]
     },
     "metadata": {},
     "output_type": "display_data"
    },
    {
     "name": "stdout",
     "output_type": "stream",
     "text": [
      "6 5\n"
     ]
    },
    {
     "data": {
      "image/png": "[encoded data removed]",
      "text/plain": [
       "<PIL.Image.Image image mode=L size=28x28 at 0x7F32459BC2B0>"
      ]
     },
     "metadata": {},
     "output_type": "display_data"
    },
    {
     "name": "stdout",
     "output_type": "stream",
     "text": [
      "9 9\n"
     ]
    },
    {
     "data": {
      "image/png": "[encoded data removed]",
      "text/plain": [
       "<PIL.Image.Image image mode=L size=28x28 at 0x7F32459BC160>"
      ]
     },
     "metadata": {},
     "output_type": "display_data"
    }
   ],
   "source": [
    "Pr = compute_Pr(test_X[:10])\n",
    "pred_y =Pr.argmax(axis=1)\n",
    "for i in range(10):\n",
    "    print(pred_y[i], test_y[i])\n",
    "    showX(test_X[i])"
   ]
  },
  {
   "cell_type": "markdown",
   "metadata": {},
   "source": [
    "看看前一百筆資料中，是哪些情況算錯"
   ]
  },
  {
   "cell_type": "code",
   "execution_count": 17,
   "metadata": {
    "collapsed": false
   },
   "outputs": [
    {
     "name": "stdout",
     "output_type": "stream",
     "text": [
      "6 5\n"
     ]
    },
    {
     "data": {
      "image/png": "[encoded data removed]",
      "text/plain": [
       "<PIL.Image.Image image mode=L size=28x28 at 0x7F32459BC9B0>"
      ]
     },
     "metadata": {},
     "output_type": "display_data"
    },
    {
     "name": "stdout",
     "output_type": "stream",
     "text": [
      "0 4\n"
     ]
    },
    {
     "data": {
      "image/png": "[encoded data removed]",
      "text/plain": [
       "<PIL.Image.Image image mode=L size=28x28 at 0x7F32459BCA58>"
      ]
     },
     "metadata": {},
     "output_type": "display_data"
    },
    {
     "name": "stdout",
     "output_type": "stream",
     "text": [
      "2 3\n"
     ]
    },
    {
     "data": {
      "image/png": "[encoded data removed]",
      "text/plain": [
       "<PIL.Image.Image image mode=L size=28x28 at 0x7F32459BC978>"
      ]
     },
     "metadata": {},
     "output_type": "display_data"
    },
    {
     "name": "stdout",
     "output_type": "stream",
     "text": [
      "7 6\n"
     ]
    },
    {
     "data": {
      "image/png": "[encoded data removed]",
      "text/plain": [
       "<PIL.Image.Image image mode=L size=28x28 at 0x7F32459BC9B0>"
      ]
     },
     "metadata": {},
     "output_type": "display_data"
    }
   ],
   "source": [
    "Pr = compute_Pr(test_X[:100])\n",
    "pred_y = Pr.argmax(axis=1)\n",
    "for i in range(100):\n",
    "    if pred_y[i] != test_y[i]:\n",
    "        print(pred_y[i], test_y[i])\n",
    "        showX(test_X[i])"
   ]
  }
 ],
 "metadata": {
  "kernelspec": {
   "display_name": "Python 3",
   "language": "python",
   "name": "python3"
  },
  "language_info": {
   "codemirror_mode": {
    "name": "ipython",
    "version": 3
   },
   "file_extension": ".py",
   "mimetype": "text/x-python",
   "name": "python",
   "nbconvert_exporter": "python",
   "pygments_lexer": "ipython3",
   "version": "3.5.2+"
  }
 },
 "nbformat": 4,
 "nbformat_minor": 0
}
