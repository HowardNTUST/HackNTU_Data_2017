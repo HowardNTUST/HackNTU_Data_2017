{
 "cells": [
  {
   "cell_type": "code",
   "execution_count": null,
   "metadata": {
    "collapsed": true
   },
   "outputs": [],
   "source": [
    "# 假的 autopy, 我們暫時用不到\n",
    "with open('autopy.py', 'w') as f:\n",
    "    pass"
   ]
  },
  {
   "cell_type": "code",
   "execution_count": null,
   "metadata": {
    "collapsed": false
   },
   "outputs": [],
   "source": [
    "import spynner\n",
    "import os, sys\n",
    "from IPython.display import display, Image"
   ]
  },
  {
   "cell_type": "code",
   "execution_count": null,
   "metadata": {
    "collapsed": false
   },
   "outputs": [],
   "source": [
    "# 用 spynner 打開瀏覽器\n",
    "browser = spynner.Browser(debug_level=spynner.ERROR, debug_stream=sys.stderr)\n",
    "browser.show() # 告訴  browser，要它之後不要隱身\n",
    "# 為了避免法律上的疑慮，這裡你要自己找到適當的 url，把 ???? 換掉\n",
    "base_url = 'http://v.?????bus.com/online/comic-7340.html?ch='  \n",
    "browser.load( base_url+'54')"
   ]
  },
  {
   "cell_type": "markdown",
   "metadata": {},
   "source": [
    "找出圖片的網址"
   ]
  },
  {
   "cell_type": "code",
   "execution_count": null,
   "metadata": {
    "collapsed": false
   },
   "outputs": [],
   "source": [
    "browser.load_jquery(True)   #  spynner 內建有 jquery，用這個 method 載入，比較方便。\n",
    "img_url = browser.runjs('$(\"#TheImg\").attr(\"src\")')\n",
    "print(img_url)\n",
    "Image(img_url, width=200)"
   ]
  },
  {
   "cell_type": "code",
   "execution_count": null,
   "metadata": {
    "collapsed": false
   },
   "outputs": [],
   "source": [
    "# 當然不用 jquery 也可以\n",
    "browser.runjs('document.getElementById(\"TheImg\").getAttribute(\"src\")')"
   ]
  },
  {
   "cell_type": "markdown",
   "metadata": {},
   "source": [
    "### Q\n",
    "直接用 urlopen 來找找看圖片網址"
   ]
  },
  {
   "cell_type": "markdown",
   "metadata": {},
   "source": [
    "有了網址, 可以用 urllib 抓下來。 也可以用 spynner 來抓。"
   ]
  },
  {
   "cell_type": "code",
   "execution_count": null,
   "metadata": {
    "collapsed": false
   },
   "outputs": [],
   "source": [
    "img_data = browser.download(img_url) # jpg 檔案內容\n",
    "with open(\"cover.jpg\", 'wb') as jpg_file:\n",
    "    jpg_file.write(img_data)\n",
    "Image(data=img_data, width=200)"
   ]
  },
  {
   "cell_type": "markdown",
   "metadata": {},
   "source": [
    "如何換頁?"
   ]
  },
  {
   "cell_type": "code",
   "execution_count": null,
   "metadata": {
    "collapsed": false
   },
   "outputs": [],
   "source": [
    "#總共頁數\n",
    "total_pages = int(browser.runjs('ps'))\n",
    "total_pages"
   ]
  },
  {
   "cell_type": "markdown",
   "metadata": {},
   "source": [
    "開始回圈來抓圖吧"
   ]
  },
  {
   "cell_type": "code",
   "execution_count": null,
   "metadata": {
    "collapsed": false
   },
   "outputs": [],
   "source": [
    "book_no = 54\n",
    "for page in range(1, 1+total_pages):\n",
    "    browser.load(\"{}{}-{}\".format(base_url, book_no, page))\n",
    "    img_url = browser.runjs('document.getElementById(\"TheImg\").getAttribute(\"src\")')\n",
    "    print(page, img_url)\n",
    "    with open(\"{}-{}.jpg\".format(book_no, page), \"wb\") as f:\n",
    "        browser.download(img_url, outfd=f)\n",
    "        print(\"File saved in\", os.getcwd())"
   ]
  },
  {
   "cell_type": "markdown",
   "metadata": {},
   "source": [
    "### 已經可以抓了，還有什麼問題？\n",
    "\n",
    "* browser 瀏覽頁面時，已經顯示圖了。之後，又再 download 一次，浪費頻寬。\n",
    "* 介面不夠美觀，無法看到進度。\n",
    "\n",
    "### 頻寬問題\n",
    "\n",
    "概念上，有兩個方向。 一是既然 browser 顯示了圖片，表示 browser 有這份圖，我們跟 browser 要就好了。另一個剛好相反，告訴瀏覽器，不要顯示圖片，把圖片的 url 交給我們即可。\n",
    "這兩個方向各有利弊，以現在這個應用來說，我選擇第二個。原因有三：\n",
    "\n",
    "* QtWebKit 有選項讓你這樣做。 \n",
    "* 這樣可行。 browser 仍然會傳回正確的圖片 url。 \n",
    "* 可以順便擋住廣告圖片。"
   ]
  },
  {
   "cell_type": "code",
   "execution_count": null,
   "metadata": {
    "collapsed": false
   },
   "outputs": [],
   "source": [
    "from PySide.QtWebKit import QWebSettings # 用來設定 QtWebKit\n",
    "# 利用\n",
    "import ipywidgets as W \n"
   ]
  },
  {
   "cell_type": "code",
   "execution_count": null,
   "metadata": {
    "collapsed": false
   },
   "outputs": [],
   "source": [
    "# 設定不自動顯示圖片\n",
    "settings = browser.webview.settings()\n",
    "settings.setAttribute(QWebSettings.AutoLoadImages, False)"
   ]
  },
  {
   "cell_type": "code",
   "execution_count": null,
   "metadata": {
    "collapsed": false
   },
   "outputs": [],
   "source": [
    "# 可以看到瀏覽器並不會讀進圖片\n",
    "total_pages = int(browser.runjs('ps'))\n",
    "for page in range(1, 1+10):\n",
    "    browser.load(\"{}{}-{}\".format(base_url, book_no, page))\n",
    "    img_url = browser.runjs('document.getElementById(\"TheImg\").getAttribute(\"src\")')\n",
    "    print(page, img_url)"
   ]
  },
  {
   "cell_type": "markdown",
   "metadata": {},
   "source": [
    "現在來建立一個介面"
   ]
  },
  {
   "cell_type": "code",
   "execution_count": null,
   "metadata": {
    "collapsed": false
   },
   "outputs": [],
   "source": [
    "# 建立 Image Widget 用來顯示圖片預覽\n",
    "img = W.Image()\n",
    "img.width = 300\n",
    "# 顯示下載進度的 Progress bar\n",
    "progress = W.IntProgress(min=1, value=1, max=total_pages)\n",
    "display(img)\n",
    "display(progress)\n",
    "dir_name = os.path.join(\"download\", \"{:02d}\".format(book_no))\n",
    "if not os.path.exists(dir_name):\n",
    "            os.makedirs(dir_name) \n",
    "print(\"Download to {}\".format(os.path.join(os.getcwd(), dir_name)))\n",
    "sys.stdout.flush()\n",
    "\n",
    "# 開始下載\n",
    "for page in range(1, total_pages+1):\n",
    "    # 取得 image url\n",
    "    browser.load(\"{}{}-{}\".format(base_url, book_no, page))\n",
    "    img_url = browser.runjs('document.getElementById(\"TheImg\").getAttribute(\"src\")')\n",
    "    # 下載圖片\n",
    "    fn = os.path.join(dir_name, \"{:03d}.jpg\".format(page))\n",
    "    with open(fn, \"wb\") as f:\n",
    "        browser.download(img_url, outfd=f)\n",
    "    \n",
    "    # 更新 Widget 的狀態\n",
    "    progress.description = \"%d/%d\"%(page, total_pages)\n",
    "    progress.value = page\n",
    "    img.value = Image(filename=fn).data"
   ]
  },
  {
   "cell_type": "markdown",
   "metadata": {},
   "source": [
    "擋掉更多廣告"
   ]
  },
  {
   "cell_type": "code",
   "execution_count": null,
   "metadata": {
    "collapsed": true
   },
   "outputs": [],
   "source": [
    "from PySide.QtNetwork import QNetworkAccessManager, QNetworkRequest # 控制 browser 的網路連線\n",
    "from PySide.QtCore import QUrl # Qt 的 Url 類別"
   ]
  },
  {
   "cell_type": "code",
   "execution_count": null,
   "metadata": {
    "collapsed": true
   },
   "outputs": [],
   "source": [
    "# 關掉之前的 browser\n",
    "browser.close()"
   ]
  },
  {
   "cell_type": "code",
   "execution_count": null,
   "metadata": {
    "collapsed": true
   },
   "outputs": [],
   "source": [
    "browser = spynner.Browser(debug_level=spynner.ERROR, debug_stream=sys.stderr)\n",
    "\n",
    "# 建立一個 webview\n",
    "# 我們不設定 AutoLoadImages=False, 但增加一些其他設定\n",
    "# 這裡並不是重點，但適合我們的應用\n",
    "browser.create_webview()\n",
    "settings = browser.webview.settings()\n",
    "# settings.setAttribute(QWebSettings.AutoLoadImages, False)\n",
    "settings.setAttribute(QWebSettings.JavaEnabled, False)        # 不需要  Java\n",
    "settings.setAttribute(QWebSettings.DnsPrefetchEnabled, True)  # 試著節省 Dns 花的時間\n",
    "settings.setAttribute(QWebSettings.PrivateBrowsingEnabled, True) # 不需要瀏覽紀錄"
   ]
  },
  {
   "cell_type": "code",
   "execution_count": null,
   "metadata": {
    "collapsed": false
   },
   "outputs": [],
   "source": [
    "# 建立一個空的  url\n",
    "BLANK_REQUEST = QNetworkRequest(QUrl())\n",
    "# 建立一個空的圖片 url\n",
    "DUMMY_IMG_REQUEST = QNetworkRequest(QUrl(\"data:image/gif;base64,R0lGODlhAQABAIAAAP///wAAACwAAAAAAQABAAACAkQBADs=\"))\n",
    "\n",
    "# 因為只需要用一次，可以取個又臭又長的名字\n",
    "class EightComicNetworkAccessManager(QNetworkAccessManager):\n",
    "    # 只需要取代  createRequest 這個 method 即可 \n",
    "    def createRequest(self, op, request, device=None):        \n",
    "        url = str(request.url().toString()) # 參數很多，但只取 url 就夠用        \n",
    "        if 'comic' not in url[:20]: \n",
    "            # 用很醜的方式來判斷非 8comic 網站的 url \n",
    "            # 用空的 url  取代原本的 url\n",
    "            return QNetworkAccessManager.createRequest(self, self.GetOperation, BLANK_REQUEST)\n",
    "        elif not url.endswith('js') and not url.endswith('css') and '.html' not in url:\n",
    "            # 凡是  .js .css .html 之外的，都用空的圖片 url  取代原本的 url\n",
    "            return QNetworkAccessManager.createRequest(self, self.GetOperation, DUMMY_IMG_REQUEST)\n",
    "        else:\n",
    "            # 傳回原本的 url\n",
    "            return QNetworkAccessManager.createRequest(self, op, request, device)\n",
    "\n",
    "# 設定  browser 的 NetworkAccessManager\n",
    "browser.webpage.setNetworkAccessManager(EightComicNetworkAccessManager())"
   ]
  },
  {
   "cell_type": "code",
   "execution_count": null,
   "metadata": {
    "collapsed": true
   },
   "outputs": [],
   "source": [
    "browser.show()\n",
    "browser.load(base_url+str(book_no))\n",
    "total_pages = int(browser.runjs('ps')) "
   ]
  },
  {
   "cell_type": "code",
   "execution_count": null,
   "metadata": {
    "collapsed": false
   },
   "outputs": [],
   "source": [
    "%%timeit -n 1 -r 1\n",
    "# 建立 Image Widget 用來顯示圖片預覽\n",
    "img = W.Image()\n",
    "img.width = 300\n",
    "# 顯示下載進度的 Progress bar\n",
    "progress = W.IntProgress(min=1, value=1, max=total_pages)\n",
    "display(img)\n",
    "display(progress)\n",
    "dir_name = os.path.join(\"download\", \"{:02d}\".format(book_no))\n",
    "if not os.path.exists(dir_name):\n",
    "            os.makedirs(dir_name) \n",
    "print(\"Download to {}\".format(os.path.join(os.getcwd(), dir_name)))\n",
    "sys.stdout.flush()\n",
    "\n",
    "# 開始下載\n",
    "for page in range(1, total_pages+1):\n",
    "    # 取得 image url\n",
    "    browser.load(\"{}{}-{}\".format(base_url, book_no, page))\n",
    "    img_url = browser.runjs('document.getElementById(\"TheImg\").getAttribute(\"src\")')\n",
    "    # 下載圖片\n",
    "    fn = os.path.join(dir_name, \"{:03d}.jpg\".format(page))\n",
    "    with open(fn, \"wb\") as f:\n",
    "        browser.download(img_url, outfd=f)\n",
    "    \n",
    "    # 更新 Widget 的狀態\n",
    "    progress.description = \"%d/%d\"%(page, total_pages)\n",
    "    progress.value = page\n",
    "    img.value = Image(filename=fn).data"
   ]
  },
  {
   "cell_type": "markdown",
   "metadata": {},
   "source": [
    "利用 thread"
   ]
  },
  {
   "cell_type": "code",
   "execution_count": null,
   "metadata": {
    "collapsed": true
   },
   "outputs": [],
   "source": [
    "from urllib.request import urlopen\n",
    "from multiprocessing.pool import ThreadPool\n"
   ]
  },
  {
   "cell_type": "code",
   "execution_count": null,
   "metadata": {
    "collapsed": false
   },
   "outputs": [],
   "source": [
    "%%timeit -n 1 -r 1\n",
    "def save_img(img_url, page):\n",
    "    fn = os.path.join(dir_name, \"{:03d}.jpg\".format(page))\n",
    "    with urlopen(img_url) as img_src:\n",
    "        with open(fn, \"wb\") as f:\n",
    "            f.write(img_src.read())\n",
    "        # 更新 widget 的狀態\n",
    "        progress.value += 1\n",
    "        progress.description = \"img: %d/%d\"%(progress.value, total_pages)\n",
    "        img.value = Image(filename=fn).data\n",
    "\n",
    "# 建立 Image Widget 用來顯示圖片預覽\n",
    "img = W.Image()\n",
    "img.width = 300\n",
    "# 顯示下載進度的 Progress bar\n",
    "progress = W.IntProgress(min=1, value=1, max=total_pages)\n",
    "display(img)\n",
    "display(progress)\n",
    "dir_name = os.path.join(\"download\", \"{:02d}\".format(book_no))\n",
    "if not os.path.exists(dir_name):\n",
    "            os.makedirs(dir_name) \n",
    "print(\"Download to {}\".format(os.path.join(os.getcwd(), dir_name)))\n",
    "sys.stdout.flush()\n",
    "\n",
    "pool = ThreadPool(5)\n",
    "\n",
    "for page in range(1, total_pages+1):\n",
    "    # 取得 image url\n",
    "    browser.load(\"{}{}-{}\".format(base_url, book_no, page))\n",
    "    img_url = browser.runjs('document.getElementById(\"TheImg\").getAttribute(\"src\")')\n",
    "    pool.apply_async(save_img, (img_url, page))\n",
    "pool.close()\n",
    "pool.join()\n"
   ]
  },
  {
   "cell_type": "code",
   "execution_count": null,
   "metadata": {
    "collapsed": true
   },
   "outputs": [],
   "source": []
  }
 ],
 "metadata": {
  "kernelspec": {
   "display_name": "Python 3",
   "language": "python",
   "name": "python3"
  },
  "language_info": {
   "codemirror_mode": {
    "name": "ipython",
    "version": 3
   },
   "file_extension": ".py",
   "mimetype": "text/x-python",
   "name": "python",
   "nbconvert_exporter": "python",
   "pygments_lexer": "ipython3",
   "version": "3.6.1"
  }
 },
 "nbformat": 4,
 "nbformat_minor": 2
}
