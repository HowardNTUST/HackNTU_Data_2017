{
 "cells": [
  {
   "cell_type": "markdown",
   "metadata": {},
   "source": [
    "不錯的練習\n",
    "\n",
    "http://www.wildml.com/2016/10/learning-reinforcement-learning/\n",
    "\n",
    "\n",
    "解釋\n",
    "\n",
    "https://mpatacchiola.github.io/blog/2016/12/09/dissecting-reinforcement-learning.html\n",
    "\n",
    "\n",
    "課本\n",
    "\n",
    "http://ufal.mff.cuni.cz/~straka/courses/npfl114/2016/sutton-bookdraft2016sep.pdf\n",
    "\n",
    "\n",
    "* multi arm bandit\n",
    "* Q learning\n",
    "* SARSA\n",
    "* TD\n",
    "\n",
    "Q vs SARSA\n",
    "https://studywolf.wordpress.com/2013/07/01/reinforcement-learning-sarsa-vs-q-learning/"
   ]
  }
 ],
 "metadata": {
  "kernelspec": {
   "display_name": "Python 3",
   "language": "python",
   "name": "python3"
  },
  "language_info": {
   "codemirror_mode": {
    "name": "ipython",
    "version": 3
   },
   "file_extension": ".py",
   "mimetype": "text/x-python",
   "name": "python",
   "nbconvert_exporter": "python",
   "pygments_lexer": "ipython3",
   "version": "3.5.2+"
  }
 },
 "nbformat": 4,
 "nbformat_minor": 1
}
