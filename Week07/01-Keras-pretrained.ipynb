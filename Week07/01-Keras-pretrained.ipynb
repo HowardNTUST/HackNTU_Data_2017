{
 "cells": [
  {
   "cell_type": "code",
   "execution_count": 1,
   "metadata": {
    "collapsed": true
   },
   "outputs": [],
   "source": [
    "# windows only hack for graphviz path \n",
    "import os\n",
    "for path in os.environ['PATH'].split(os.pathsep):\n",
    "    if path.endswith(\"Library\\\\bin\"):\n",
    "        os.environ['PATH']+=os.pathsep+os.path.join(path, 'graphviz')"
   ]
  },
  {
   "cell_type": "code",
   "execution_count": 2,
   "metadata": {
    "collapsed": false
   },
   "outputs": [
    {
     "name": "stderr",
     "output_type": "stream",
     "text": [
      "Using Theano backend.\n",
      "Using cuDNN version 5105 on context None\n",
      "Preallocating 3224/4030 Mb (0.800000) on cuda\n",
      "Mapped name None to device cuda: GeForce GTX 980 (0000:01:00.0)\n"
     ]
    }
   ],
   "source": [
    "import keras\n",
    "from keras.models import Sequential\n",
    "from PIL import Image\n",
    "import numpy as np"
   ]
  },
  {
   "cell_type": "code",
   "execution_count": 3,
   "metadata": {
    "collapsed": true
   },
   "outputs": [],
   "source": [
    "import keras.backend as K\n",
    "# 設定 channels first\n",
    "K.set_image_data_format('channels_last')"
   ]
  },
  {
   "cell_type": "code",
   "execution_count": 4,
   "metadata": {
    "collapsed": false
   },
   "outputs": [],
   "source": [
    "pretrained = keras.applications.vgg16.VGG16()"
   ]
  },
  {
   "cell_type": "code",
   "execution_count": 5,
   "metadata": {
    "collapsed": false
   },
   "outputs": [
    {
     "data": {
      "text/plain": [
       "<keras.engine.training.Model at 0x7f0e923e1470>"
      ]
     },
     "execution_count": 5,
     "metadata": {},
     "output_type": "execute_result"
    }
   ],
   "source": [
    "pretrained"
   ]
  },
  {
   "cell_type": "code",
   "execution_count": 6,
   "metadata": {
    "collapsed": false
   },
   "outputs": [
    {
     "data": {
      "image/svg+xml": [
       "<svg height=\"1881pt\" viewBox=\"0.00 0.00 377.00 1881.00\" width=\"377pt\" xmlns=\"http://www.w3.org/2000/svg\" xmlns:xlink=\"http://www.w3.org/1999/xlink\">\n",
       "<g class=\"graph\" id=\"graph0\" transform=\"scale(1 1) rotate(0) translate(4 1877)\">\n",
       "<title>G</title>\n",
       "<polygon fill=\"white\" points=\"-4,4 -4,-1877 373,-1877 373,4 -4,4\" stroke=\"none\"/>\n",
       "<!-- 139701962395152 -->\n",
       "<g class=\"node\" id=\"node1\"><title>139701962395152</title>\n",
       "<polygon fill=\"none\" points=\"32,-1826.5 32,-1872.5 337,-1872.5 337,-1826.5 32,-1826.5\" stroke=\"black\"/>\n",
       "<text font-family=\"Times,serif\" font-size=\"14.00\" text-anchor=\"middle\" x=\"94.5\" y=\"-1845.8\">input_1: InputLayer</text>\n",
       "<polyline fill=\"none\" points=\"157,-1826.5 157,-1872.5 \" stroke=\"black\"/>\n",
       "<text font-family=\"Times,serif\" font-size=\"14.00\" text-anchor=\"middle\" x=\"184.5\" y=\"-1857.3\">input:</text>\n",
       "<polyline fill=\"none\" points=\"157,-1849.5 212,-1849.5 \" stroke=\"black\"/>\n",
       "<text font-family=\"Times,serif\" font-size=\"14.00\" text-anchor=\"middle\" x=\"184.5\" y=\"-1834.3\">output:</text>\n",
       "<polyline fill=\"none\" points=\"212,-1826.5 212,-1872.5 \" stroke=\"black\"/>\n",
       "<text font-family=\"Times,serif\" font-size=\"14.00\" text-anchor=\"middle\" x=\"274.5\" y=\"-1857.3\">(None, 224, 224, 3)</text>\n",
       "<polyline fill=\"none\" points=\"212,-1849.5 337,-1849.5 \" stroke=\"black\"/>\n",
       "<text font-family=\"Times,serif\" font-size=\"14.00\" text-anchor=\"middle\" x=\"274.5\" y=\"-1834.3\">(None, 224, 224, 3)</text>\n",
       "</g>\n",
       "<!-- 139700586425424 -->\n",
       "<g class=\"node\" id=\"node2\"><title>139700586425424</title>\n",
       "<polygon fill=\"none\" points=\"18.5,-1743.5 18.5,-1789.5 350.5,-1789.5 350.5,-1743.5 18.5,-1743.5\" stroke=\"black\"/>\n",
       "<text font-family=\"Times,serif\" font-size=\"14.00\" text-anchor=\"middle\" x=\"91.5\" y=\"-1762.8\">block1_conv1: Conv2D</text>\n",
       "<polyline fill=\"none\" points=\"164.5,-1743.5 164.5,-1789.5 \" stroke=\"black\"/>\n",
       "<text font-family=\"Times,serif\" font-size=\"14.00\" text-anchor=\"middle\" x=\"192\" y=\"-1774.3\">input:</text>\n",
       "<polyline fill=\"none\" points=\"164.5,-1766.5 219.5,-1766.5 \" stroke=\"black\"/>\n",
       "<text font-family=\"Times,serif\" font-size=\"14.00\" text-anchor=\"middle\" x=\"192\" y=\"-1751.3\">output:</text>\n",
       "<polyline fill=\"none\" points=\"219.5,-1743.5 219.5,-1789.5 \" stroke=\"black\"/>\n",
       "<text font-family=\"Times,serif\" font-size=\"14.00\" text-anchor=\"middle\" x=\"285\" y=\"-1774.3\">(None, 224, 224, 3)</text>\n",
       "<polyline fill=\"none\" points=\"219.5,-1766.5 350.5,-1766.5 \" stroke=\"black\"/>\n",
       "<text font-family=\"Times,serif\" font-size=\"14.00\" text-anchor=\"middle\" x=\"285\" y=\"-1751.3\">(None, 224, 224, 64)</text>\n",
       "</g>\n",
       "<!-- 139701962395152&#45;&gt;139700586425424 -->\n",
       "<g class=\"edge\" id=\"edge1\"><title>139701962395152-&gt;139700586425424</title>\n",
       "<path d=\"M184.5,-1826.37C184.5,-1818.15 184.5,-1808.66 184.5,-1799.73\" fill=\"none\" stroke=\"black\"/>\n",
       "<polygon fill=\"black\" points=\"188,-1799.61 184.5,-1789.61 181,-1799.61 188,-1799.61\" stroke=\"black\"/>\n",
       "</g>\n",
       "<!-- 139700586480864 -->\n",
       "<g class=\"node\" id=\"node3\"><title>139700586480864</title>\n",
       "<polygon fill=\"none\" points=\"18.5,-1660.5 18.5,-1706.5 350.5,-1706.5 350.5,-1660.5 18.5,-1660.5\" stroke=\"black\"/>\n",
       "<text font-family=\"Times,serif\" font-size=\"14.00\" text-anchor=\"middle\" x=\"91.5\" y=\"-1679.8\">block1_conv2: Conv2D</text>\n",
       "<polyline fill=\"none\" points=\"164.5,-1660.5 164.5,-1706.5 \" stroke=\"black\"/>\n",
       "<text font-family=\"Times,serif\" font-size=\"14.00\" text-anchor=\"middle\" x=\"192\" y=\"-1691.3\">input:</text>\n",
       "<polyline fill=\"none\" points=\"164.5,-1683.5 219.5,-1683.5 \" stroke=\"black\"/>\n",
       "<text font-family=\"Times,serif\" font-size=\"14.00\" text-anchor=\"middle\" x=\"192\" y=\"-1668.3\">output:</text>\n",
       "<polyline fill=\"none\" points=\"219.5,-1660.5 219.5,-1706.5 \" stroke=\"black\"/>\n",
       "<text font-family=\"Times,serif\" font-size=\"14.00\" text-anchor=\"middle\" x=\"285\" y=\"-1691.3\">(None, 224, 224, 64)</text>\n",
       "<polyline fill=\"none\" points=\"219.5,-1683.5 350.5,-1683.5 \" stroke=\"black\"/>\n",
       "<text font-family=\"Times,serif\" font-size=\"14.00\" text-anchor=\"middle\" x=\"285\" y=\"-1668.3\">(None, 224, 224, 64)</text>\n",
       "</g>\n",
       "<!-- 139700586425424&#45;&gt;139700586480864 -->\n",
       "<g class=\"edge\" id=\"edge2\"><title>139700586425424-&gt;139700586480864</title>\n",
       "<path d=\"M184.5,-1743.37C184.5,-1735.15 184.5,-1725.66 184.5,-1716.73\" fill=\"none\" stroke=\"black\"/>\n",
       "<polygon fill=\"black\" points=\"188,-1716.61 184.5,-1706.61 181,-1716.61 188,-1716.61\" stroke=\"black\"/>\n",
       "</g>\n",
       "<!-- 139700563795584 -->\n",
       "<g class=\"node\" id=\"node4\"><title>139700563795584</title>\n",
       "<polygon fill=\"none\" points=\"3.5,-1577.5 3.5,-1623.5 365.5,-1623.5 365.5,-1577.5 3.5,-1577.5\" stroke=\"black\"/>\n",
       "<text font-family=\"Times,serif\" font-size=\"14.00\" text-anchor=\"middle\" x=\"91.5\" y=\"-1596.8\">block1_pool: MaxPooling2D</text>\n",
       "<polyline fill=\"none\" points=\"179.5,-1577.5 179.5,-1623.5 \" stroke=\"black\"/>\n",
       "<text font-family=\"Times,serif\" font-size=\"14.00\" text-anchor=\"middle\" x=\"207\" y=\"-1608.3\">input:</text>\n",
       "<polyline fill=\"none\" points=\"179.5,-1600.5 234.5,-1600.5 \" stroke=\"black\"/>\n",
       "<text font-family=\"Times,serif\" font-size=\"14.00\" text-anchor=\"middle\" x=\"207\" y=\"-1585.3\">output:</text>\n",
       "<polyline fill=\"none\" points=\"234.5,-1577.5 234.5,-1623.5 \" stroke=\"black\"/>\n",
       "<text font-family=\"Times,serif\" font-size=\"14.00\" text-anchor=\"middle\" x=\"300\" y=\"-1608.3\">(None, 224, 224, 64)</text>\n",
       "<polyline fill=\"none\" points=\"234.5,-1600.5 365.5,-1600.5 \" stroke=\"black\"/>\n",
       "<text font-family=\"Times,serif\" font-size=\"14.00\" text-anchor=\"middle\" x=\"300\" y=\"-1585.3\">(None, 112, 112, 64)</text>\n",
       "</g>\n",
       "<!-- 139700586480864&#45;&gt;139700563795584 -->\n",
       "<g class=\"edge\" id=\"edge3\"><title>139700586480864-&gt;139700563795584</title>\n",
       "<path d=\"M184.5,-1660.37C184.5,-1652.15 184.5,-1642.66 184.5,-1633.73\" fill=\"none\" stroke=\"black\"/>\n",
       "<polygon fill=\"black\" points=\"188,-1633.61 184.5,-1623.61 181,-1633.61 188,-1633.61\" stroke=\"black\"/>\n",
       "</g>\n",
       "<!-- 139700563190728 -->\n",
       "<g class=\"node\" id=\"node5\"><title>139700563190728</title>\n",
       "<polygon fill=\"none\" points=\"15,-1494.5 15,-1540.5 354,-1540.5 354,-1494.5 15,-1494.5\" stroke=\"black\"/>\n",
       "<text font-family=\"Times,serif\" font-size=\"14.00\" text-anchor=\"middle\" x=\"88\" y=\"-1513.8\">block2_conv1: Conv2D</text>\n",
       "<polyline fill=\"none\" points=\"161,-1494.5 161,-1540.5 \" stroke=\"black\"/>\n",
       "<text font-family=\"Times,serif\" font-size=\"14.00\" text-anchor=\"middle\" x=\"188.5\" y=\"-1525.3\">input:</text>\n",
       "<polyline fill=\"none\" points=\"161,-1517.5 216,-1517.5 \" stroke=\"black\"/>\n",
       "<text font-family=\"Times,serif\" font-size=\"14.00\" text-anchor=\"middle\" x=\"188.5\" y=\"-1502.3\">output:</text>\n",
       "<polyline fill=\"none\" points=\"216,-1494.5 216,-1540.5 \" stroke=\"black\"/>\n",
       "<text font-family=\"Times,serif\" font-size=\"14.00\" text-anchor=\"middle\" x=\"285\" y=\"-1525.3\">(None, 112, 112, 64)</text>\n",
       "<polyline fill=\"none\" points=\"216,-1517.5 354,-1517.5 \" stroke=\"black\"/>\n",
       "<text font-family=\"Times,serif\" font-size=\"14.00\" text-anchor=\"middle\" x=\"285\" y=\"-1502.3\">(None, 112, 112, 128)</text>\n",
       "</g>\n",
       "<!-- 139700563795584&#45;&gt;139700563190728 -->\n",
       "<g class=\"edge\" id=\"edge4\"><title>139700563795584-&gt;139700563190728</title>\n",
       "<path d=\"M184.5,-1577.37C184.5,-1569.15 184.5,-1559.66 184.5,-1550.73\" fill=\"none\" stroke=\"black\"/>\n",
       "<polygon fill=\"black\" points=\"188,-1550.61 184.5,-1540.61 181,-1550.61 188,-1550.61\" stroke=\"black\"/>\n",
       "</g>\n",
       "<!-- 139700563177256 -->\n",
       "<g class=\"node\" id=\"node6\"><title>139700563177256</title>\n",
       "<polygon fill=\"none\" points=\"15,-1411.5 15,-1457.5 354,-1457.5 354,-1411.5 15,-1411.5\" stroke=\"black\"/>\n",
       "<text font-family=\"Times,serif\" font-size=\"14.00\" text-anchor=\"middle\" x=\"88\" y=\"-1430.8\">block2_conv2: Conv2D</text>\n",
       "<polyline fill=\"none\" points=\"161,-1411.5 161,-1457.5 \" stroke=\"black\"/>\n",
       "<text font-family=\"Times,serif\" font-size=\"14.00\" text-anchor=\"middle\" x=\"188.5\" y=\"-1442.3\">input:</text>\n",
       "<polyline fill=\"none\" points=\"161,-1434.5 216,-1434.5 \" stroke=\"black\"/>\n",
       "<text font-family=\"Times,serif\" font-size=\"14.00\" text-anchor=\"middle\" x=\"188.5\" y=\"-1419.3\">output:</text>\n",
       "<polyline fill=\"none\" points=\"216,-1411.5 216,-1457.5 \" stroke=\"black\"/>\n",
       "<text font-family=\"Times,serif\" font-size=\"14.00\" text-anchor=\"middle\" x=\"285\" y=\"-1442.3\">(None, 112, 112, 128)</text>\n",
       "<polyline fill=\"none\" points=\"216,-1434.5 354,-1434.5 \" stroke=\"black\"/>\n",
       "<text font-family=\"Times,serif\" font-size=\"14.00\" text-anchor=\"middle\" x=\"285\" y=\"-1419.3\">(None, 112, 112, 128)</text>\n",
       "</g>\n",
       "<!-- 139700563190728&#45;&gt;139700563177256 -->\n",
       "<g class=\"edge\" id=\"edge5\"><title>139700563190728-&gt;139700563177256</title>\n",
       "<path d=\"M184.5,-1494.37C184.5,-1486.15 184.5,-1476.66 184.5,-1467.73\" fill=\"none\" stroke=\"black\"/>\n",
       "<polygon fill=\"black\" points=\"188,-1467.61 184.5,-1457.61 181,-1467.61 188,-1467.61\" stroke=\"black\"/>\n",
       "</g>\n",
       "<!-- 139700563086976 -->\n",
       "<g class=\"node\" id=\"node7\"><title>139700563086976</title>\n",
       "<polygon fill=\"none\" points=\"0,-1328.5 0,-1374.5 369,-1374.5 369,-1328.5 0,-1328.5\" stroke=\"black\"/>\n",
       "<text font-family=\"Times,serif\" font-size=\"14.00\" text-anchor=\"middle\" x=\"88\" y=\"-1347.8\">block2_pool: MaxPooling2D</text>\n",
       "<polyline fill=\"none\" points=\"176,-1328.5 176,-1374.5 \" stroke=\"black\"/>\n",
       "<text font-family=\"Times,serif\" font-size=\"14.00\" text-anchor=\"middle\" x=\"203.5\" y=\"-1359.3\">input:</text>\n",
       "<polyline fill=\"none\" points=\"176,-1351.5 231,-1351.5 \" stroke=\"black\"/>\n",
       "<text font-family=\"Times,serif\" font-size=\"14.00\" text-anchor=\"middle\" x=\"203.5\" y=\"-1336.3\">output:</text>\n",
       "<polyline fill=\"none\" points=\"231,-1328.5 231,-1374.5 \" stroke=\"black\"/>\n",
       "<text font-family=\"Times,serif\" font-size=\"14.00\" text-anchor=\"middle\" x=\"300\" y=\"-1359.3\">(None, 112, 112, 128)</text>\n",
       "<polyline fill=\"none\" points=\"231,-1351.5 369,-1351.5 \" stroke=\"black\"/>\n",
       "<text font-family=\"Times,serif\" font-size=\"14.00\" text-anchor=\"middle\" x=\"300\" y=\"-1336.3\">(None, 56, 56, 128)</text>\n",
       "</g>\n",
       "<!-- 139700563177256&#45;&gt;139700563086976 -->\n",
       "<g class=\"edge\" id=\"edge6\"><title>139700563177256-&gt;139700563086976</title>\n",
       "<path d=\"M184.5,-1411.37C184.5,-1403.15 184.5,-1393.66 184.5,-1384.73\" fill=\"none\" stroke=\"black\"/>\n",
       "<polygon fill=\"black\" points=\"188,-1384.61 184.5,-1374.61 181,-1384.61 188,-1384.61\" stroke=\"black\"/>\n",
       "</g>\n",
       "<!-- 139700562757784 -->\n",
       "<g class=\"node\" id=\"node8\"><title>139700562757784</title>\n",
       "<polygon fill=\"none\" points=\"21.5,-1245.5 21.5,-1291.5 347.5,-1291.5 347.5,-1245.5 21.5,-1245.5\" stroke=\"black\"/>\n",
       "<text font-family=\"Times,serif\" font-size=\"14.00\" text-anchor=\"middle\" x=\"94.5\" y=\"-1264.8\">block3_conv1: Conv2D</text>\n",
       "<polyline fill=\"none\" points=\"167.5,-1245.5 167.5,-1291.5 \" stroke=\"black\"/>\n",
       "<text font-family=\"Times,serif\" font-size=\"14.00\" text-anchor=\"middle\" x=\"195\" y=\"-1276.3\">input:</text>\n",
       "<polyline fill=\"none\" points=\"167.5,-1268.5 222.5,-1268.5 \" stroke=\"black\"/>\n",
       "<text font-family=\"Times,serif\" font-size=\"14.00\" text-anchor=\"middle\" x=\"195\" y=\"-1253.3\">output:</text>\n",
       "<polyline fill=\"none\" points=\"222.5,-1245.5 222.5,-1291.5 \" stroke=\"black\"/>\n",
       "<text font-family=\"Times,serif\" font-size=\"14.00\" text-anchor=\"middle\" x=\"285\" y=\"-1276.3\">(None, 56, 56, 128)</text>\n",
       "<polyline fill=\"none\" points=\"222.5,-1268.5 347.5,-1268.5 \" stroke=\"black\"/>\n",
       "<text font-family=\"Times,serif\" font-size=\"14.00\" text-anchor=\"middle\" x=\"285\" y=\"-1253.3\">(None, 56, 56, 256)</text>\n",
       "</g>\n",
       "<!-- 139700563086976&#45;&gt;139700562757784 -->\n",
       "<g class=\"edge\" id=\"edge7\"><title>139700563086976-&gt;139700562757784</title>\n",
       "<path d=\"M184.5,-1328.37C184.5,-1320.15 184.5,-1310.66 184.5,-1301.73\" fill=\"none\" stroke=\"black\"/>\n",
       "<polygon fill=\"black\" points=\"188,-1301.61 184.5,-1291.61 181,-1301.61 188,-1301.61\" stroke=\"black\"/>\n",
       "</g>\n",
       "<!-- 139702066317576 -->\n",
       "<g class=\"node\" id=\"node9\"><title>139702066317576</title>\n",
       "<polygon fill=\"none\" points=\"21.5,-1162.5 21.5,-1208.5 347.5,-1208.5 347.5,-1162.5 21.5,-1162.5\" stroke=\"black\"/>\n",
       "<text font-family=\"Times,serif\" font-size=\"14.00\" text-anchor=\"middle\" x=\"94.5\" y=\"-1181.8\">block3_conv2: Conv2D</text>\n",
       "<polyline fill=\"none\" points=\"167.5,-1162.5 167.5,-1208.5 \" stroke=\"black\"/>\n",
       "<text font-family=\"Times,serif\" font-size=\"14.00\" text-anchor=\"middle\" x=\"195\" y=\"-1193.3\">input:</text>\n",
       "<polyline fill=\"none\" points=\"167.5,-1185.5 222.5,-1185.5 \" stroke=\"black\"/>\n",
       "<text font-family=\"Times,serif\" font-size=\"14.00\" text-anchor=\"middle\" x=\"195\" y=\"-1170.3\">output:</text>\n",
       "<polyline fill=\"none\" points=\"222.5,-1162.5 222.5,-1208.5 \" stroke=\"black\"/>\n",
       "<text font-family=\"Times,serif\" font-size=\"14.00\" text-anchor=\"middle\" x=\"285\" y=\"-1193.3\">(None, 56, 56, 256)</text>\n",
       "<polyline fill=\"none\" points=\"222.5,-1185.5 347.5,-1185.5 \" stroke=\"black\"/>\n",
       "<text font-family=\"Times,serif\" font-size=\"14.00\" text-anchor=\"middle\" x=\"285\" y=\"-1170.3\">(None, 56, 56, 256)</text>\n",
       "</g>\n",
       "<!-- 139700562757784&#45;&gt;139702066317576 -->\n",
       "<g class=\"edge\" id=\"edge8\"><title>139700562757784-&gt;139702066317576</title>\n",
       "<path d=\"M184.5,-1245.37C184.5,-1237.15 184.5,-1227.66 184.5,-1218.73\" fill=\"none\" stroke=\"black\"/>\n",
       "<polygon fill=\"black\" points=\"188,-1218.61 184.5,-1208.61 181,-1218.61 188,-1218.61\" stroke=\"black\"/>\n",
       "</g>\n",
       "<!-- 139700561843984 -->\n",
       "<g class=\"node\" id=\"node10\"><title>139700561843984</title>\n",
       "<polygon fill=\"none\" points=\"21.5,-1079.5 21.5,-1125.5 347.5,-1125.5 347.5,-1079.5 21.5,-1079.5\" stroke=\"black\"/>\n",
       "<text font-family=\"Times,serif\" font-size=\"14.00\" text-anchor=\"middle\" x=\"94.5\" y=\"-1098.8\">block3_conv3: Conv2D</text>\n",
       "<polyline fill=\"none\" points=\"167.5,-1079.5 167.5,-1125.5 \" stroke=\"black\"/>\n",
       "<text font-family=\"Times,serif\" font-size=\"14.00\" text-anchor=\"middle\" x=\"195\" y=\"-1110.3\">input:</text>\n",
       "<polyline fill=\"none\" points=\"167.5,-1102.5 222.5,-1102.5 \" stroke=\"black\"/>\n",
       "<text font-family=\"Times,serif\" font-size=\"14.00\" text-anchor=\"middle\" x=\"195\" y=\"-1087.3\">output:</text>\n",
       "<polyline fill=\"none\" points=\"222.5,-1079.5 222.5,-1125.5 \" stroke=\"black\"/>\n",
       "<text font-family=\"Times,serif\" font-size=\"14.00\" text-anchor=\"middle\" x=\"285\" y=\"-1110.3\">(None, 56, 56, 256)</text>\n",
       "<polyline fill=\"none\" points=\"222.5,-1102.5 347.5,-1102.5 \" stroke=\"black\"/>\n",
       "<text font-family=\"Times,serif\" font-size=\"14.00\" text-anchor=\"middle\" x=\"285\" y=\"-1087.3\">(None, 56, 56, 256)</text>\n",
       "</g>\n",
       "<!-- 139702066317576&#45;&gt;139700561843984 -->\n",
       "<g class=\"edge\" id=\"edge9\"><title>139702066317576-&gt;139700561843984</title>\n",
       "<path d=\"M184.5,-1162.37C184.5,-1154.15 184.5,-1144.66 184.5,-1135.73\" fill=\"none\" stroke=\"black\"/>\n",
       "<polygon fill=\"black\" points=\"188,-1135.61 184.5,-1125.61 181,-1135.61 188,-1135.61\" stroke=\"black\"/>\n",
       "</g>\n",
       "<!-- 139700561631776 -->\n",
       "<g class=\"node\" id=\"node11\"><title>139700561631776</title>\n",
       "<polygon fill=\"none\" points=\"6.5,-996.5 6.5,-1042.5 362.5,-1042.5 362.5,-996.5 6.5,-996.5\" stroke=\"black\"/>\n",
       "<text font-family=\"Times,serif\" font-size=\"14.00\" text-anchor=\"middle\" x=\"94.5\" y=\"-1015.8\">block3_pool: MaxPooling2D</text>\n",
       "<polyline fill=\"none\" points=\"182.5,-996.5 182.5,-1042.5 \" stroke=\"black\"/>\n",
       "<text font-family=\"Times,serif\" font-size=\"14.00\" text-anchor=\"middle\" x=\"210\" y=\"-1027.3\">input:</text>\n",
       "<polyline fill=\"none\" points=\"182.5,-1019.5 237.5,-1019.5 \" stroke=\"black\"/>\n",
       "<text font-family=\"Times,serif\" font-size=\"14.00\" text-anchor=\"middle\" x=\"210\" y=\"-1004.3\">output:</text>\n",
       "<polyline fill=\"none\" points=\"237.5,-996.5 237.5,-1042.5 \" stroke=\"black\"/>\n",
       "<text font-family=\"Times,serif\" font-size=\"14.00\" text-anchor=\"middle\" x=\"300\" y=\"-1027.3\">(None, 56, 56, 256)</text>\n",
       "<polyline fill=\"none\" points=\"237.5,-1019.5 362.5,-1019.5 \" stroke=\"black\"/>\n",
       "<text font-family=\"Times,serif\" font-size=\"14.00\" text-anchor=\"middle\" x=\"300\" y=\"-1004.3\">(None, 28, 28, 256)</text>\n",
       "</g>\n",
       "<!-- 139700561843984&#45;&gt;139700561631776 -->\n",
       "<g class=\"edge\" id=\"edge10\"><title>139700561843984-&gt;139700561631776</title>\n",
       "<path d=\"M184.5,-1079.37C184.5,-1071.15 184.5,-1061.66 184.5,-1052.73\" fill=\"none\" stroke=\"black\"/>\n",
       "<polygon fill=\"black\" points=\"188,-1052.61 184.5,-1042.61 181,-1052.61 188,-1052.61\" stroke=\"black\"/>\n",
       "</g>\n",
       "<!-- 139700562140072 -->\n",
       "<g class=\"node\" id=\"node12\"><title>139700562140072</title>\n",
       "<polygon fill=\"none\" points=\"21.5,-913.5 21.5,-959.5 347.5,-959.5 347.5,-913.5 21.5,-913.5\" stroke=\"black\"/>\n",
       "<text font-family=\"Times,serif\" font-size=\"14.00\" text-anchor=\"middle\" x=\"94.5\" y=\"-932.8\">block4_conv1: Conv2D</text>\n",
       "<polyline fill=\"none\" points=\"167.5,-913.5 167.5,-959.5 \" stroke=\"black\"/>\n",
       "<text font-family=\"Times,serif\" font-size=\"14.00\" text-anchor=\"middle\" x=\"195\" y=\"-944.3\">input:</text>\n",
       "<polyline fill=\"none\" points=\"167.5,-936.5 222.5,-936.5 \" stroke=\"black\"/>\n",
       "<text font-family=\"Times,serif\" font-size=\"14.00\" text-anchor=\"middle\" x=\"195\" y=\"-921.3\">output:</text>\n",
       "<polyline fill=\"none\" points=\"222.5,-913.5 222.5,-959.5 \" stroke=\"black\"/>\n",
       "<text font-family=\"Times,serif\" font-size=\"14.00\" text-anchor=\"middle\" x=\"285\" y=\"-944.3\">(None, 28, 28, 256)</text>\n",
       "<polyline fill=\"none\" points=\"222.5,-936.5 347.5,-936.5 \" stroke=\"black\"/>\n",
       "<text font-family=\"Times,serif\" font-size=\"14.00\" text-anchor=\"middle\" x=\"285\" y=\"-921.3\">(None, 28, 28, 512)</text>\n",
       "</g>\n",
       "<!-- 139700561631776&#45;&gt;139700562140072 -->\n",
       "<g class=\"edge\" id=\"edge11\"><title>139700561631776-&gt;139700562140072</title>\n",
       "<path d=\"M184.5,-996.366C184.5,-988.152 184.5,-978.658 184.5,-969.725\" fill=\"none\" stroke=\"black\"/>\n",
       "<polygon fill=\"black\" points=\"188,-969.607 184.5,-959.607 181,-969.607 188,-969.607\" stroke=\"black\"/>\n",
       "</g>\n",
       "<!-- 139700562190744 -->\n",
       "<g class=\"node\" id=\"node13\"><title>139700562190744</title>\n",
       "<polygon fill=\"none\" points=\"21.5,-830.5 21.5,-876.5 347.5,-876.5 347.5,-830.5 21.5,-830.5\" stroke=\"black\"/>\n",
       "<text font-family=\"Times,serif\" font-size=\"14.00\" text-anchor=\"middle\" x=\"94.5\" y=\"-849.8\">block4_conv2: Conv2D</text>\n",
       "<polyline fill=\"none\" points=\"167.5,-830.5 167.5,-876.5 \" stroke=\"black\"/>\n",
       "<text font-family=\"Times,serif\" font-size=\"14.00\" text-anchor=\"middle\" x=\"195\" y=\"-861.3\">input:</text>\n",
       "<polyline fill=\"none\" points=\"167.5,-853.5 222.5,-853.5 \" stroke=\"black\"/>\n",
       "<text font-family=\"Times,serif\" font-size=\"14.00\" text-anchor=\"middle\" x=\"195\" y=\"-838.3\">output:</text>\n",
       "<polyline fill=\"none\" points=\"222.5,-830.5 222.5,-876.5 \" stroke=\"black\"/>\n",
       "<text font-family=\"Times,serif\" font-size=\"14.00\" text-anchor=\"middle\" x=\"285\" y=\"-861.3\">(None, 28, 28, 512)</text>\n",
       "<polyline fill=\"none\" points=\"222.5,-853.5 347.5,-853.5 \" stroke=\"black\"/>\n",
       "<text font-family=\"Times,serif\" font-size=\"14.00\" text-anchor=\"middle\" x=\"285\" y=\"-838.3\">(None, 28, 28, 512)</text>\n",
       "</g>\n",
       "<!-- 139700562140072&#45;&gt;139700562190744 -->\n",
       "<g class=\"edge\" id=\"edge12\"><title>139700562140072-&gt;139700562190744</title>\n",
       "<path d=\"M184.5,-913.366C184.5,-905.152 184.5,-895.658 184.5,-886.725\" fill=\"none\" stroke=\"black\"/>\n",
       "<polygon fill=\"black\" points=\"188,-886.607 184.5,-876.607 181,-886.607 188,-886.607\" stroke=\"black\"/>\n",
       "</g>\n",
       "<!-- 139700562420904 -->\n",
       "<g class=\"node\" id=\"node14\"><title>139700562420904</title>\n",
       "<polygon fill=\"none\" points=\"21.5,-747.5 21.5,-793.5 347.5,-793.5 347.5,-747.5 21.5,-747.5\" stroke=\"black\"/>\n",
       "<text font-family=\"Times,serif\" font-size=\"14.00\" text-anchor=\"middle\" x=\"94.5\" y=\"-766.8\">block4_conv3: Conv2D</text>\n",
       "<polyline fill=\"none\" points=\"167.5,-747.5 167.5,-793.5 \" stroke=\"black\"/>\n",
       "<text font-family=\"Times,serif\" font-size=\"14.00\" text-anchor=\"middle\" x=\"195\" y=\"-778.3\">input:</text>\n",
       "<polyline fill=\"none\" points=\"167.5,-770.5 222.5,-770.5 \" stroke=\"black\"/>\n",
       "<text font-family=\"Times,serif\" font-size=\"14.00\" text-anchor=\"middle\" x=\"195\" y=\"-755.3\">output:</text>\n",
       "<polyline fill=\"none\" points=\"222.5,-747.5 222.5,-793.5 \" stroke=\"black\"/>\n",
       "<text font-family=\"Times,serif\" font-size=\"14.00\" text-anchor=\"middle\" x=\"285\" y=\"-778.3\">(None, 28, 28, 512)</text>\n",
       "<polyline fill=\"none\" points=\"222.5,-770.5 347.5,-770.5 \" stroke=\"black\"/>\n",
       "<text font-family=\"Times,serif\" font-size=\"14.00\" text-anchor=\"middle\" x=\"285\" y=\"-755.3\">(None, 28, 28, 512)</text>\n",
       "</g>\n",
       "<!-- 139700562190744&#45;&gt;139700562420904 -->\n",
       "<g class=\"edge\" id=\"edge13\"><title>139700562190744-&gt;139700562420904</title>\n",
       "<path d=\"M184.5,-830.366C184.5,-822.152 184.5,-812.658 184.5,-803.725\" fill=\"none\" stroke=\"black\"/>\n",
       "<polygon fill=\"black\" points=\"188,-803.607 184.5,-793.607 181,-803.607 188,-803.607\" stroke=\"black\"/>\n",
       "</g>\n",
       "<!-- 139700581822816 -->\n",
       "<g class=\"node\" id=\"node15\"><title>139700581822816</title>\n",
       "<polygon fill=\"none\" points=\"6.5,-664.5 6.5,-710.5 362.5,-710.5 362.5,-664.5 6.5,-664.5\" stroke=\"black\"/>\n",
       "<text font-family=\"Times,serif\" font-size=\"14.00\" text-anchor=\"middle\" x=\"94.5\" y=\"-683.8\">block4_pool: MaxPooling2D</text>\n",
       "<polyline fill=\"none\" points=\"182.5,-664.5 182.5,-710.5 \" stroke=\"black\"/>\n",
       "<text font-family=\"Times,serif\" font-size=\"14.00\" text-anchor=\"middle\" x=\"210\" y=\"-695.3\">input:</text>\n",
       "<polyline fill=\"none\" points=\"182.5,-687.5 237.5,-687.5 \" stroke=\"black\"/>\n",
       "<text font-family=\"Times,serif\" font-size=\"14.00\" text-anchor=\"middle\" x=\"210\" y=\"-672.3\">output:</text>\n",
       "<polyline fill=\"none\" points=\"237.5,-664.5 237.5,-710.5 \" stroke=\"black\"/>\n",
       "<text font-family=\"Times,serif\" font-size=\"14.00\" text-anchor=\"middle\" x=\"300\" y=\"-695.3\">(None, 28, 28, 512)</text>\n",
       "<polyline fill=\"none\" points=\"237.5,-687.5 362.5,-687.5 \" stroke=\"black\"/>\n",
       "<text font-family=\"Times,serif\" font-size=\"14.00\" text-anchor=\"middle\" x=\"300\" y=\"-672.3\">(None, 14, 14, 512)</text>\n",
       "</g>\n",
       "<!-- 139700562420904&#45;&gt;139700581822816 -->\n",
       "<g class=\"edge\" id=\"edge14\"><title>139700562420904-&gt;139700581822816</title>\n",
       "<path d=\"M184.5,-747.366C184.5,-739.152 184.5,-729.658 184.5,-720.725\" fill=\"none\" stroke=\"black\"/>\n",
       "<polygon fill=\"black\" points=\"188,-720.607 184.5,-710.607 181,-720.607 188,-720.607\" stroke=\"black\"/>\n",
       "</g>\n",
       "<!-- 139700561091328 -->\n",
       "<g class=\"node\" id=\"node16\"><title>139700561091328</title>\n",
       "<polygon fill=\"none\" points=\"21.5,-581.5 21.5,-627.5 347.5,-627.5 347.5,-581.5 21.5,-581.5\" stroke=\"black\"/>\n",
       "<text font-family=\"Times,serif\" font-size=\"14.00\" text-anchor=\"middle\" x=\"94.5\" y=\"-600.8\">block5_conv1: Conv2D</text>\n",
       "<polyline fill=\"none\" points=\"167.5,-581.5 167.5,-627.5 \" stroke=\"black\"/>\n",
       "<text font-family=\"Times,serif\" font-size=\"14.00\" text-anchor=\"middle\" x=\"195\" y=\"-612.3\">input:</text>\n",
       "<polyline fill=\"none\" points=\"167.5,-604.5 222.5,-604.5 \" stroke=\"black\"/>\n",
       "<text font-family=\"Times,serif\" font-size=\"14.00\" text-anchor=\"middle\" x=\"195\" y=\"-589.3\">output:</text>\n",
       "<polyline fill=\"none\" points=\"222.5,-581.5 222.5,-627.5 \" stroke=\"black\"/>\n",
       "<text font-family=\"Times,serif\" font-size=\"14.00\" text-anchor=\"middle\" x=\"285\" y=\"-612.3\">(None, 14, 14, 512)</text>\n",
       "<polyline fill=\"none\" points=\"222.5,-604.5 347.5,-604.5 \" stroke=\"black\"/>\n",
       "<text font-family=\"Times,serif\" font-size=\"14.00\" text-anchor=\"middle\" x=\"285\" y=\"-589.3\">(None, 14, 14, 512)</text>\n",
       "</g>\n",
       "<!-- 139700581822816&#45;&gt;139700561091328 -->\n",
       "<g class=\"edge\" id=\"edge15\"><title>139700581822816-&gt;139700561091328</title>\n",
       "<path d=\"M184.5,-664.366C184.5,-656.152 184.5,-646.658 184.5,-637.725\" fill=\"none\" stroke=\"black\"/>\n",
       "<polygon fill=\"black\" points=\"188,-637.607 184.5,-627.607 181,-637.607 188,-637.607\" stroke=\"black\"/>\n",
       "</g>\n",
       "<!-- 139700561131840 -->\n",
       "<g class=\"node\" id=\"node17\"><title>139700561131840</title>\n",
       "<polygon fill=\"none\" points=\"21.5,-498.5 21.5,-544.5 347.5,-544.5 347.5,-498.5 21.5,-498.5\" stroke=\"black\"/>\n",
       "<text font-family=\"Times,serif\" font-size=\"14.00\" text-anchor=\"middle\" x=\"94.5\" y=\"-517.8\">block5_conv2: Conv2D</text>\n",
       "<polyline fill=\"none\" points=\"167.5,-498.5 167.5,-544.5 \" stroke=\"black\"/>\n",
       "<text font-family=\"Times,serif\" font-size=\"14.00\" text-anchor=\"middle\" x=\"195\" y=\"-529.3\">input:</text>\n",
       "<polyline fill=\"none\" points=\"167.5,-521.5 222.5,-521.5 \" stroke=\"black\"/>\n",
       "<text font-family=\"Times,serif\" font-size=\"14.00\" text-anchor=\"middle\" x=\"195\" y=\"-506.3\">output:</text>\n",
       "<polyline fill=\"none\" points=\"222.5,-498.5 222.5,-544.5 \" stroke=\"black\"/>\n",
       "<text font-family=\"Times,serif\" font-size=\"14.00\" text-anchor=\"middle\" x=\"285\" y=\"-529.3\">(None, 14, 14, 512)</text>\n",
       "<polyline fill=\"none\" points=\"222.5,-521.5 347.5,-521.5 \" stroke=\"black\"/>\n",
       "<text font-family=\"Times,serif\" font-size=\"14.00\" text-anchor=\"middle\" x=\"285\" y=\"-506.3\">(None, 14, 14, 512)</text>\n",
       "</g>\n",
       "<!-- 139700561091328&#45;&gt;139700561131840 -->\n",
       "<g class=\"edge\" id=\"edge16\"><title>139700561091328-&gt;139700561131840</title>\n",
       "<path d=\"M184.5,-581.366C184.5,-573.152 184.5,-563.658 184.5,-554.725\" fill=\"none\" stroke=\"black\"/>\n",
       "<polygon fill=\"black\" points=\"188,-554.607 184.5,-544.607 181,-554.607 188,-554.607\" stroke=\"black\"/>\n",
       "</g>\n",
       "<!-- 139700561290072 -->\n",
       "<g class=\"node\" id=\"node18\"><title>139700561290072</title>\n",
       "<polygon fill=\"none\" points=\"21.5,-415.5 21.5,-461.5 347.5,-461.5 347.5,-415.5 21.5,-415.5\" stroke=\"black\"/>\n",
       "<text font-family=\"Times,serif\" font-size=\"14.00\" text-anchor=\"middle\" x=\"94.5\" y=\"-434.8\">block5_conv3: Conv2D</text>\n",
       "<polyline fill=\"none\" points=\"167.5,-415.5 167.5,-461.5 \" stroke=\"black\"/>\n",
       "<text font-family=\"Times,serif\" font-size=\"14.00\" text-anchor=\"middle\" x=\"195\" y=\"-446.3\">input:</text>\n",
       "<polyline fill=\"none\" points=\"167.5,-438.5 222.5,-438.5 \" stroke=\"black\"/>\n",
       "<text font-family=\"Times,serif\" font-size=\"14.00\" text-anchor=\"middle\" x=\"195\" y=\"-423.3\">output:</text>\n",
       "<polyline fill=\"none\" points=\"222.5,-415.5 222.5,-461.5 \" stroke=\"black\"/>\n",
       "<text font-family=\"Times,serif\" font-size=\"14.00\" text-anchor=\"middle\" x=\"285\" y=\"-446.3\">(None, 14, 14, 512)</text>\n",
       "<polyline fill=\"none\" points=\"222.5,-438.5 347.5,-438.5 \" stroke=\"black\"/>\n",
       "<text font-family=\"Times,serif\" font-size=\"14.00\" text-anchor=\"middle\" x=\"285\" y=\"-423.3\">(None, 14, 14, 512)</text>\n",
       "</g>\n",
       "<!-- 139700561131840&#45;&gt;139700561290072 -->\n",
       "<g class=\"edge\" id=\"edge17\"><title>139700561131840-&gt;139700561290072</title>\n",
       "<path d=\"M184.5,-498.366C184.5,-490.152 184.5,-480.658 184.5,-471.725\" fill=\"none\" stroke=\"black\"/>\n",
       "<polygon fill=\"black\" points=\"188,-471.607 184.5,-461.607 181,-471.607 188,-471.607\" stroke=\"black\"/>\n",
       "</g>\n",
       "<!-- 139700560687400 -->\n",
       "<g class=\"node\" id=\"node19\"><title>139700560687400</title>\n",
       "<polygon fill=\"none\" points=\"6.5,-332.5 6.5,-378.5 362.5,-378.5 362.5,-332.5 6.5,-332.5\" stroke=\"black\"/>\n",
       "<text font-family=\"Times,serif\" font-size=\"14.00\" text-anchor=\"middle\" x=\"94.5\" y=\"-351.8\">block5_pool: MaxPooling2D</text>\n",
       "<polyline fill=\"none\" points=\"182.5,-332.5 182.5,-378.5 \" stroke=\"black\"/>\n",
       "<text font-family=\"Times,serif\" font-size=\"14.00\" text-anchor=\"middle\" x=\"210\" y=\"-363.3\">input:</text>\n",
       "<polyline fill=\"none\" points=\"182.5,-355.5 237.5,-355.5 \" stroke=\"black\"/>\n",
       "<text font-family=\"Times,serif\" font-size=\"14.00\" text-anchor=\"middle\" x=\"210\" y=\"-340.3\">output:</text>\n",
       "<polyline fill=\"none\" points=\"237.5,-332.5 237.5,-378.5 \" stroke=\"black\"/>\n",
       "<text font-family=\"Times,serif\" font-size=\"14.00\" text-anchor=\"middle\" x=\"300\" y=\"-363.3\">(None, 14, 14, 512)</text>\n",
       "<polyline fill=\"none\" points=\"237.5,-355.5 362.5,-355.5 \" stroke=\"black\"/>\n",
       "<text font-family=\"Times,serif\" font-size=\"14.00\" text-anchor=\"middle\" x=\"300\" y=\"-340.3\">(None, 7, 7, 512)</text>\n",
       "</g>\n",
       "<!-- 139700561290072&#45;&gt;139700560687400 -->\n",
       "<g class=\"edge\" id=\"edge18\"><title>139700561290072-&gt;139700560687400</title>\n",
       "<path d=\"M184.5,-415.366C184.5,-407.152 184.5,-397.658 184.5,-388.725\" fill=\"none\" stroke=\"black\"/>\n",
       "<polygon fill=\"black\" points=\"188,-388.607 184.5,-378.607 181,-388.607 188,-388.607\" stroke=\"black\"/>\n",
       "</g>\n",
       "<!-- 139700560453192 -->\n",
       "<g class=\"node\" id=\"node20\"><title>139700560453192</title>\n",
       "<polygon fill=\"none\" points=\"53.5,-249.5 53.5,-295.5 315.5,-295.5 315.5,-249.5 53.5,-249.5\" stroke=\"black\"/>\n",
       "<text font-family=\"Times,serif\" font-size=\"14.00\" text-anchor=\"middle\" x=\"101.5\" y=\"-268.8\">flatten: Flatten</text>\n",
       "<polyline fill=\"none\" points=\"149.5,-249.5 149.5,-295.5 \" stroke=\"black\"/>\n",
       "<text font-family=\"Times,serif\" font-size=\"14.00\" text-anchor=\"middle\" x=\"177\" y=\"-280.3\">input:</text>\n",
       "<polyline fill=\"none\" points=\"149.5,-272.5 204.5,-272.5 \" stroke=\"black\"/>\n",
       "<text font-family=\"Times,serif\" font-size=\"14.00\" text-anchor=\"middle\" x=\"177\" y=\"-257.3\">output:</text>\n",
       "<polyline fill=\"none\" points=\"204.5,-249.5 204.5,-295.5 \" stroke=\"black\"/>\n",
       "<text font-family=\"Times,serif\" font-size=\"14.00\" text-anchor=\"middle\" x=\"260\" y=\"-280.3\">(None, 7, 7, 512)</text>\n",
       "<polyline fill=\"none\" points=\"204.5,-272.5 315.5,-272.5 \" stroke=\"black\"/>\n",
       "<text font-family=\"Times,serif\" font-size=\"14.00\" text-anchor=\"middle\" x=\"260\" y=\"-257.3\">(None, 25088)</text>\n",
       "</g>\n",
       "<!-- 139700560687400&#45;&gt;139700560453192 -->\n",
       "<g class=\"edge\" id=\"edge19\"><title>139700560687400-&gt;139700560453192</title>\n",
       "<path d=\"M184.5,-332.366C184.5,-324.152 184.5,-314.658 184.5,-305.725\" fill=\"none\" stroke=\"black\"/>\n",
       "<polygon fill=\"black\" points=\"188,-305.607 184.5,-295.607 181,-305.607 188,-305.607\" stroke=\"black\"/>\n",
       "</g>\n",
       "<!-- 139700560342432 -->\n",
       "<g class=\"node\" id=\"node21\"><title>139700560342432</title>\n",
       "<polygon fill=\"none\" points=\"71.5,-166.5 71.5,-212.5 297.5,-212.5 297.5,-166.5 71.5,-166.5\" stroke=\"black\"/>\n",
       "<text font-family=\"Times,serif\" font-size=\"14.00\" text-anchor=\"middle\" x=\"109\" y=\"-185.8\">fc1: Dense</text>\n",
       "<polyline fill=\"none\" points=\"146.5,-166.5 146.5,-212.5 \" stroke=\"black\"/>\n",
       "<text font-family=\"Times,serif\" font-size=\"14.00\" text-anchor=\"middle\" x=\"174\" y=\"-197.3\">input:</text>\n",
       "<polyline fill=\"none\" points=\"146.5,-189.5 201.5,-189.5 \" stroke=\"black\"/>\n",
       "<text font-family=\"Times,serif\" font-size=\"14.00\" text-anchor=\"middle\" x=\"174\" y=\"-174.3\">output:</text>\n",
       "<polyline fill=\"none\" points=\"201.5,-166.5 201.5,-212.5 \" stroke=\"black\"/>\n",
       "<text font-family=\"Times,serif\" font-size=\"14.00\" text-anchor=\"middle\" x=\"249.5\" y=\"-197.3\">(None, 25088)</text>\n",
       "<polyline fill=\"none\" points=\"201.5,-189.5 297.5,-189.5 \" stroke=\"black\"/>\n",
       "<text font-family=\"Times,serif\" font-size=\"14.00\" text-anchor=\"middle\" x=\"249.5\" y=\"-174.3\">(None, 4096)</text>\n",
       "</g>\n",
       "<!-- 139700560453192&#45;&gt;139700560342432 -->\n",
       "<g class=\"edge\" id=\"edge20\"><title>139700560453192-&gt;139700560342432</title>\n",
       "<path d=\"M184.5,-249.366C184.5,-241.152 184.5,-231.658 184.5,-222.725\" fill=\"none\" stroke=\"black\"/>\n",
       "<polygon fill=\"black\" points=\"188,-222.607 184.5,-212.607 181,-222.607 188,-222.607\" stroke=\"black\"/>\n",
       "</g>\n",
       "<!-- 139700560432936 -->\n",
       "<g class=\"node\" id=\"node22\"><title>139700560432936</title>\n",
       "<polygon fill=\"none\" points=\"75,-83.5 75,-129.5 294,-129.5 294,-83.5 75,-83.5\" stroke=\"black\"/>\n",
       "<text font-family=\"Times,serif\" font-size=\"14.00\" text-anchor=\"middle\" x=\"112.5\" y=\"-102.8\">fc2: Dense</text>\n",
       "<polyline fill=\"none\" points=\"150,-83.5 150,-129.5 \" stroke=\"black\"/>\n",
       "<text font-family=\"Times,serif\" font-size=\"14.00\" text-anchor=\"middle\" x=\"177.5\" y=\"-114.3\">input:</text>\n",
       "<polyline fill=\"none\" points=\"150,-106.5 205,-106.5 \" stroke=\"black\"/>\n",
       "<text font-family=\"Times,serif\" font-size=\"14.00\" text-anchor=\"middle\" x=\"177.5\" y=\"-91.3\">output:</text>\n",
       "<polyline fill=\"none\" points=\"205,-83.5 205,-129.5 \" stroke=\"black\"/>\n",
       "<text font-family=\"Times,serif\" font-size=\"14.00\" text-anchor=\"middle\" x=\"249.5\" y=\"-114.3\">(None, 4096)</text>\n",
       "<polyline fill=\"none\" points=\"205,-106.5 294,-106.5 \" stroke=\"black\"/>\n",
       "<text font-family=\"Times,serif\" font-size=\"14.00\" text-anchor=\"middle\" x=\"249.5\" y=\"-91.3\">(None, 4096)</text>\n",
       "</g>\n",
       "<!-- 139700560342432&#45;&gt;139700560432936 -->\n",
       "<g class=\"edge\" id=\"edge21\"><title>139700560342432-&gt;139700560432936</title>\n",
       "<path d=\"M184.5,-166.366C184.5,-158.152 184.5,-148.658 184.5,-139.725\" fill=\"none\" stroke=\"black\"/>\n",
       "<polygon fill=\"black\" points=\"188,-139.607 184.5,-129.607 181,-139.607 188,-139.607\" stroke=\"black\"/>\n",
       "</g>\n",
       "<!-- 139700559836832 -->\n",
       "<g class=\"node\" id=\"node23\"><title>139700559836832</title>\n",
       "<polygon fill=\"none\" points=\"53.5,-0.5 53.5,-46.5 315.5,-46.5 315.5,-0.5 53.5,-0.5\" stroke=\"black\"/>\n",
       "<text font-family=\"Times,serif\" font-size=\"14.00\" text-anchor=\"middle\" x=\"112.5\" y=\"-19.8\">predictions: Dense</text>\n",
       "<polyline fill=\"none\" points=\"171.5,-0.5 171.5,-46.5 \" stroke=\"black\"/>\n",
       "<text font-family=\"Times,serif\" font-size=\"14.00\" text-anchor=\"middle\" x=\"199\" y=\"-31.3\">input:</text>\n",
       "<polyline fill=\"none\" points=\"171.5,-23.5 226.5,-23.5 \" stroke=\"black\"/>\n",
       "<text font-family=\"Times,serif\" font-size=\"14.00\" text-anchor=\"middle\" x=\"199\" y=\"-8.3\">output:</text>\n",
       "<polyline fill=\"none\" points=\"226.5,-0.5 226.5,-46.5 \" stroke=\"black\"/>\n",
       "<text font-family=\"Times,serif\" font-size=\"14.00\" text-anchor=\"middle\" x=\"271\" y=\"-31.3\">(None, 4096)</text>\n",
       "<polyline fill=\"none\" points=\"226.5,-23.5 315.5,-23.5 \" stroke=\"black\"/>\n",
       "<text font-family=\"Times,serif\" font-size=\"14.00\" text-anchor=\"middle\" x=\"271\" y=\"-8.3\">(None, 1000)</text>\n",
       "</g>\n",
       "<!-- 139700560432936&#45;&gt;139700559836832 -->\n",
       "<g class=\"edge\" id=\"edge22\"><title>139700560432936-&gt;139700559836832</title>\n",
       "<path d=\"M184.5,-83.3664C184.5,-75.1516 184.5,-65.6579 184.5,-56.7252\" fill=\"none\" stroke=\"black\"/>\n",
       "<polygon fill=\"black\" points=\"188,-56.6068 184.5,-46.6068 181,-56.6069 188,-56.6068\" stroke=\"black\"/>\n",
       "</g>\n",
       "</g>\n",
       "</svg>"
      ],
      "text/plain": [
       "<IPython.core.display.SVG object>"
      ]
     },
     "execution_count": 6,
     "metadata": {},
     "output_type": "execute_result"
    }
   ],
   "source": [
    "from IPython.display import SVG, display\n",
    "from keras.utils.vis_utils import model_to_dot\n",
    "\n",
    "SVG(model_to_dot(pretrained, show_shapes=True).create(prog='dot', format='svg'))"
   ]
  },
  {
   "cell_type": "markdown",
   "metadata": {},
   "source": [
    "### 看一下 imagenet 的分類"
   ]
  },
  {
   "cell_type": "code",
   "execution_count": 7,
   "metadata": {
    "collapsed": true
   },
   "outputs": [],
   "source": [
    "from keras.applications import imagenet_utils"
   ]
  },
  {
   "cell_type": "code",
   "execution_count": 8,
   "metadata": {
    "collapsed": false
   },
   "outputs": [
    {
     "data": {
      "text/plain": [
       "'https://s3.amazonaws.com/deep-learning-models/image-models/imagenet_class_index.json'"
      ]
     },
     "execution_count": 8,
     "metadata": {},
     "output_type": "execute_result"
    }
   ],
   "source": [
    "imagenet_utils.CLASS_INDEX_PATH"
   ]
  },
  {
   "cell_type": "code",
   "execution_count": 9,
   "metadata": {
    "collapsed": false
   },
   "outputs": [],
   "source": [
    "from urllib.request import urlopen\n",
    "import json\n",
    "with urlopen(imagenet_utils.CLASS_INDEX_PATH) as jsonf:\n",
    "    data = jsonf.read()"
   ]
  },
  {
   "cell_type": "code",
   "execution_count": 10,
   "metadata": {
    "collapsed": false
   },
   "outputs": [
    {
     "data": {
      "text/plain": [
       "['tench',\n",
       " 'goldfish',\n",
       " 'great_white_shark',\n",
       " 'tiger_shark',\n",
       " 'hammerhead',\n",
       " 'electric_ray',\n",
       " 'stingray',\n",
       " 'cock',\n",
       " 'hen',\n",
       " 'ostrich',\n",
       " 'brambling',\n",
       " 'goldfinch',\n",
       " 'house_finch',\n",
       " 'junco',\n",
       " 'indigo_bunting',\n",
       " 'robin',\n",
       " 'bulbul',\n",
       " 'jay',\n",
       " 'magpie',\n",
       " 'chickadee',\n",
       " 'water_ouzel',\n",
       " 'kite',\n",
       " 'bald_eagle',\n",
       " 'vulture',\n",
       " 'great_grey_owl',\n",
       " 'European_fire_salamander',\n",
       " 'common_newt',\n",
       " 'eft',\n",
       " 'spotted_salamander',\n",
       " 'axolotl',\n",
       " 'bullfrog',\n",
       " 'tree_frog',\n",
       " 'tailed_frog',\n",
       " 'loggerhead',\n",
       " 'leatherback_turtle',\n",
       " 'mud_turtle',\n",
       " 'terrapin',\n",
       " 'box_turtle',\n",
       " 'banded_gecko',\n",
       " 'common_iguana',\n",
       " 'American_chameleon',\n",
       " 'whiptail',\n",
       " 'agama',\n",
       " 'frilled_lizard',\n",
       " 'alligator_lizard',\n",
       " 'Gila_monster',\n",
       " 'green_lizard',\n",
       " 'African_chameleon',\n",
       " 'Komodo_dragon',\n",
       " 'African_crocodile',\n",
       " 'American_alligator',\n",
       " 'triceratops',\n",
       " 'thunder_snake',\n",
       " 'ringneck_snake',\n",
       " 'hognose_snake',\n",
       " 'green_snake',\n",
       " 'king_snake',\n",
       " 'garter_snake',\n",
       " 'water_snake',\n",
       " 'vine_snake',\n",
       " 'night_snake',\n",
       " 'boa_constrictor',\n",
       " 'rock_python',\n",
       " 'Indian_cobra',\n",
       " 'green_mamba',\n",
       " 'sea_snake',\n",
       " 'horned_viper',\n",
       " 'diamondback',\n",
       " 'sidewinder',\n",
       " 'trilobite',\n",
       " 'harvestman',\n",
       " 'scorpion',\n",
       " 'black_and_gold_garden_spider',\n",
       " 'barn_spider',\n",
       " 'garden_spider',\n",
       " 'black_widow',\n",
       " 'tarantula',\n",
       " 'wolf_spider',\n",
       " 'tick',\n",
       " 'centipede',\n",
       " 'black_grouse',\n",
       " 'ptarmigan',\n",
       " 'ruffed_grouse',\n",
       " 'prairie_chicken',\n",
       " 'peacock',\n",
       " 'quail',\n",
       " 'partridge',\n",
       " 'African_grey',\n",
       " 'macaw',\n",
       " 'sulphur-crested_cockatoo',\n",
       " 'lorikeet',\n",
       " 'coucal',\n",
       " 'bee_eater',\n",
       " 'hornbill',\n",
       " 'hummingbird',\n",
       " 'jacamar',\n",
       " 'toucan',\n",
       " 'drake',\n",
       " 'red-breasted_merganser',\n",
       " 'goose',\n",
       " 'black_swan',\n",
       " 'tusker',\n",
       " 'echidna',\n",
       " 'platypus',\n",
       " 'wallaby',\n",
       " 'koala',\n",
       " 'wombat',\n",
       " 'jellyfish',\n",
       " 'sea_anemone',\n",
       " 'brain_coral',\n",
       " 'flatworm',\n",
       " 'nematode',\n",
       " 'conch',\n",
       " 'snail',\n",
       " 'slug',\n",
       " 'sea_slug',\n",
       " 'chiton',\n",
       " 'chambered_nautilus',\n",
       " 'Dungeness_crab',\n",
       " 'rock_crab',\n",
       " 'fiddler_crab',\n",
       " 'king_crab',\n",
       " 'American_lobster',\n",
       " 'spiny_lobster',\n",
       " 'crayfish',\n",
       " 'hermit_crab',\n",
       " 'isopod',\n",
       " 'white_stork',\n",
       " 'black_stork',\n",
       " 'spoonbill',\n",
       " 'flamingo',\n",
       " 'little_blue_heron',\n",
       " 'American_egret',\n",
       " 'bittern',\n",
       " 'crane',\n",
       " 'limpkin',\n",
       " 'European_gallinule',\n",
       " 'American_coot',\n",
       " 'bustard',\n",
       " 'ruddy_turnstone',\n",
       " 'red-backed_sandpiper',\n",
       " 'redshank',\n",
       " 'dowitcher',\n",
       " 'oystercatcher',\n",
       " 'pelican',\n",
       " 'king_penguin',\n",
       " 'albatross',\n",
       " 'grey_whale',\n",
       " 'killer_whale',\n",
       " 'dugong',\n",
       " 'sea_lion',\n",
       " 'Chihuahua',\n",
       " 'Japanese_spaniel',\n",
       " 'Maltese_dog',\n",
       " 'Pekinese',\n",
       " 'Shih-Tzu',\n",
       " 'Blenheim_spaniel',\n",
       " 'papillon',\n",
       " 'toy_terrier',\n",
       " 'Rhodesian_ridgeback',\n",
       " 'Afghan_hound',\n",
       " 'basset',\n",
       " 'beagle',\n",
       " 'bloodhound',\n",
       " 'bluetick',\n",
       " 'black-and-tan_coonhound',\n",
       " 'Walker_hound',\n",
       " 'English_foxhound',\n",
       " 'redbone',\n",
       " 'borzoi',\n",
       " 'Irish_wolfhound',\n",
       " 'Italian_greyhound',\n",
       " 'whippet',\n",
       " 'Ibizan_hound',\n",
       " 'Norwegian_elkhound',\n",
       " 'otterhound',\n",
       " 'Saluki',\n",
       " 'Scottish_deerhound',\n",
       " 'Weimaraner',\n",
       " 'Staffordshire_bullterrier',\n",
       " 'American_Staffordshire_terrier',\n",
       " 'Bedlington_terrier',\n",
       " 'Border_terrier',\n",
       " 'Kerry_blue_terrier',\n",
       " 'Irish_terrier',\n",
       " 'Norfolk_terrier',\n",
       " 'Norwich_terrier',\n",
       " 'Yorkshire_terrier',\n",
       " 'wire-haired_fox_terrier',\n",
       " 'Lakeland_terrier',\n",
       " 'Sealyham_terrier',\n",
       " 'Airedale',\n",
       " 'cairn',\n",
       " 'Australian_terrier',\n",
       " 'Dandie_Dinmont',\n",
       " 'Boston_bull',\n",
       " 'miniature_schnauzer',\n",
       " 'giant_schnauzer',\n",
       " 'standard_schnauzer',\n",
       " 'Scotch_terrier',\n",
       " 'Tibetan_terrier',\n",
       " 'silky_terrier',\n",
       " 'soft-coated_wheaten_terrier',\n",
       " 'West_Highland_white_terrier',\n",
       " 'Lhasa',\n",
       " 'flat-coated_retriever',\n",
       " 'curly-coated_retriever',\n",
       " 'golden_retriever',\n",
       " 'Labrador_retriever',\n",
       " 'Chesapeake_Bay_retriever',\n",
       " 'German_short-haired_pointer',\n",
       " 'vizsla',\n",
       " 'English_setter',\n",
       " 'Irish_setter',\n",
       " 'Gordon_setter',\n",
       " 'Brittany_spaniel',\n",
       " 'clumber',\n",
       " 'English_springer',\n",
       " 'Welsh_springer_spaniel',\n",
       " 'cocker_spaniel',\n",
       " 'Sussex_spaniel',\n",
       " 'Irish_water_spaniel',\n",
       " 'kuvasz',\n",
       " 'schipperke',\n",
       " 'groenendael',\n",
       " 'malinois',\n",
       " 'briard',\n",
       " 'kelpie',\n",
       " 'komondor',\n",
       " 'Old_English_sheepdog',\n",
       " 'Shetland_sheepdog',\n",
       " 'collie',\n",
       " 'Border_collie',\n",
       " 'Bouvier_des_Flandres',\n",
       " 'Rottweiler',\n",
       " 'German_shepherd',\n",
       " 'Doberman',\n",
       " 'miniature_pinscher',\n",
       " 'Greater_Swiss_Mountain_dog',\n",
       " 'Bernese_mountain_dog',\n",
       " 'Appenzeller',\n",
       " 'EntleBucher',\n",
       " 'boxer',\n",
       " 'bull_mastiff',\n",
       " 'Tibetan_mastiff',\n",
       " 'French_bulldog',\n",
       " 'Great_Dane',\n",
       " 'Saint_Bernard',\n",
       " 'Eskimo_dog',\n",
       " 'malamute',\n",
       " 'Siberian_husky',\n",
       " 'dalmatian',\n",
       " 'affenpinscher',\n",
       " 'basenji',\n",
       " 'pug',\n",
       " 'Leonberg',\n",
       " 'Newfoundland',\n",
       " 'Great_Pyrenees',\n",
       " 'Samoyed',\n",
       " 'Pomeranian',\n",
       " 'chow',\n",
       " 'keeshond',\n",
       " 'Brabancon_griffon',\n",
       " 'Pembroke',\n",
       " 'Cardigan',\n",
       " 'toy_poodle',\n",
       " 'miniature_poodle',\n",
       " 'standard_poodle',\n",
       " 'Mexican_hairless',\n",
       " 'timber_wolf',\n",
       " 'white_wolf',\n",
       " 'red_wolf',\n",
       " 'coyote',\n",
       " 'dingo',\n",
       " 'dhole',\n",
       " 'African_hunting_dog',\n",
       " 'hyena',\n",
       " 'red_fox',\n",
       " 'kit_fox',\n",
       " 'Arctic_fox',\n",
       " 'grey_fox',\n",
       " 'tabby',\n",
       " 'tiger_cat',\n",
       " 'Persian_cat',\n",
       " 'Siamese_cat',\n",
       " 'Egyptian_cat',\n",
       " 'cougar',\n",
       " 'lynx',\n",
       " 'leopard',\n",
       " 'snow_leopard',\n",
       " 'jaguar',\n",
       " 'lion',\n",
       " 'tiger',\n",
       " 'cheetah',\n",
       " 'brown_bear',\n",
       " 'American_black_bear',\n",
       " 'ice_bear',\n",
       " 'sloth_bear',\n",
       " 'mongoose',\n",
       " 'meerkat',\n",
       " 'tiger_beetle',\n",
       " 'ladybug',\n",
       " 'ground_beetle',\n",
       " 'long-horned_beetle',\n",
       " 'leaf_beetle',\n",
       " 'dung_beetle',\n",
       " 'rhinoceros_beetle',\n",
       " 'weevil',\n",
       " 'fly',\n",
       " 'bee',\n",
       " 'ant',\n",
       " 'grasshopper',\n",
       " 'cricket',\n",
       " 'walking_stick',\n",
       " 'cockroach',\n",
       " 'mantis',\n",
       " 'cicada',\n",
       " 'leafhopper',\n",
       " 'lacewing',\n",
       " 'dragonfly',\n",
       " 'damselfly',\n",
       " 'admiral',\n",
       " 'ringlet',\n",
       " 'monarch',\n",
       " 'cabbage_butterfly',\n",
       " 'sulphur_butterfly',\n",
       " 'lycaenid',\n",
       " 'starfish',\n",
       " 'sea_urchin',\n",
       " 'sea_cucumber',\n",
       " 'wood_rabbit',\n",
       " 'hare',\n",
       " 'Angora',\n",
       " 'hamster',\n",
       " 'porcupine',\n",
       " 'fox_squirrel',\n",
       " 'marmot',\n",
       " 'beaver',\n",
       " 'guinea_pig',\n",
       " 'sorrel',\n",
       " 'zebra',\n",
       " 'hog',\n",
       " 'wild_boar',\n",
       " 'warthog',\n",
       " 'hippopotamus',\n",
       " 'ox',\n",
       " 'water_buffalo',\n",
       " 'bison',\n",
       " 'ram',\n",
       " 'bighorn',\n",
       " 'ibex',\n",
       " 'hartebeest',\n",
       " 'impala',\n",
       " 'gazelle',\n",
       " 'Arabian_camel',\n",
       " 'llama',\n",
       " 'weasel',\n",
       " 'mink',\n",
       " 'polecat',\n",
       " 'black-footed_ferret',\n",
       " 'otter',\n",
       " 'skunk',\n",
       " 'badger',\n",
       " 'armadillo',\n",
       " 'three-toed_sloth',\n",
       " 'orangutan',\n",
       " 'gorilla',\n",
       " 'chimpanzee',\n",
       " 'gibbon',\n",
       " 'siamang',\n",
       " 'guenon',\n",
       " 'patas',\n",
       " 'baboon',\n",
       " 'macaque',\n",
       " 'langur',\n",
       " 'colobus',\n",
       " 'proboscis_monkey',\n",
       " 'marmoset',\n",
       " 'capuchin',\n",
       " 'howler_monkey',\n",
       " 'titi',\n",
       " 'spider_monkey',\n",
       " 'squirrel_monkey',\n",
       " 'Madagascar_cat',\n",
       " 'indri',\n",
       " 'Indian_elephant',\n",
       " 'African_elephant',\n",
       " 'lesser_panda',\n",
       " 'giant_panda',\n",
       " 'barracouta',\n",
       " 'eel',\n",
       " 'coho',\n",
       " 'rock_beauty',\n",
       " 'anemone_fish',\n",
       " 'sturgeon',\n",
       " 'gar',\n",
       " 'lionfish',\n",
       " 'puffer',\n",
       " 'abacus',\n",
       " 'abaya',\n",
       " 'academic_gown',\n",
       " 'accordion',\n",
       " 'acoustic_guitar',\n",
       " 'aircraft_carrier',\n",
       " 'airliner',\n",
       " 'airship',\n",
       " 'altar',\n",
       " 'ambulance',\n",
       " 'amphibian',\n",
       " 'analog_clock',\n",
       " 'apiary',\n",
       " 'apron',\n",
       " 'ashcan',\n",
       " 'assault_rifle',\n",
       " 'backpack',\n",
       " 'bakery',\n",
       " 'balance_beam',\n",
       " 'balloon',\n",
       " 'ballpoint',\n",
       " 'Band_Aid',\n",
       " 'banjo',\n",
       " 'bannister',\n",
       " 'barbell',\n",
       " 'barber_chair',\n",
       " 'barbershop',\n",
       " 'barn',\n",
       " 'barometer',\n",
       " 'barrel',\n",
       " 'barrow',\n",
       " 'baseball',\n",
       " 'basketball',\n",
       " 'bassinet',\n",
       " 'bassoon',\n",
       " 'bathing_cap',\n",
       " 'bath_towel',\n",
       " 'bathtub',\n",
       " 'beach_wagon',\n",
       " 'beacon',\n",
       " 'beaker',\n",
       " 'bearskin',\n",
       " 'beer_bottle',\n",
       " 'beer_glass',\n",
       " 'bell_cote',\n",
       " 'bib',\n",
       " 'bicycle-built-for-two',\n",
       " 'bikini',\n",
       " 'binder',\n",
       " 'binoculars',\n",
       " 'birdhouse',\n",
       " 'boathouse',\n",
       " 'bobsled',\n",
       " 'bolo_tie',\n",
       " 'bonnet',\n",
       " 'bookcase',\n",
       " 'bookshop',\n",
       " 'bottlecap',\n",
       " 'bow',\n",
       " 'bow_tie',\n",
       " 'brass',\n",
       " 'brassiere',\n",
       " 'breakwater',\n",
       " 'breastplate',\n",
       " 'broom',\n",
       " 'bucket',\n",
       " 'buckle',\n",
       " 'bulletproof_vest',\n",
       " 'bullet_train',\n",
       " 'butcher_shop',\n",
       " 'cab',\n",
       " 'caldron',\n",
       " 'candle',\n",
       " 'cannon',\n",
       " 'canoe',\n",
       " 'can_opener',\n",
       " 'cardigan',\n",
       " 'car_mirror',\n",
       " 'carousel',\n",
       " \"carpenter's_kit\",\n",
       " 'carton',\n",
       " 'car_wheel',\n",
       " 'cash_machine',\n",
       " 'cassette',\n",
       " 'cassette_player',\n",
       " 'castle',\n",
       " 'catamaran',\n",
       " 'CD_player',\n",
       " 'cello',\n",
       " 'cellular_telephone',\n",
       " 'chain',\n",
       " 'chainlink_fence',\n",
       " 'chain_mail',\n",
       " 'chain_saw',\n",
       " 'chest',\n",
       " 'chiffonier',\n",
       " 'chime',\n",
       " 'china_cabinet',\n",
       " 'Christmas_stocking',\n",
       " 'church',\n",
       " 'cinema',\n",
       " 'cleaver',\n",
       " 'cliff_dwelling',\n",
       " 'cloak',\n",
       " 'clog',\n",
       " 'cocktail_shaker',\n",
       " 'coffee_mug',\n",
       " 'coffeepot',\n",
       " 'coil',\n",
       " 'combination_lock',\n",
       " 'computer_keyboard',\n",
       " 'confectionery',\n",
       " 'container_ship',\n",
       " 'convertible',\n",
       " 'corkscrew',\n",
       " 'cornet',\n",
       " 'cowboy_boot',\n",
       " 'cowboy_hat',\n",
       " 'cradle',\n",
       " 'crane',\n",
       " 'crash_helmet',\n",
       " 'crate',\n",
       " 'crib',\n",
       " 'Crock_Pot',\n",
       " 'croquet_ball',\n",
       " 'crutch',\n",
       " 'cuirass',\n",
       " 'dam',\n",
       " 'desk',\n",
       " 'desktop_computer',\n",
       " 'dial_telephone',\n",
       " 'diaper',\n",
       " 'digital_clock',\n",
       " 'digital_watch',\n",
       " 'dining_table',\n",
       " 'dishrag',\n",
       " 'dishwasher',\n",
       " 'disk_brake',\n",
       " 'dock',\n",
       " 'dogsled',\n",
       " 'dome',\n",
       " 'doormat',\n",
       " 'drilling_platform',\n",
       " 'drum',\n",
       " 'drumstick',\n",
       " 'dumbbell',\n",
       " 'Dutch_oven',\n",
       " 'electric_fan',\n",
       " 'electric_guitar',\n",
       " 'electric_locomotive',\n",
       " 'entertainment_center',\n",
       " 'envelope',\n",
       " 'espresso_maker',\n",
       " 'face_powder',\n",
       " 'feather_boa',\n",
       " 'file',\n",
       " 'fireboat',\n",
       " 'fire_engine',\n",
       " 'fire_screen',\n",
       " 'flagpole',\n",
       " 'flute',\n",
       " 'folding_chair',\n",
       " 'football_helmet',\n",
       " 'forklift',\n",
       " 'fountain',\n",
       " 'fountain_pen',\n",
       " 'four-poster',\n",
       " 'freight_car',\n",
       " 'French_horn',\n",
       " 'frying_pan',\n",
       " 'fur_coat',\n",
       " 'garbage_truck',\n",
       " 'gasmask',\n",
       " 'gas_pump',\n",
       " 'goblet',\n",
       " 'go-kart',\n",
       " 'golf_ball',\n",
       " 'golfcart',\n",
       " 'gondola',\n",
       " 'gong',\n",
       " 'gown',\n",
       " 'grand_piano',\n",
       " 'greenhouse',\n",
       " 'grille',\n",
       " 'grocery_store',\n",
       " 'guillotine',\n",
       " 'hair_slide',\n",
       " 'hair_spray',\n",
       " 'half_track',\n",
       " 'hammer',\n",
       " 'hamper',\n",
       " 'hand_blower',\n",
       " 'hand-held_computer',\n",
       " 'handkerchief',\n",
       " 'hard_disc',\n",
       " 'harmonica',\n",
       " 'harp',\n",
       " 'harvester',\n",
       " 'hatchet',\n",
       " 'holster',\n",
       " 'home_theater',\n",
       " 'honeycomb',\n",
       " 'hook',\n",
       " 'hoopskirt',\n",
       " 'horizontal_bar',\n",
       " 'horse_cart',\n",
       " 'hourglass',\n",
       " 'iPod',\n",
       " 'iron',\n",
       " \"jack-o'-lantern\",\n",
       " 'jean',\n",
       " 'jeep',\n",
       " 'jersey',\n",
       " 'jigsaw_puzzle',\n",
       " 'jinrikisha',\n",
       " 'joystick',\n",
       " 'kimono',\n",
       " 'knee_pad',\n",
       " 'knot',\n",
       " 'lab_coat',\n",
       " 'ladle',\n",
       " 'lampshade',\n",
       " 'laptop',\n",
       " 'lawn_mower',\n",
       " 'lens_cap',\n",
       " 'letter_opener',\n",
       " 'library',\n",
       " 'lifeboat',\n",
       " 'lighter',\n",
       " 'limousine',\n",
       " 'liner',\n",
       " 'lipstick',\n",
       " 'Loafer',\n",
       " 'lotion',\n",
       " 'loudspeaker',\n",
       " 'loupe',\n",
       " 'lumbermill',\n",
       " 'magnetic_compass',\n",
       " 'mailbag',\n",
       " 'mailbox',\n",
       " 'maillot',\n",
       " 'maillot',\n",
       " 'manhole_cover',\n",
       " 'maraca',\n",
       " 'marimba',\n",
       " 'mask',\n",
       " 'matchstick',\n",
       " 'maypole',\n",
       " 'maze',\n",
       " 'measuring_cup',\n",
       " 'medicine_chest',\n",
       " 'megalith',\n",
       " 'microphone',\n",
       " 'microwave',\n",
       " 'military_uniform',\n",
       " 'milk_can',\n",
       " 'minibus',\n",
       " 'miniskirt',\n",
       " 'minivan',\n",
       " 'missile',\n",
       " 'mitten',\n",
       " 'mixing_bowl',\n",
       " 'mobile_home',\n",
       " 'Model_T',\n",
       " 'modem',\n",
       " 'monastery',\n",
       " 'monitor',\n",
       " 'moped',\n",
       " 'mortar',\n",
       " 'mortarboard',\n",
       " 'mosque',\n",
       " 'mosquito_net',\n",
       " 'motor_scooter',\n",
       " 'mountain_bike',\n",
       " 'mountain_tent',\n",
       " 'mouse',\n",
       " 'mousetrap',\n",
       " 'moving_van',\n",
       " 'muzzle',\n",
       " 'nail',\n",
       " 'neck_brace',\n",
       " 'necklace',\n",
       " 'nipple',\n",
       " 'notebook',\n",
       " 'obelisk',\n",
       " 'oboe',\n",
       " 'ocarina',\n",
       " 'odometer',\n",
       " 'oil_filter',\n",
       " 'organ',\n",
       " 'oscilloscope',\n",
       " 'overskirt',\n",
       " 'oxcart',\n",
       " 'oxygen_mask',\n",
       " 'packet',\n",
       " 'paddle',\n",
       " 'paddlewheel',\n",
       " 'padlock',\n",
       " 'paintbrush',\n",
       " 'pajama',\n",
       " 'palace',\n",
       " 'panpipe',\n",
       " 'paper_towel',\n",
       " 'parachute',\n",
       " 'parallel_bars',\n",
       " 'park_bench',\n",
       " 'parking_meter',\n",
       " 'passenger_car',\n",
       " 'patio',\n",
       " 'pay-phone',\n",
       " 'pedestal',\n",
       " 'pencil_box',\n",
       " 'pencil_sharpener',\n",
       " 'perfume',\n",
       " 'Petri_dish',\n",
       " 'photocopier',\n",
       " 'pick',\n",
       " 'pickelhaube',\n",
       " 'picket_fence',\n",
       " 'pickup',\n",
       " 'pier',\n",
       " 'piggy_bank',\n",
       " 'pill_bottle',\n",
       " 'pillow',\n",
       " 'ping-pong_ball',\n",
       " 'pinwheel',\n",
       " 'pirate',\n",
       " 'pitcher',\n",
       " 'plane',\n",
       " 'planetarium',\n",
       " 'plastic_bag',\n",
       " 'plate_rack',\n",
       " 'plow',\n",
       " 'plunger',\n",
       " 'Polaroid_camera',\n",
       " 'pole',\n",
       " 'police_van',\n",
       " 'poncho',\n",
       " 'pool_table',\n",
       " 'pop_bottle',\n",
       " 'pot',\n",
       " \"potter's_wheel\",\n",
       " 'power_drill',\n",
       " 'prayer_rug',\n",
       " 'printer',\n",
       " 'prison',\n",
       " 'projectile',\n",
       " 'projector',\n",
       " 'puck',\n",
       " 'punching_bag',\n",
       " 'purse',\n",
       " 'quill',\n",
       " 'quilt',\n",
       " 'racer',\n",
       " 'racket',\n",
       " 'radiator',\n",
       " 'radio',\n",
       " 'radio_telescope',\n",
       " 'rain_barrel',\n",
       " 'recreational_vehicle',\n",
       " 'reel',\n",
       " 'reflex_camera',\n",
       " 'refrigerator',\n",
       " 'remote_control',\n",
       " 'restaurant',\n",
       " 'revolver',\n",
       " 'rifle',\n",
       " 'rocking_chair',\n",
       " 'rotisserie',\n",
       " 'rubber_eraser',\n",
       " 'rugby_ball',\n",
       " 'rule',\n",
       " 'running_shoe',\n",
       " 'safe',\n",
       " 'safety_pin',\n",
       " 'saltshaker',\n",
       " 'sandal',\n",
       " 'sarong',\n",
       " 'sax',\n",
       " 'scabbard',\n",
       " 'scale',\n",
       " 'school_bus',\n",
       " 'schooner',\n",
       " 'scoreboard',\n",
       " 'screen',\n",
       " 'screw',\n",
       " 'screwdriver',\n",
       " 'seat_belt',\n",
       " 'sewing_machine',\n",
       " 'shield',\n",
       " 'shoe_shop',\n",
       " 'shoji',\n",
       " 'shopping_basket',\n",
       " 'shopping_cart',\n",
       " 'shovel',\n",
       " 'shower_cap',\n",
       " 'shower_curtain',\n",
       " 'ski',\n",
       " 'ski_mask',\n",
       " 'sleeping_bag',\n",
       " 'slide_rule',\n",
       " 'sliding_door',\n",
       " 'slot',\n",
       " 'snorkel',\n",
       " 'snowmobile',\n",
       " 'snowplow',\n",
       " 'soap_dispenser',\n",
       " 'soccer_ball',\n",
       " 'sock',\n",
       " 'solar_dish',\n",
       " 'sombrero',\n",
       " 'soup_bowl',\n",
       " 'space_bar',\n",
       " 'space_heater',\n",
       " 'space_shuttle',\n",
       " 'spatula',\n",
       " 'speedboat',\n",
       " 'spider_web',\n",
       " 'spindle',\n",
       " 'sports_car',\n",
       " 'spotlight',\n",
       " 'stage',\n",
       " 'steam_locomotive',\n",
       " 'steel_arch_bridge',\n",
       " 'steel_drum',\n",
       " 'stethoscope',\n",
       " 'stole',\n",
       " 'stone_wall',\n",
       " 'stopwatch',\n",
       " 'stove',\n",
       " 'strainer',\n",
       " 'streetcar',\n",
       " 'stretcher',\n",
       " 'studio_couch',\n",
       " 'stupa',\n",
       " 'submarine',\n",
       " 'suit',\n",
       " 'sundial',\n",
       " 'sunglass',\n",
       " 'sunglasses',\n",
       " 'sunscreen',\n",
       " 'suspension_bridge',\n",
       " 'swab',\n",
       " 'sweatshirt',\n",
       " 'swimming_trunks',\n",
       " 'swing',\n",
       " 'switch',\n",
       " 'syringe',\n",
       " 'table_lamp',\n",
       " 'tank',\n",
       " 'tape_player',\n",
       " 'teapot',\n",
       " 'teddy',\n",
       " 'television',\n",
       " 'tennis_ball',\n",
       " 'thatch',\n",
       " 'theater_curtain',\n",
       " 'thimble',\n",
       " 'thresher',\n",
       " 'throne',\n",
       " 'tile_roof',\n",
       " 'toaster',\n",
       " 'tobacco_shop',\n",
       " 'toilet_seat',\n",
       " 'torch',\n",
       " 'totem_pole',\n",
       " 'tow_truck',\n",
       " 'toyshop',\n",
       " 'tractor',\n",
       " 'trailer_truck',\n",
       " 'tray',\n",
       " 'trench_coat',\n",
       " 'tricycle',\n",
       " 'trimaran',\n",
       " 'tripod',\n",
       " 'triumphal_arch',\n",
       " 'trolleybus',\n",
       " 'trombone',\n",
       " 'tub',\n",
       " 'turnstile',\n",
       " 'typewriter_keyboard',\n",
       " 'umbrella',\n",
       " 'unicycle',\n",
       " 'upright',\n",
       " 'vacuum',\n",
       " 'vase',\n",
       " 'vault',\n",
       " 'velvet',\n",
       " 'vending_machine',\n",
       " 'vestment',\n",
       " 'viaduct',\n",
       " 'violin',\n",
       " 'volleyball',\n",
       " 'waffle_iron',\n",
       " 'wall_clock',\n",
       " 'wallet',\n",
       " 'wardrobe',\n",
       " 'warplane',\n",
       " 'washbasin',\n",
       " 'washer',\n",
       " 'water_bottle',\n",
       " 'water_jug',\n",
       " 'water_tower',\n",
       " 'whiskey_jug',\n",
       " 'whistle',\n",
       " 'wig',\n",
       " 'window_screen',\n",
       " 'window_shade',\n",
       " 'Windsor_tie',\n",
       " 'wine_bottle',\n",
       " 'wing',\n",
       " 'wok',\n",
       " 'wooden_spoon',\n",
       " 'wool',\n",
       " 'worm_fence',\n",
       " 'wreck',\n",
       " 'yawl',\n",
       " 'yurt',\n",
       " 'web_site',\n",
       " 'comic_book',\n",
       " 'crossword_puzzle',\n",
       " 'street_sign',\n",
       " 'traffic_light',\n",
       " 'book_jacket',\n",
       " 'menu',\n",
       " 'plate',\n",
       " 'guacamole',\n",
       " 'consomme',\n",
       " 'hot_pot',\n",
       " 'trifle',\n",
       " 'ice_cream',\n",
       " 'ice_lolly',\n",
       " 'French_loaf',\n",
       " 'bagel',\n",
       " 'pretzel',\n",
       " 'cheeseburger',\n",
       " 'hotdog',\n",
       " 'mashed_potato',\n",
       " 'head_cabbage',\n",
       " 'broccoli',\n",
       " 'cauliflower',\n",
       " 'zucchini',\n",
       " 'spaghetti_squash',\n",
       " 'acorn_squash',\n",
       " 'butternut_squash',\n",
       " 'cucumber',\n",
       " 'artichoke',\n",
       " 'bell_pepper',\n",
       " 'cardoon',\n",
       " 'mushroom',\n",
       " 'Granny_Smith',\n",
       " 'strawberry',\n",
       " 'orange',\n",
       " 'lemon',\n",
       " 'fig',\n",
       " 'pineapple',\n",
       " 'banana',\n",
       " 'jackfruit',\n",
       " 'custard_apple',\n",
       " 'pomegranate',\n",
       " 'hay',\n",
       " 'carbonara',\n",
       " 'chocolate_sauce',\n",
       " 'dough',\n",
       " 'meat_loaf',\n",
       " 'pizza',\n",
       " 'potpie',\n",
       " 'burrito',\n",
       " 'red_wine',\n",
       " 'espresso',\n",
       " 'cup',\n",
       " 'eggnog',\n",
       " 'alp',\n",
       " 'bubble',\n",
       " 'cliff',\n",
       " 'coral_reef',\n",
       " 'geyser',\n",
       " 'lakeside',\n",
       " 'promontory',\n",
       " 'sandbar',\n",
       " 'seashore',\n",
       " 'valley',\n",
       " 'volcano',\n",
       " 'ballplayer',\n",
       " 'groom',\n",
       " 'scuba_diver',\n",
       " 'rapeseed',\n",
       " 'daisy',\n",
       " \"yellow_lady's_slipper\",\n",
       " 'corn',\n",
       " 'acorn',\n",
       " 'hip',\n",
       " 'buckeye',\n",
       " 'coral_fungus',\n",
       " 'agaric',\n",
       " 'gyromitra',\n",
       " 'stinkhorn',\n",
       " 'earthstar',\n",
       " 'hen-of-the-woods',\n",
       " 'bolete',\n",
       " 'ear',\n",
       " 'toilet_tissue']"
      ]
     },
     "execution_count": 10,
     "metadata": {},
     "output_type": "execute_result"
    }
   ],
   "source": [
    "class_dict = json.loads(data.decode())\n",
    "[class_dict[str(i)][1] for i in range(1000)]"
   ]
  },
  {
   "cell_type": "markdown",
   "metadata": {},
   "source": [
    "Imagenet 2012 網頁\n",
    "\n",
    "http://image-net.org/challenges/LSVRC/2012/signup\n",
    "\n",
    "資料下載\n",
    "\n",
    "http://academictorrents.com/browse.php?search=imagenet\n",
    "\n",
    "一千張圖片\n",
    "\n",
    "https://www.dropbox.com/s/vippynksgd8c6qt/ILSVRC2012_val_1000.tar?dl=0"
   ]
  },
  {
   "cell_type": "code",
   "execution_count": 29,
   "metadata": {
    "collapsed": false
   },
   "outputs": [],
   "source": [
    "# 讀取圖片\n",
    "from PIL import Image as pimage\n",
    "from glob import glob\n",
    "imgs = []\n",
    "files = list(glob('ILSVRC2012_img_val/ILSVRC2012_val_*.JPEG'))\n",
    "for fn in files:\n",
    "    img = pimage.open(fn)\n",
    "    img = np.array(img.resize((224,224)))\n",
    "    if img.ndim !=3:\n",
    "        continue\n",
    "    imgs.append(img[:,:,:3])\n",
    "imgs = imgs"
   ]
  },
  {
   "cell_type": "code",
   "execution_count": 30,
   "metadata": {
    "collapsed": false
   },
   "outputs": [],
   "source": [
    "# 準備資料，轉成通用的格式(扣掉顏色的中間值)\n",
    "p_imgs = imagenet_utils.preprocess_input(np.float32(imgs))\n",
    "del imgs"
   ]
  },
  {
   "cell_type": "code",
   "execution_count": 31,
   "metadata": {
    "collapsed": false
   },
   "outputs": [],
   "source": [
    "# 實際\n",
    "predictions = vgg16.predict(p_imgs)"
   ]
  },
  {
   "cell_type": "code",
   "execution_count": 32,
   "metadata": {
    "collapsed": false
   },
   "outputs": [],
   "source": [
    "results = imagenet_utils.decode_predictions(predictions)"
   ]
  },
  {
   "cell_type": "code",
   "execution_count": 33,
   "metadata": {
    "collapsed": false
   },
   "outputs": [
    {
     "data": {
      "text/html": [
       "\n",
       "    <table><tr>\n",
       "    <td><img width=200 src=\"ILSVRC2012_img_val/ILSVRC2012_val_00000010.JPEG\" /></td>\n",
       "    <td><ul><li>90.82% : Angora</li><li>04.82% : Persian_cat</li><li>01.29% : Maltese_dog</li><li>00.94% : Pekinese</li><li>00.74% : hamster</li></ul></td>\n",
       "    </tr>\n",
       "    </table>\n",
       "    "
      ],
      "text/plain": [
       "<IPython.core.display.HTML object>"
      ]
     },
     "metadata": {},
     "output_type": "display_data"
    },
    {
     "data": {
      "text/html": [
       "\n",
       "    <table><tr>\n",
       "    <td><img width=200 src=\"ILSVRC2012_img_val/ILSVRC2012_val_00000775.JPEG\" /></td>\n",
       "    <td><ul><li>99.22% : barracouta</li><li>00.77% : tench</li><li>00.01% : gar</li><li>00.00% : reel</li><li>00.00% : puffer</li></ul></td>\n",
       "    </tr>\n",
       "    </table>\n",
       "    "
      ],
      "text/plain": [
       "<IPython.core.display.HTML object>"
      ]
     },
     "metadata": {},
     "output_type": "display_data"
    },
    {
     "data": {
      "text/html": [
       "\n",
       "    <table><tr>\n",
       "    <td><img width=200 src=\"ILSVRC2012_img_val/ILSVRC2012_val_00000520.JPEG\" /></td>\n",
       "    <td><ul><li>62.14% : marmoset</li><li>20.75% : black-footed_ferret</li><li>07.51% : polecat</li><li>03.50% : weasel</li><li>01.80% : squirrel_monkey</li></ul></td>\n",
       "    </tr>\n",
       "    </table>\n",
       "    "
      ],
      "text/plain": [
       "<IPython.core.display.HTML object>"
      ]
     },
     "metadata": {},
     "output_type": "display_data"
    },
    {
     "data": {
      "text/html": [
       "\n",
       "    <table><tr>\n",
       "    <td><img width=200 src=\"ILSVRC2012_img_val/ILSVRC2012_val_00000222.JPEG\" /></td>\n",
       "    <td><ul><li>91.80% : modem</li><li>01.65% : switch</li><li>00.84% : space_heater</li><li>00.59% : remote_control</li><li>00.59% : iron</li></ul></td>\n",
       "    </tr>\n",
       "    </table>\n",
       "    "
      ],
      "text/plain": [
       "<IPython.core.display.HTML object>"
      ]
     },
     "metadata": {},
     "output_type": "display_data"
    },
    {
     "data": {
      "text/html": [
       "\n",
       "    <table><tr>\n",
       "    <td><img width=200 src=\"ILSVRC2012_img_val/ILSVRC2012_val_00000289.JPEG\" /></td>\n",
       "    <td><ul><li>98.75% : aircraft_carrier</li><li>00.40% : warplane</li><li>00.28% : projectile</li><li>00.24% : missile</li><li>00.15% : tank</li></ul></td>\n",
       "    </tr>\n",
       "    </table>\n",
       "    "
      ],
      "text/plain": [
       "<IPython.core.display.HTML object>"
      ]
     },
     "metadata": {},
     "output_type": "display_data"
    },
    {
     "data": {
      "text/html": [
       "\n",
       "    <table><tr>\n",
       "    <td><img width=200 src=\"ILSVRC2012_img_val/ILSVRC2012_val_00000540.JPEG\" /></td>\n",
       "    <td><ul><li>97.27% : nipple</li><li>02.48% : oxygen_mask</li><li>00.04% : water_bottle</li><li>00.04% : bubble</li><li>00.01% : Petri_dish</li></ul></td>\n",
       "    </tr>\n",
       "    </table>\n",
       "    "
      ],
      "text/plain": [
       "<IPython.core.display.HTML object>"
      ]
     },
     "metadata": {},
     "output_type": "display_data"
    },
    {
     "data": {
      "text/html": [
       "\n",
       "    <table><tr>\n",
       "    <td><img width=200 src=\"ILSVRC2012_img_val/ILSVRC2012_val_00000236.JPEG\" /></td>\n",
       "    <td><ul><li>69.99% : sea_slug</li><li>11.07% : jellyfish</li><li>05.30% : conch</li><li>04.57% : sea_anemone</li><li>02.29% : flatworm</li></ul></td>\n",
       "    </tr>\n",
       "    </table>\n",
       "    "
      ],
      "text/plain": [
       "<IPython.core.display.HTML object>"
      ]
     },
     "metadata": {},
     "output_type": "display_data"
    },
    {
     "data": {
      "text/html": [
       "\n",
       "    <table><tr>\n",
       "    <td><img width=200 src=\"ILSVRC2012_img_val/ILSVRC2012_val_00000128.JPEG\" /></td>\n",
       "    <td><ul><li>66.32% : kite</li><li>15.12% : great_grey_owl</li><li>09.93% : vulture</li><li>05.85% : bald_eagle</li><li>00.65% : hornbill</li></ul></td>\n",
       "    </tr>\n",
       "    </table>\n",
       "    "
      ],
      "text/plain": [
       "<IPython.core.display.HTML object>"
      ]
     },
     "metadata": {},
     "output_type": "display_data"
    },
    {
     "data": {
      "text/html": [
       "\n",
       "    <table><tr>\n",
       "    <td><img width=200 src=\"ILSVRC2012_img_val/ILSVRC2012_val_00000948.JPEG\" /></td>\n",
       "    <td><ul><li>14.48% : bighorn</li><li>13.10% : vizsla</li><li>10.96% : Chesapeake_Bay_retriever</li><li>08.90% : dingo</li><li>08.78% : Irish_terrier</li></ul></td>\n",
       "    </tr>\n",
       "    </table>\n",
       "    "
      ],
      "text/plain": [
       "<IPython.core.display.HTML object>"
      ]
     },
     "metadata": {},
     "output_type": "display_data"
    },
    {
     "data": {
      "text/html": [
       "\n",
       "    <table><tr>\n",
       "    <td><img width=200 src=\"ILSVRC2012_img_val/ILSVRC2012_val_00000814.JPEG\" /></td>\n",
       "    <td><ul><li>98.66% : organ</li><li>00.58% : palace</li><li>00.28% : church</li><li>00.21% : altar</li><li>00.09% : vault</li></ul></td>\n",
       "    </tr>\n",
       "    </table>\n",
       "    "
      ],
      "text/plain": [
       "<IPython.core.display.HTML object>"
      ]
     },
     "metadata": {},
     "output_type": "display_data"
    },
    {
     "data": {
      "text/html": [
       "\n",
       "    <table><tr>\n",
       "    <td><img width=200 src=\"ILSVRC2012_img_val/ILSVRC2012_val_00000776.JPEG\" /></td>\n",
       "    <td><ul><li>56.41% : bobsled</li><li>09.53% : snowplow</li><li>04.45% : snowmobile</li><li>03.71% : ski</li><li>02.22% : chain_saw</li></ul></td>\n",
       "    </tr>\n",
       "    </table>\n",
       "    "
      ],
      "text/plain": [
       "<IPython.core.display.HTML object>"
      ]
     },
     "metadata": {},
     "output_type": "display_data"
    },
    {
     "data": {
      "text/html": [
       "\n",
       "    <table><tr>\n",
       "    <td><img width=200 src=\"ILSVRC2012_img_val/ILSVRC2012_val_00000369.JPEG\" /></td>\n",
       "    <td><ul><li>44.91% : aircraft_carrier</li><li>39.98% : warplane</li><li>04.01% : wing</li><li>02.36% : wreck</li><li>02.19% : submarine</li></ul></td>\n",
       "    </tr>\n",
       "    </table>\n",
       "    "
      ],
      "text/plain": [
       "<IPython.core.display.HTML object>"
      ]
     },
     "metadata": {},
     "output_type": "display_data"
    },
    {
     "data": {
      "text/html": [
       "\n",
       "    <table><tr>\n",
       "    <td><img width=200 src=\"ILSVRC2012_img_val/ILSVRC2012_val_00000130.JPEG\" /></td>\n",
       "    <td><ul><li>99.51% : Persian_cat</li><li>00.18% : tabby</li><li>00.10% : tiger_cat</li><li>00.07% : lynx</li><li>00.04% : chow</li></ul></td>\n",
       "    </tr>\n",
       "    </table>\n",
       "    "
      ],
      "text/plain": [
       "<IPython.core.display.HTML object>"
      ]
     },
     "metadata": {},
     "output_type": "display_data"
    },
    {
     "data": {
      "text/html": [
       "\n",
       "    <table><tr>\n",
       "    <td><img width=200 src=\"ILSVRC2012_img_val/ILSVRC2012_val_00000757.JPEG\" /></td>\n",
       "    <td><ul><li>42.29% : plate</li><li>10.32% : hotdog</li><li>09.35% : guacamole</li><li>08.60% : potpie</li><li>07.78% : acorn_squash</li></ul></td>\n",
       "    </tr>\n",
       "    </table>\n",
       "    "
      ],
      "text/plain": [
       "<IPython.core.display.HTML object>"
      ]
     },
     "metadata": {},
     "output_type": "display_data"
    },
    {
     "data": {
      "text/html": [
       "\n",
       "    <table><tr>\n",
       "    <td><img width=200 src=\"ILSVRC2012_img_val/ILSVRC2012_val_00000720.JPEG\" /></td>\n",
       "    <td><ul><li>99.83% : cab</li><li>00.05% : sports_car</li><li>00.02% : tow_truck</li><li>00.01% : racer</li><li>00.01% : car_wheel</li></ul></td>\n",
       "    </tr>\n",
       "    </table>\n",
       "    "
      ],
      "text/plain": [
       "<IPython.core.display.HTML object>"
      ]
     },
     "metadata": {},
     "output_type": "display_data"
    },
    {
     "data": {
      "text/html": [
       "\n",
       "    <table><tr>\n",
       "    <td><img width=200 src=\"ILSVRC2012_img_val/ILSVRC2012_val_00000420.JPEG\" /></td>\n",
       "    <td><ul><li>99.97% : bee_eater</li><li>00.03% : goldfinch</li><li>00.01% : bulbul</li><li>00.00% : macaw</li><li>00.00% : lorikeet</li></ul></td>\n",
       "    </tr>\n",
       "    </table>\n",
       "    "
      ],
      "text/plain": [
       "<IPython.core.display.HTML object>"
      ]
     },
     "metadata": {},
     "output_type": "display_data"
    },
    {
     "data": {
      "text/html": [
       "\n",
       "    <table><tr>\n",
       "    <td><img width=200 src=\"ILSVRC2012_img_val/ILSVRC2012_val_00000836.JPEG\" /></td>\n",
       "    <td><ul><li>18.84% : dragonfly</li><li>13.57% : acorn</li><li>10.11% : weevil</li><li>07.96% : nematode</li><li>05.76% : ant</li></ul></td>\n",
       "    </tr>\n",
       "    </table>\n",
       "    "
      ],
      "text/plain": [
       "<IPython.core.display.HTML object>"
      ]
     },
     "metadata": {},
     "output_type": "display_data"
    },
    {
     "data": {
      "text/html": [
       "\n",
       "    <table><tr>\n",
       "    <td><img width=200 src=\"ILSVRC2012_img_val/ILSVRC2012_val_00000080.JPEG\" /></td>\n",
       "    <td><ul><li>82.95% : breastplate</li><li>12.23% : cuirass</li><li>01.46% : shield</li><li>01.05% : caldron</li><li>00.64% : pitcher</li></ul></td>\n",
       "    </tr>\n",
       "    </table>\n",
       "    "
      ],
      "text/plain": [
       "<IPython.core.display.HTML object>"
      ]
     },
     "metadata": {},
     "output_type": "display_data"
    },
    {
     "data": {
      "text/html": [
       "\n",
       "    <table><tr>\n",
       "    <td><img width=200 src=\"ILSVRC2012_img_val/ILSVRC2012_val_00000591.JPEG\" /></td>\n",
       "    <td><ul><li>50.52% : restaurant</li><li>27.73% : barbershop</li><li>12.61% : barber_chair</li><li>01.96% : toyshop</li><li>01.55% : tobacco_shop</li></ul></td>\n",
       "    </tr>\n",
       "    </table>\n",
       "    "
      ],
      "text/plain": [
       "<IPython.core.display.HTML object>"
      ]
     },
     "metadata": {},
     "output_type": "display_data"
    },
    {
     "data": {
      "text/html": [
       "\n",
       "    <table><tr>\n",
       "    <td><img width=200 src=\"ILSVRC2012_img_val/ILSVRC2012_val_00000074.JPEG\" /></td>\n",
       "    <td><ul><li>99.99% : carousel</li><li>00.00% : toyshop</li><li>00.00% : slot</li><li>00.00% : confectionery</li><li>00.00% : swing</li></ul></td>\n",
       "    </tr>\n",
       "    </table>\n",
       "    "
      ],
      "text/plain": [
       "<IPython.core.display.HTML object>"
      ]
     },
     "metadata": {},
     "output_type": "display_data"
    },
    {
     "data": {
      "text/html": [
       "\n",
       "    <table><tr>\n",
       "    <td><img width=200 src=\"ILSVRC2012_img_val/ILSVRC2012_val_00000505.JPEG\" /></td>\n",
       "    <td><ul><li>95.46% : jack-o'-lantern</li><li>03.09% : digital_clock</li><li>00.16% : traffic_light</li><li>00.11% : stove</li><li>00.09% : lampshade</li></ul></td>\n",
       "    </tr>\n",
       "    </table>\n",
       "    "
      ],
      "text/plain": [
       "<IPython.core.display.HTML object>"
      ]
     },
     "metadata": {},
     "output_type": "display_data"
    },
    {
     "data": {
      "text/html": [
       "\n",
       "    <table><tr>\n",
       "    <td><img width=200 src=\"ILSVRC2012_img_val/ILSVRC2012_val_00000982.JPEG\" /></td>\n",
       "    <td><ul><li>20.24% : sax</li><li>14.31% : harp</li><li>10.26% : accordion</li><li>06.16% : suit</li><li>05.81% : flute</li></ul></td>\n",
       "    </tr>\n",
       "    </table>\n",
       "    "
      ],
      "text/plain": [
       "<IPython.core.display.HTML object>"
      ]
     },
     "metadata": {},
     "output_type": "display_data"
    },
    {
     "data": {
      "text/html": [
       "\n",
       "    <table><tr>\n",
       "    <td><img width=200 src=\"ILSVRC2012_img_val/ILSVRC2012_val_00000050.JPEG\" /></td>\n",
       "    <td><ul><li>27.34% : fur_coat</li><li>23.08% : barracouta</li><li>15.46% : butcher_shop</li><li>09.51% : stole</li><li>06.88% : coho</li></ul></td>\n",
       "    </tr>\n",
       "    </table>\n",
       "    "
      ],
      "text/plain": [
       "<IPython.core.display.HTML object>"
      ]
     },
     "metadata": {},
     "output_type": "display_data"
    },
    {
     "data": {
      "text/html": [
       "\n",
       "    <table><tr>\n",
       "    <td><img width=200 src=\"ILSVRC2012_img_val/ILSVRC2012_val_00000759.JPEG\" /></td>\n",
       "    <td><ul><li>15.22% : scale</li><li>03.69% : barber_chair</li><li>03.49% : sewing_machine</li><li>03.45% : barbershop</li><li>02.17% : ashcan</li></ul></td>\n",
       "    </tr>\n",
       "    </table>\n",
       "    "
      ],
      "text/plain": [
       "<IPython.core.display.HTML object>"
      ]
     },
     "metadata": {},
     "output_type": "display_data"
    },
    {
     "data": {
      "text/html": [
       "\n",
       "    <table><tr>\n",
       "    <td><img width=200 src=\"ILSVRC2012_img_val/ILSVRC2012_val_00000485.JPEG\" /></td>\n",
       "    <td><ul><li>97.80% : crane</li><li>00.59% : dock</li><li>00.27% : missile</li><li>00.13% : tank</li><li>00.13% : projectile</li></ul></td>\n",
       "    </tr>\n",
       "    </table>\n",
       "    "
      ],
      "text/plain": [
       "<IPython.core.display.HTML object>"
      ]
     },
     "metadata": {},
     "output_type": "display_data"
    },
    {
     "data": {
      "text/html": [
       "\n",
       "    <table><tr>\n",
       "    <td><img width=200 src=\"ILSVRC2012_img_val/ILSVRC2012_val_00000363.JPEG\" /></td>\n",
       "    <td><ul><li>99.72% : bittern</li><li>00.08% : limpkin</li><li>00.07% : ruffed_grouse</li><li>00.04% : partridge</li><li>00.03% : dowitcher</li></ul></td>\n",
       "    </tr>\n",
       "    </table>\n",
       "    "
      ],
      "text/plain": [
       "<IPython.core.display.HTML object>"
      ]
     },
     "metadata": {},
     "output_type": "display_data"
    },
    {
     "data": {
      "text/html": [
       "\n",
       "    <table><tr>\n",
       "    <td><img width=200 src=\"ILSVRC2012_img_val/ILSVRC2012_val_00000951.JPEG\" /></td>\n",
       "    <td><ul><li>99.24% : viaduct</li><li>00.49% : steel_arch_bridge</li><li>00.12% : dam</li><li>00.08% : pier</li><li>00.04% : suspension_bridge</li></ul></td>\n",
       "    </tr>\n",
       "    </table>\n",
       "    "
      ],
      "text/plain": [
       "<IPython.core.display.HTML object>"
      ]
     },
     "metadata": {},
     "output_type": "display_data"
    },
    {
     "data": {
      "text/html": [
       "\n",
       "    <table><tr>\n",
       "    <td><img width=200 src=\"ILSVRC2012_img_val/ILSVRC2012_val_00000306.JPEG\" /></td>\n",
       "    <td><ul><li>40.42% : water_buffalo</li><li>13.92% : African_elephant</li><li>11.31% : American_black_bear</li><li>06.89% : Newfoundland</li><li>05.41% : Indian_elephant</li></ul></td>\n",
       "    </tr>\n",
       "    </table>\n",
       "    "
      ],
      "text/plain": [
       "<IPython.core.display.HTML object>"
      ]
     },
     "metadata": {},
     "output_type": "display_data"
    },
    {
     "data": {
      "text/html": [
       "\n",
       "    <table><tr>\n",
       "    <td><img width=200 src=\"ILSVRC2012_img_val/ILSVRC2012_val_00000472.JPEG\" /></td>\n",
       "    <td><ul><li>99.94% : gyromitra</li><li>00.04% : hen-of-the-woods</li><li>00.01% : coral_fungus</li><li>00.01% : stinkhorn</li><li>00.00% : hen</li></ul></td>\n",
       "    </tr>\n",
       "    </table>\n",
       "    "
      ],
      "text/plain": [
       "<IPython.core.display.HTML object>"
      ]
     },
     "metadata": {},
     "output_type": "display_data"
    },
    {
     "data": {
      "text/html": [
       "\n",
       "    <table><tr>\n",
       "    <td><img width=200 src=\"ILSVRC2012_img_val/ILSVRC2012_val_00000178.JPEG\" /></td>\n",
       "    <td><ul><li>51.99% : Siberian_husky</li><li>34.24% : Eskimo_dog</li><li>13.07% : malamute</li><li>00.58% : Norwegian_elkhound</li><li>00.05% : dogsled</li></ul></td>\n",
       "    </tr>\n",
       "    </table>\n",
       "    "
      ],
      "text/plain": [
       "<IPython.core.display.HTML object>"
      ]
     },
     "metadata": {},
     "output_type": "display_data"
    },
    {
     "data": {
      "text/html": [
       "\n",
       "    <table><tr>\n",
       "    <td><img width=200 src=\"ILSVRC2012_img_val/ILSVRC2012_val_00000421.JPEG\" /></td>\n",
       "    <td><ul><li>99.82% : rocking_chair</li><li>00.10% : turnstile</li><li>00.01% : worm_fence</li><li>00.01% : folding_chair</li><li>00.01% : park_bench</li></ul></td>\n",
       "    </tr>\n",
       "    </table>\n",
       "    "
      ],
      "text/plain": [
       "<IPython.core.display.HTML object>"
      ]
     },
     "metadata": {},
     "output_type": "display_data"
    },
    {
     "data": {
      "text/html": [
       "\n",
       "    <table><tr>\n",
       "    <td><img width=200 src=\"ILSVRC2012_img_val/ILSVRC2012_val_00000451.JPEG\" /></td>\n",
       "    <td><ul><li>46.72% : sandal</li><li>33.48% : whistle</li><li>14.46% : iron</li><li>00.79% : muzzle</li><li>00.78% : clog</li></ul></td>\n",
       "    </tr>\n",
       "    </table>\n",
       "    "
      ],
      "text/plain": [
       "<IPython.core.display.HTML object>"
      ]
     },
     "metadata": {},
     "output_type": "display_data"
    },
    {
     "data": {
      "text/html": [
       "\n",
       "    <table><tr>\n",
       "    <td><img width=200 src=\"ILSVRC2012_img_val/ILSVRC2012_val_00000770.JPEG\" /></td>\n",
       "    <td><ul><li>96.11% : radiator</li><li>01.16% : matchstick</li><li>00.52% : space_heater</li><li>00.48% : spatula</li><li>00.31% : plate_rack</li></ul></td>\n",
       "    </tr>\n",
       "    </table>\n",
       "    "
      ],
      "text/plain": [
       "<IPython.core.display.HTML object>"
      ]
     },
     "metadata": {},
     "output_type": "display_data"
    },
    {
     "data": {
      "text/html": [
       "\n",
       "    <table><tr>\n",
       "    <td><img width=200 src=\"ILSVRC2012_img_val/ILSVRC2012_val_00000056.JPEG\" /></td>\n",
       "    <td><ul><li>91.13% : cab</li><li>05.01% : school_bus</li><li>00.74% : limousine</li><li>00.49% : minibus</li><li>00.37% : beach_wagon</li></ul></td>\n",
       "    </tr>\n",
       "    </table>\n",
       "    "
      ],
      "text/plain": [
       "<IPython.core.display.HTML object>"
      ]
     },
     "metadata": {},
     "output_type": "display_data"
    },
    {
     "data": {
      "text/html": [
       "\n",
       "    <table><tr>\n",
       "    <td><img width=200 src=\"ILSVRC2012_img_val/ILSVRC2012_val_00000280.JPEG\" /></td>\n",
       "    <td><ul><li>99.60% : washer</li><li>00.22% : microwave</li><li>00.10% : dishwasher</li><li>00.03% : stove</li><li>00.01% : loudspeaker</li></ul></td>\n",
       "    </tr>\n",
       "    </table>\n",
       "    "
      ],
      "text/plain": [
       "<IPython.core.display.HTML object>"
      ]
     },
     "metadata": {},
     "output_type": "display_data"
    },
    {
     "data": {
      "text/html": [
       "\n",
       "    <table><tr>\n",
       "    <td><img width=200 src=\"ILSVRC2012_img_val/ILSVRC2012_val_00000040.JPEG\" /></td>\n",
       "    <td><ul><li>68.30% : garden_spider</li><li>10.89% : tick</li><li>10.06% : barn_spider</li><li>07.99% : weevil</li><li>01.26% : spider_web</li></ul></td>\n",
       "    </tr>\n",
       "    </table>\n",
       "    "
      ],
      "text/plain": [
       "<IPython.core.display.HTML object>"
      ]
     },
     "metadata": {},
     "output_type": "display_data"
    },
    {
     "data": {
      "text/html": [
       "\n",
       "    <table><tr>\n",
       "    <td><img width=200 src=\"ILSVRC2012_img_val/ILSVRC2012_val_00000180.JPEG\" /></td>\n",
       "    <td><ul><li>36.29% : Shetland_sheepdog</li><li>24.98% : Border_collie</li><li>19.93% : collie</li><li>08.13% : Old_English_sheepdog</li><li>04.51% : Newfoundland</li></ul></td>\n",
       "    </tr>\n",
       "    </table>\n",
       "    "
      ],
      "text/plain": [
       "<IPython.core.display.HTML object>"
      ]
     },
     "metadata": {},
     "output_type": "display_data"
    },
    {
     "data": {
      "text/html": [
       "\n",
       "    <table><tr>\n",
       "    <td><img width=200 src=\"ILSVRC2012_img_val/ILSVRC2012_val_00000033.JPEG\" /></td>\n",
       "    <td><ul><li>50.72% : otter</li><li>10.94% : terrapin</li><li>05.04% : sea_lion</li><li>04.97% : soft-coated_wheaten_terrier</li><li>03.67% : ice_bear</li></ul></td>\n",
       "    </tr>\n",
       "    </table>\n",
       "    "
      ],
      "text/plain": [
       "<IPython.core.display.HTML object>"
      ]
     },
     "metadata": {},
     "output_type": "display_data"
    },
    {
     "data": {
      "text/html": [
       "\n",
       "    <table><tr>\n",
       "    <td><img width=200 src=\"ILSVRC2012_img_val/ILSVRC2012_val_00000172.JPEG\" /></td>\n",
       "    <td><ul><li>98.19% : English_setter</li><li>00.85% : Scottish_deerhound</li><li>00.36% : Irish_wolfhound</li><li>00.26% : German_short-haired_pointer</li><li>00.07% : bluetick</li></ul></td>\n",
       "    </tr>\n",
       "    </table>\n",
       "    "
      ],
      "text/plain": [
       "<IPython.core.display.HTML object>"
      ]
     },
     "metadata": {},
     "output_type": "display_data"
    },
    {
     "data": {
      "text/html": [
       "\n",
       "    <table><tr>\n",
       "    <td><img width=200 src=\"ILSVRC2012_img_val/ILSVRC2012_val_00000107.JPEG\" /></td>\n",
       "    <td><ul><li>51.72% : barbershop</li><li>38.97% : barber_chair</li><li>04.86% : restaurant</li><li>01.16% : library</li><li>00.50% : bakery</li></ul></td>\n",
       "    </tr>\n",
       "    </table>\n",
       "    "
      ],
      "text/plain": [
       "<IPython.core.display.HTML object>"
      ]
     },
     "metadata": {},
     "output_type": "display_data"
    },
    {
     "data": {
      "text/html": [
       "\n",
       "    <table><tr>\n",
       "    <td><img width=200 src=\"ILSVRC2012_img_val/ILSVRC2012_val_00000762.JPEG\" /></td>\n",
       "    <td><ul><li>89.13% : Cardigan</li><li>05.09% : Border_collie</li><li>01.24% : collie</li><li>00.71% : soccer_ball</li><li>00.39% : American_Staffordshire_terrier</li></ul></td>\n",
       "    </tr>\n",
       "    </table>\n",
       "    "
      ],
      "text/plain": [
       "<IPython.core.display.HTML object>"
      ]
     },
     "metadata": {},
     "output_type": "display_data"
    },
    {
     "data": {
      "text/html": [
       "\n",
       "    <table><tr>\n",
       "    <td><img width=200 src=\"ILSVRC2012_img_val/ILSVRC2012_val_00000997.JPEG\" /></td>\n",
       "    <td><ul><li>77.85% : English_setter</li><li>07.47% : Brittany_spaniel</li><li>05.50% : borzoi</li><li>04.61% : Ibizan_hound</li><li>01.64% : Saluki</li></ul></td>\n",
       "    </tr>\n",
       "    </table>\n",
       "    "
      ],
      "text/plain": [
       "<IPython.core.display.HTML object>"
      ]
     },
     "metadata": {},
     "output_type": "display_data"
    },
    {
     "data": {
      "text/html": [
       "\n",
       "    <table><tr>\n",
       "    <td><img width=200 src=\"ILSVRC2012_img_val/ILSVRC2012_val_00000643.JPEG\" /></td>\n",
       "    <td><ul><li>99.99% : pinwheel</li><li>00.00% : hair_slide</li><li>00.00% : pillow</li><li>00.00% : envelope</li><li>00.00% : Christmas_stocking</li></ul></td>\n",
       "    </tr>\n",
       "    </table>\n",
       "    "
      ],
      "text/plain": [
       "<IPython.core.display.HTML object>"
      ]
     },
     "metadata": {},
     "output_type": "display_data"
    },
    {
     "data": {
      "text/html": [
       "\n",
       "    <table><tr>\n",
       "    <td><img width=200 src=\"ILSVRC2012_img_val/ILSVRC2012_val_00000991.JPEG\" /></td>\n",
       "    <td><ul><li>99.93% : gondola</li><li>00.06% : canoe</li><li>00.00% : paddle</li><li>00.00% : boathouse</li><li>00.00% : lifeboat</li></ul></td>\n",
       "    </tr>\n",
       "    </table>\n",
       "    "
      ],
      "text/plain": [
       "<IPython.core.display.HTML object>"
      ]
     },
     "metadata": {},
     "output_type": "display_data"
    },
    {
     "data": {
      "text/html": [
       "\n",
       "    <table><tr>\n",
       "    <td><img width=200 src=\"ILSVRC2012_img_val/ILSVRC2012_val_00000509.JPEG\" /></td>\n",
       "    <td><ul><li>40.76% : miniature_poodle</li><li>17.92% : toy_poodle</li><li>12.85% : Norwich_terrier</li><li>09.37% : Norfolk_terrier</li><li>08.83% : Dandie_Dinmont</li></ul></td>\n",
       "    </tr>\n",
       "    </table>\n",
       "    "
      ],
      "text/plain": [
       "<IPython.core.display.HTML object>"
      ]
     },
     "metadata": {},
     "output_type": "display_data"
    },
    {
     "data": {
      "text/html": [
       "\n",
       "    <table><tr>\n",
       "    <td><img width=200 src=\"ILSVRC2012_img_val/ILSVRC2012_val_00000867.JPEG\" /></td>\n",
       "    <td><ul><li>72.43% : mashed_potato</li><li>13.62% : dough</li><li>13.16% : ice_cream</li><li>00.41% : trifle</li><li>00.20% : mixing_bowl</li></ul></td>\n",
       "    </tr>\n",
       "    </table>\n",
       "    "
      ],
      "text/plain": [
       "<IPython.core.display.HTML object>"
      ]
     },
     "metadata": {},
     "output_type": "display_data"
    },
    {
     "data": {
      "text/html": [
       "\n",
       "    <table><tr>\n",
       "    <td><img width=200 src=\"ILSVRC2012_img_val/ILSVRC2012_val_00000183.JPEG\" /></td>\n",
       "    <td><ul><li>55.93% : collie</li><li>42.91% : Shetland_sheepdog</li><li>00.56% : borzoi</li><li>00.05% : Afghan_hound</li><li>00.04% : Border_collie</li></ul></td>\n",
       "    </tr>\n",
       "    </table>\n",
       "    "
      ],
      "text/plain": [
       "<IPython.core.display.HTML object>"
      ]
     },
     "metadata": {},
     "output_type": "display_data"
    },
    {
     "data": {
      "text/html": [
       "\n",
       "    <table><tr>\n",
       "    <td><img width=200 src=\"ILSVRC2012_img_val/ILSVRC2012_val_00000003.JPEG\" /></td>\n",
       "    <td><ul><li>99.43% : llama</li><li>00.24% : Afghan_hound</li><li>00.13% : wallaby</li><li>00.04% : Arabian_camel</li><li>00.03% : malinois</li></ul></td>\n",
       "    </tr>\n",
       "    </table>\n",
       "    "
      ],
      "text/plain": [
       "<IPython.core.display.HTML object>"
      ]
     },
     "metadata": {},
     "output_type": "display_data"
    },
    {
     "data": {
      "text/html": [
       "\n",
       "    <table><tr>\n",
       "    <td><img width=200 src=\"ILSVRC2012_img_val/ILSVRC2012_val_00000343.JPEG\" /></td>\n",
       "    <td><ul><li>31.65% : cassette</li><li>15.19% : tape_player</li><li>15.14% : jigsaw_puzzle</li><li>08.07% : cassette_player</li><li>07.95% : rule</li></ul></td>\n",
       "    </tr>\n",
       "    </table>\n",
       "    "
      ],
      "text/plain": [
       "<IPython.core.display.HTML object>"
      ]
     },
     "metadata": {},
     "output_type": "display_data"
    },
    {
     "data": {
      "text/html": [
       "\n",
       "    <table><tr>\n",
       "    <td><img width=200 src=\"ILSVRC2012_img_val/ILSVRC2012_val_00000557.JPEG\" /></td>\n",
       "    <td><ul><li>06.26% : cinema</li><li>05.61% : thatch</li><li>04.14% : pier</li><li>03.98% : picket_fence</li><li>03.18% : shopping_cart</li></ul></td>\n",
       "    </tr>\n",
       "    </table>\n",
       "    "
      ],
      "text/plain": [
       "<IPython.core.display.HTML object>"
      ]
     },
     "metadata": {},
     "output_type": "display_data"
    },
    {
     "data": {
      "text/html": [
       "\n",
       "    <table><tr>\n",
       "    <td><img width=200 src=\"ILSVRC2012_img_val/ILSVRC2012_val_00000652.JPEG\" /></td>\n",
       "    <td><ul><li>99.46% : gas_pump</li><li>00.42% : cash_machine</li><li>00.07% : vending_machine</li><li>00.01% : file</li><li>00.01% : ambulance</li></ul></td>\n",
       "    </tr>\n",
       "    </table>\n",
       "    "
      ],
      "text/plain": [
       "<IPython.core.display.HTML object>"
      ]
     },
     "metadata": {},
     "output_type": "display_data"
    },
    {
     "data": {
      "text/html": [
       "\n",
       "    <table><tr>\n",
       "    <td><img width=200 src=\"ILSVRC2012_img_val/ILSVRC2012_val_00000732.JPEG\" /></td>\n",
       "    <td><ul><li>99.82% : planetarium</li><li>00.16% : dome</li><li>00.02% : mosque</li><li>00.00% : greenhouse</li><li>00.00% : palace</li></ul></td>\n",
       "    </tr>\n",
       "    </table>\n",
       "    "
      ],
      "text/plain": [
       "<IPython.core.display.HTML object>"
      ]
     },
     "metadata": {},
     "output_type": "display_data"
    },
    {
     "data": {
      "text/html": [
       "\n",
       "    <table><tr>\n",
       "    <td><img width=200 src=\"ILSVRC2012_img_val/ILSVRC2012_val_00000753.JPEG\" /></td>\n",
       "    <td><ul><li>37.99% : altar</li><li>11.05% : vestment</li><li>05.97% : toyshop</li><li>04.48% : stupa</li><li>03.83% : water_bottle</li></ul></td>\n",
       "    </tr>\n",
       "    </table>\n",
       "    "
      ],
      "text/plain": [
       "<IPython.core.display.HTML object>"
      ]
     },
     "metadata": {},
     "output_type": "display_data"
    },
    {
     "data": {
      "text/html": [
       "\n",
       "    <table><tr>\n",
       "    <td><img width=200 src=\"ILSVRC2012_img_val/ILSVRC2012_val_00000845.JPEG\" /></td>\n",
       "    <td><ul><li>99.51% : bottlecap</li><li>00.28% : pill_bottle</li><li>00.06% : face_powder</li><li>00.05% : puck</li><li>00.04% : lotion</li></ul></td>\n",
       "    </tr>\n",
       "    </table>\n",
       "    "
      ],
      "text/plain": [
       "<IPython.core.display.HTML object>"
      ]
     },
     "metadata": {},
     "output_type": "display_data"
    },
    {
     "data": {
      "text/html": [
       "\n",
       "    <table><tr>\n",
       "    <td><img width=200 src=\"ILSVRC2012_img_val/ILSVRC2012_val_00000252.JPEG\" /></td>\n",
       "    <td><ul><li>99.98% : switch</li><li>00.00% : dial_telephone</li><li>00.00% : remote_control</li><li>00.00% : soap_dispenser</li><li>00.00% : cash_machine</li></ul></td>\n",
       "    </tr>\n",
       "    </table>\n",
       "    "
      ],
      "text/plain": [
       "<IPython.core.display.HTML object>"
      ]
     },
     "metadata": {},
     "output_type": "display_data"
    },
    {
     "data": {
      "text/html": [
       "\n",
       "    <table><tr>\n",
       "    <td><img width=200 src=\"ILSVRC2012_img_val/ILSVRC2012_val_00000053.JPEG\" /></td>\n",
       "    <td><ul><li>99.64% : chow</li><li>00.26% : Pomeranian</li><li>00.06% : Tibetan_mastiff</li><li>00.03% : keeshond</li><li>00.01% : Pekinese</li></ul></td>\n",
       "    </tr>\n",
       "    </table>\n",
       "    "
      ],
      "text/plain": [
       "<IPython.core.display.HTML object>"
      ]
     },
     "metadata": {},
     "output_type": "display_data"
    },
    {
     "data": {
      "text/html": [
       "\n",
       "    <table><tr>\n",
       "    <td><img width=200 src=\"ILSVRC2012_img_val/ILSVRC2012_val_00000355.JPEG\" /></td>\n",
       "    <td><ul><li>87.13% : white_stork</li><li>02.56% : redshank</li><li>02.18% : vulture</li><li>01.02% : black_stork</li><li>00.75% : magpie</li></ul></td>\n",
       "    </tr>\n",
       "    </table>\n",
       "    "
      ],
      "text/plain": [
       "<IPython.core.display.HTML object>"
      ]
     },
     "metadata": {},
     "output_type": "display_data"
    },
    {
     "data": {
      "text/html": [
       "\n",
       "    <table><tr>\n",
       "    <td><img width=200 src=\"ILSVRC2012_img_val/ILSVRC2012_val_00000751.JPEG\" /></td>\n",
       "    <td><ul><li>35.64% : bassinet</li><li>23.39% : cradle</li><li>22.88% : diaper</li><li>07.15% : paper_towel</li><li>02.18% : toilet_tissue</li></ul></td>\n",
       "    </tr>\n",
       "    </table>\n",
       "    "
      ],
      "text/plain": [
       "<IPython.core.display.HTML object>"
      ]
     },
     "metadata": {},
     "output_type": "display_data"
    },
    {
     "data": {
      "text/html": [
       "\n",
       "    <table><tr>\n",
       "    <td><img width=200 src=\"ILSVRC2012_img_val/ILSVRC2012_val_00000947.JPEG\" /></td>\n",
       "    <td><ul><li>97.20% : yurt</li><li>00.52% : ashcan</li><li>00.41% : barn</li><li>00.26% : mountain_tent</li><li>00.15% : boathouse</li></ul></td>\n",
       "    </tr>\n",
       "    </table>\n",
       "    "
      ],
      "text/plain": [
       "<IPython.core.display.HTML object>"
      ]
     },
     "metadata": {},
     "output_type": "display_data"
    },
    {
     "data": {
      "text/html": [
       "\n",
       "    <table><tr>\n",
       "    <td><img width=200 src=\"ILSVRC2012_img_val/ILSVRC2012_val_00000490.JPEG\" /></td>\n",
       "    <td><ul><li>67.33% : French_loaf</li><li>17.58% : dough</li><li>06.39% : potpie</li><li>04.93% : frying_pan</li><li>01.51% : Dutch_oven</li></ul></td>\n",
       "    </tr>\n",
       "    </table>\n",
       "    "
      ],
      "text/plain": [
       "<IPython.core.display.HTML object>"
      ]
     },
     "metadata": {},
     "output_type": "display_data"
    },
    {
     "data": {
      "text/html": [
       "\n",
       "    <table><tr>\n",
       "    <td><img width=200 src=\"ILSVRC2012_img_val/ILSVRC2012_val_00000820.JPEG\" /></td>\n",
       "    <td><ul><li>100.00% : space_shuttle</li><li>00.00% : missile</li><li>00.00% : projectile</li><li>00.00% : drilling_platform</li><li>00.00% : obelisk</li></ul></td>\n",
       "    </tr>\n",
       "    </table>\n",
       "    "
      ],
      "text/plain": [
       "<IPython.core.display.HTML object>"
      ]
     },
     "metadata": {},
     "output_type": "display_data"
    },
    {
     "data": {
      "text/html": [
       "\n",
       "    <table><tr>\n",
       "    <td><img width=200 src=\"ILSVRC2012_img_val/ILSVRC2012_val_00000559.JPEG\" /></td>\n",
       "    <td><ul><li>68.58% : Newfoundland</li><li>18.01% : Bouvier_des_Flandres</li><li>08.14% : briard</li><li>02.02% : giant_schnauzer</li><li>00.66% : Tibetan_terrier</li></ul></td>\n",
       "    </tr>\n",
       "    </table>\n",
       "    "
      ],
      "text/plain": [
       "<IPython.core.display.HTML object>"
      ]
     },
     "metadata": {},
     "output_type": "display_data"
    },
    {
     "data": {
      "text/html": [
       "\n",
       "    <table><tr>\n",
       "    <td><img width=200 src=\"ILSVRC2012_img_val/ILSVRC2012_val_00000045.JPEG\" /></td>\n",
       "    <td><ul><li>24.45% : dung_beetle</li><li>18.40% : mushroom</li><li>16.36% : nail</li><li>07.49% : sea_urchin</li><li>06.78% : bolete</li></ul></td>\n",
       "    </tr>\n",
       "    </table>\n",
       "    "
      ],
      "text/plain": [
       "<IPython.core.display.HTML object>"
      ]
     },
     "metadata": {},
     "output_type": "display_data"
    },
    {
     "data": {
      "text/html": [
       "\n",
       "    <table><tr>\n",
       "    <td><img width=200 src=\"ILSVRC2012_img_val/ILSVRC2012_val_00000229.JPEG\" /></td>\n",
       "    <td><ul><li>60.30% : brambling</li><li>30.09% : junco</li><li>05.42% : goldfinch</li><li>01.33% : bulbul</li><li>00.67% : ruddy_turnstone</li></ul></td>\n",
       "    </tr>\n",
       "    </table>\n",
       "    "
      ],
      "text/plain": [
       "<IPython.core.display.HTML object>"
      ]
     },
     "metadata": {},
     "output_type": "display_data"
    },
    {
     "data": {
      "text/html": [
       "\n",
       "    <table><tr>\n",
       "    <td><img width=200 src=\"ILSVRC2012_img_val/ILSVRC2012_val_00000651.JPEG\" /></td>\n",
       "    <td><ul><li>99.36% : crane</li><li>00.27% : radio</li><li>00.14% : radio_telescope</li><li>00.12% : hook</li><li>00.07% : drilling_platform</li></ul></td>\n",
       "    </tr>\n",
       "    </table>\n",
       "    "
      ],
      "text/plain": [
       "<IPython.core.display.HTML object>"
      ]
     },
     "metadata": {},
     "output_type": "display_data"
    },
    {
     "data": {
      "text/html": [
       "\n",
       "    <table><tr>\n",
       "    <td><img width=200 src=\"ILSVRC2012_img_val/ILSVRC2012_val_00000020.JPEG\" /></td>\n",
       "    <td><ul><li>84.77% : common_newt</li><li>08.59% : starfish</li><li>02.29% : sea_cucumber</li><li>01.32% : eft</li><li>00.67% : sturgeon</li></ul></td>\n",
       "    </tr>\n",
       "    </table>\n",
       "    "
      ],
      "text/plain": [
       "<IPython.core.display.HTML object>"
      ]
     },
     "metadata": {},
     "output_type": "display_data"
    },
    {
     "data": {
      "text/html": [
       "\n",
       "    <table><tr>\n",
       "    <td><img width=200 src=\"ILSVRC2012_img_val/ILSVRC2012_val_00000498.JPEG\" /></td>\n",
       "    <td><ul><li>40.76% : bakery</li><li>23.02% : restaurant</li><li>12.12% : tobacco_shop</li><li>10.22% : barbershop</li><li>04.06% : bookshop</li></ul></td>\n",
       "    </tr>\n",
       "    </table>\n",
       "    "
      ],
      "text/plain": [
       "<IPython.core.display.HTML object>"
      ]
     },
     "metadata": {},
     "output_type": "display_data"
    },
    {
     "data": {
      "text/html": [
       "\n",
       "    <table><tr>\n",
       "    <td><img width=200 src=\"ILSVRC2012_img_val/ILSVRC2012_val_00000633.JPEG\" /></td>\n",
       "    <td><ul><li>85.71% : tusker</li><li>13.37% : Indian_elephant</li><li>00.91% : African_elephant</li><li>00.00% : triceratops</li><li>00.00% : water_buffalo</li></ul></td>\n",
       "    </tr>\n",
       "    </table>\n",
       "    "
      ],
      "text/plain": [
       "<IPython.core.display.HTML object>"
      ]
     },
     "metadata": {},
     "output_type": "display_data"
    },
    {
     "data": {
      "text/html": [
       "\n",
       "    <table><tr>\n",
       "    <td><img width=200 src=\"ILSVRC2012_img_val/ILSVRC2012_val_00000597.JPEG\" /></td>\n",
       "    <td><ul><li>99.36% : plane</li><li>00.38% : lumbermill</li><li>00.04% : mortar</li><li>00.02% : guillotine</li><li>00.02% : hammer</li></ul></td>\n",
       "    </tr>\n",
       "    </table>\n",
       "    "
      ],
      "text/plain": [
       "<IPython.core.display.HTML object>"
      ]
     },
     "metadata": {},
     "output_type": "display_data"
    },
    {
     "data": {
      "text/html": [
       "\n",
       "    <table><tr>\n",
       "    <td><img width=200 src=\"ILSVRC2012_img_val/ILSVRC2012_val_00000144.JPEG\" /></td>\n",
       "    <td><ul><li>37.71% : computer_keyboard</li><li>13.00% : crossword_puzzle</li><li>11.84% : laptop</li><li>04.23% : abacus</li><li>02.46% : menu</li></ul></td>\n",
       "    </tr>\n",
       "    </table>\n",
       "    "
      ],
      "text/plain": [
       "<IPython.core.display.HTML object>"
      ]
     },
     "metadata": {},
     "output_type": "display_data"
    },
    {
     "data": {
      "text/html": [
       "\n",
       "    <table><tr>\n",
       "    <td><img width=200 src=\"ILSVRC2012_img_val/ILSVRC2012_val_00000904.JPEG\" /></td>\n",
       "    <td><ul><li>64.85% : Siberian_husky</li><li>31.19% : Eskimo_dog</li><li>03.47% : malamute</li><li>00.13% : timber_wolf</li><li>00.07% : Pembroke</li></ul></td>\n",
       "    </tr>\n",
       "    </table>\n",
       "    "
      ],
      "text/plain": [
       "<IPython.core.display.HTML object>"
      ]
     },
     "metadata": {},
     "output_type": "display_data"
    },
    {
     "data": {
      "text/html": [
       "\n",
       "    <table><tr>\n",
       "    <td><img width=200 src=\"ILSVRC2012_img_val/ILSVRC2012_val_00000296.JPEG\" /></td>\n",
       "    <td><ul><li>91.55% : electric_guitar</li><li>02.88% : acoustic_guitar</li><li>01.21% : stage</li><li>00.88% : accordion</li><li>00.74% : microphone</li></ul></td>\n",
       "    </tr>\n",
       "    </table>\n",
       "    "
      ],
      "text/plain": [
       "<IPython.core.display.HTML object>"
      ]
     },
     "metadata": {},
     "output_type": "display_data"
    },
    {
     "data": {
      "text/html": [
       "\n",
       "    <table><tr>\n",
       "    <td><img width=200 src=\"ILSVRC2012_img_val/ILSVRC2012_val_00000993.JPEG\" /></td>\n",
       "    <td><ul><li>43.50% : streetcar</li><li>40.14% : trolleybus</li><li>08.70% : passenger_car</li><li>06.05% : minibus</li><li>00.92% : electric_locomotive</li></ul></td>\n",
       "    </tr>\n",
       "    </table>\n",
       "    "
      ],
      "text/plain": [
       "<IPython.core.display.HTML object>"
      ]
     },
     "metadata": {},
     "output_type": "display_data"
    },
    {
     "data": {
      "text/html": [
       "\n",
       "    <table><tr>\n",
       "    <td><img width=200 src=\"ILSVRC2012_img_val/ILSVRC2012_val_00000374.JPEG\" /></td>\n",
       "    <td><ul><li>83.74% : black_grouse</li><li>15.96% : coucal</li><li>00.15% : ptarmigan</li><li>00.04% : ruffed_grouse</li><li>00.04% : vulture</li></ul></td>\n",
       "    </tr>\n",
       "    </table>\n",
       "    "
      ],
      "text/plain": [
       "<IPython.core.display.HTML object>"
      ]
     },
     "metadata": {},
     "output_type": "display_data"
    },
    {
     "data": {
      "text/html": [
       "\n",
       "    <table><tr>\n",
       "    <td><img width=200 src=\"ILSVRC2012_img_val/ILSVRC2012_val_00000833.JPEG\" /></td>\n",
       "    <td><ul><li>50.64% : otterhound</li><li>41.17% : Airedale</li><li>03.13% : Lakeland_terrier</li><li>01.61% : Irish_wolfhound</li><li>01.11% : wire-haired_fox_terrier</li></ul></td>\n",
       "    </tr>\n",
       "    </table>\n",
       "    "
      ],
      "text/plain": [
       "<IPython.core.display.HTML object>"
      ]
     },
     "metadata": {},
     "output_type": "display_data"
    },
    {
     "data": {
      "text/html": [
       "\n",
       "    <table><tr>\n",
       "    <td><img width=200 src=\"ILSVRC2012_img_val/ILSVRC2012_val_00000370.JPEG\" /></td>\n",
       "    <td><ul><li>29.75% : plate</li><li>25.83% : ice_cream</li><li>10.60% : meat_loaf</li><li>09.24% : burrito</li><li>08.08% : cheeseburger</li></ul></td>\n",
       "    </tr>\n",
       "    </table>\n",
       "    "
      ],
      "text/plain": [
       "<IPython.core.display.HTML object>"
      ]
     },
     "metadata": {},
     "output_type": "display_data"
    },
    {
     "data": {
      "text/html": [
       "\n",
       "    <table><tr>\n",
       "    <td><img width=200 src=\"ILSVRC2012_img_val/ILSVRC2012_val_00000500.JPEG\" /></td>\n",
       "    <td><ul><li>89.89% : tarantula</li><li>06.44% : wolf_spider</li><li>02.19% : rock_crab</li><li>00.55% : axolotl</li><li>00.32% : scorpion</li></ul></td>\n",
       "    </tr>\n",
       "    </table>\n",
       "    "
      ],
      "text/plain": [
       "<IPython.core.display.HTML object>"
      ]
     },
     "metadata": {},
     "output_type": "display_data"
    },
    {
     "data": {
      "text/html": [
       "\n",
       "    <table><tr>\n",
       "    <td><img width=200 src=\"ILSVRC2012_img_val/ILSVRC2012_val_00000606.JPEG\" /></td>\n",
       "    <td><ul><li>68.39% : grille</li><li>14.35% : convertible</li><li>07.54% : beach_wagon</li><li>03.76% : pickup</li><li>02.87% : cab</li></ul></td>\n",
       "    </tr>\n",
       "    </table>\n",
       "    "
      ],
      "text/plain": [
       "<IPython.core.display.HTML object>"
      ]
     },
     "metadata": {},
     "output_type": "display_data"
    },
    {
     "data": {
      "text/html": [
       "\n",
       "    <table><tr>\n",
       "    <td><img width=200 src=\"ILSVRC2012_img_val/ILSVRC2012_val_00000396.JPEG\" /></td>\n",
       "    <td><ul><li>20.59% : tailed_frog</li><li>13.69% : wolf_spider</li><li>10.27% : spotted_salamander</li><li>07.22% : common_newt</li><li>06.35% : European_fire_salamander</li></ul></td>\n",
       "    </tr>\n",
       "    </table>\n",
       "    "
      ],
      "text/plain": [
       "<IPython.core.display.HTML object>"
      ]
     },
     "metadata": {},
     "output_type": "display_data"
    },
    {
     "data": {
      "text/html": [
       "\n",
       "    <table><tr>\n",
       "    <td><img width=200 src=\"ILSVRC2012_img_val/ILSVRC2012_val_00000852.JPEG\" /></td>\n",
       "    <td><ul><li>77.77% : bobsled</li><li>15.12% : ski</li><li>04.76% : dogsled</li><li>01.43% : alp</li><li>00.60% : snowmobile</li></ul></td>\n",
       "    </tr>\n",
       "    </table>\n",
       "    "
      ],
      "text/plain": [
       "<IPython.core.display.HTML object>"
      ]
     },
     "metadata": {},
     "output_type": "display_data"
    },
    {
     "data": {
      "text/html": [
       "\n",
       "    <table><tr>\n",
       "    <td><img width=200 src=\"ILSVRC2012_img_val/ILSVRC2012_val_00000088.JPEG\" /></td>\n",
       "    <td><ul><li>100.00% : viaduct</li><li>00.00% : pier</li><li>00.00% : steel_arch_bridge</li><li>00.00% : dam</li><li>00.00% : lakeside</li></ul></td>\n",
       "    </tr>\n",
       "    </table>\n",
       "    "
      ],
      "text/plain": [
       "<IPython.core.display.HTML object>"
      ]
     },
     "metadata": {},
     "output_type": "display_data"
    },
    {
     "data": {
      "text/html": [
       "\n",
       "    <table><tr>\n",
       "    <td><img width=200 src=\"ILSVRC2012_img_val/ILSVRC2012_val_00000663.JPEG\" /></td>\n",
       "    <td><ul><li>99.89% : drake</li><li>00.06% : American_coot</li><li>00.03% : red-breasted_merganser</li><li>00.01% : goose</li><li>00.01% : lakeside</li></ul></td>\n",
       "    </tr>\n",
       "    </table>\n",
       "    "
      ],
      "text/plain": [
       "<IPython.core.display.HTML object>"
      ]
     },
     "metadata": {},
     "output_type": "display_data"
    },
    {
     "data": {
      "text/html": [
       "\n",
       "    <table><tr>\n",
       "    <td><img width=200 src=\"ILSVRC2012_img_val/ILSVRC2012_val_00000475.JPEG\" /></td>\n",
       "    <td><ul><li>49.89% : hammerhead</li><li>29.90% : great_white_shark</li><li>15.64% : tiger_shark</li><li>01.37% : electric_ray</li><li>00.58% : dugong</li></ul></td>\n",
       "    </tr>\n",
       "    </table>\n",
       "    "
      ],
      "text/plain": [
       "<IPython.core.display.HTML object>"
      ]
     },
     "metadata": {},
     "output_type": "display_data"
    },
    {
     "data": {
      "text/html": [
       "\n",
       "    <table><tr>\n",
       "    <td><img width=200 src=\"ILSVRC2012_img_val/ILSVRC2012_val_00000415.JPEG\" /></td>\n",
       "    <td><ul><li>36.57% : gorilla</li><li>15.51% : colobus</li><li>08.49% : spider_monkey</li><li>07.29% : siamang</li><li>07.06% : chimpanzee</li></ul></td>\n",
       "    </tr>\n",
       "    </table>\n",
       "    "
      ],
      "text/plain": [
       "<IPython.core.display.HTML object>"
      ]
     },
     "metadata": {},
     "output_type": "display_data"
    },
    {
     "data": {
      "text/html": [
       "\n",
       "    <table><tr>\n",
       "    <td><img width=200 src=\"ILSVRC2012_img_val/ILSVRC2012_val_00000312.JPEG\" /></td>\n",
       "    <td><ul><li>95.67% : jellyfish</li><li>02.24% : electric_ray</li><li>01.02% : stingray</li><li>00.85% : conch</li><li>00.05% : flatworm</li></ul></td>\n",
       "    </tr>\n",
       "    </table>\n",
       "    "
      ],
      "text/plain": [
       "<IPython.core.display.HTML object>"
      ]
     },
     "metadata": {},
     "output_type": "display_data"
    },
    {
     "data": {
      "text/html": [
       "\n",
       "    <table><tr>\n",
       "    <td><img width=200 src=\"ILSVRC2012_img_val/ILSVRC2012_val_00000087.JPEG\" /></td>\n",
       "    <td><ul><li>99.42% : bittern</li><li>00.20% : bustard</li><li>00.12% : hummingbird</li><li>00.05% : coucal</li><li>00.04% : bee_eater</li></ul></td>\n",
       "    </tr>\n",
       "    </table>\n",
       "    "
      ],
      "text/plain": [
       "<IPython.core.display.HTML object>"
      ]
     },
     "metadata": {},
     "output_type": "display_data"
    },
    {
     "data": {
      "text/html": [
       "\n",
       "    <table><tr>\n",
       "    <td><img width=200 src=\"ILSVRC2012_img_val/ILSVRC2012_val_00000063.JPEG\" /></td>\n",
       "    <td><ul><li>89.48% : ocarina</li><li>03.69% : stage</li><li>01.44% : panpipe</li><li>00.79% : accordion</li><li>00.78% : harmonica</li></ul></td>\n",
       "    </tr>\n",
       "    </table>\n",
       "    "
      ],
      "text/plain": [
       "<IPython.core.display.HTML object>"
      ]
     },
     "metadata": {},
     "output_type": "display_data"
    },
    {
     "data": {
      "text/html": [
       "\n",
       "    <table><tr>\n",
       "    <td><img width=200 src=\"ILSVRC2012_img_val/ILSVRC2012_val_00000390.JPEG\" /></td>\n",
       "    <td><ul><li>53.82% : fountain_pen</li><li>24.23% : ballpoint</li><li>17.18% : rubber_eraser</li><li>01.65% : screwdriver</li><li>01.04% : paintbrush</li></ul></td>\n",
       "    </tr>\n",
       "    </table>\n",
       "    "
      ],
      "text/plain": [
       "<IPython.core.display.HTML object>"
      ]
     },
     "metadata": {},
     "output_type": "display_data"
    },
    {
     "data": {
      "text/html": [
       "\n",
       "    <table><tr>\n",
       "    <td><img width=200 src=\"ILSVRC2012_img_val/ILSVRC2012_val_00000521.JPEG\" /></td>\n",
       "    <td><ul><li>98.27% : mosque</li><li>00.95% : dome</li><li>00.28% : palace</li><li>00.17% : obelisk</li><li>00.14% : monastery</li></ul></td>\n",
       "    </tr>\n",
       "    </table>\n",
       "    "
      ],
      "text/plain": [
       "<IPython.core.display.HTML object>"
      ]
     },
     "metadata": {},
     "output_type": "display_data"
    },
    {
     "data": {
      "text/html": [
       "\n",
       "    <table><tr>\n",
       "    <td><img width=200 src=\"ILSVRC2012_img_val/ILSVRC2012_val_00000721.JPEG\" /></td>\n",
       "    <td><ul><li>11.21% : cliff</li><li>10.05% : groom</li><li>09.10% : seashore</li><li>08.00% : bikini</li><li>05.85% : sandbar</li></ul></td>\n",
       "    </tr>\n",
       "    </table>\n",
       "    "
      ],
      "text/plain": [
       "<IPython.core.display.HTML object>"
      ]
     },
     "metadata": {},
     "output_type": "display_data"
    },
    {
     "data": {
      "text/html": [
       "\n",
       "    <table><tr>\n",
       "    <td><img width=200 src=\"ILSVRC2012_img_val/ILSVRC2012_val_00000864.JPEG\" /></td>\n",
       "    <td><ul><li>94.50% : porcupine</li><li>02.57% : echidna</li><li>00.83% : skunk</li><li>00.62% : badger</li><li>00.36% : marmoset</li></ul></td>\n",
       "    </tr>\n",
       "    </table>\n",
       "    "
      ],
      "text/plain": [
       "<IPython.core.display.HTML object>"
      ]
     },
     "metadata": {},
     "output_type": "display_data"
    },
    {
     "data": {
      "text/html": [
       "\n",
       "    <table><tr>\n",
       "    <td><img width=200 src=\"ILSVRC2012_img_val/ILSVRC2012_val_00000917.JPEG\" /></td>\n",
       "    <td><ul><li>98.21% : cash_machine</li><li>01.03% : pay-phone</li><li>00.41% : vending_machine</li><li>00.12% : slot</li><li>00.04% : television</li></ul></td>\n",
       "    </tr>\n",
       "    </table>\n",
       "    "
      ],
      "text/plain": [
       "<IPython.core.display.HTML object>"
      ]
     },
     "metadata": {},
     "output_type": "display_data"
    },
    {
     "data": {
      "text/html": [
       "\n",
       "    <table><tr>\n",
       "    <td><img width=200 src=\"ILSVRC2012_img_val/ILSVRC2012_val_00000007.JPEG\" /></td>\n",
       "    <td><ul><li>37.41% : tennis_ball</li><li>08.94% : bath_towel</li><li>07.74% : paper_towel</li><li>07.30% : toilet_tissue</li><li>04.98% : hotdog</li></ul></td>\n",
       "    </tr>\n",
       "    </table>\n",
       "    "
      ],
      "text/plain": [
       "<IPython.core.display.HTML object>"
      ]
     },
     "metadata": {},
     "output_type": "display_data"
    },
    {
     "data": {
      "text/html": [
       "\n",
       "    <table><tr>\n",
       "    <td><img width=200 src=\"ILSVRC2012_img_val/ILSVRC2012_val_00000893.JPEG\" /></td>\n",
       "    <td><ul><li>45.21% : dogsled</li><li>12.64% : kelpie</li><li>08.56% : groenendael</li><li>06.11% : collie</li><li>05.85% : Eskimo_dog</li></ul></td>\n",
       "    </tr>\n",
       "    </table>\n",
       "    "
      ],
      "text/plain": [
       "<IPython.core.display.HTML object>"
      ]
     },
     "metadata": {},
     "output_type": "display_data"
    },
    {
     "data": {
      "text/html": [
       "\n",
       "    <table><tr>\n",
       "    <td><img width=200 src=\"ILSVRC2012_img_val/ILSVRC2012_val_00000008.JPEG\" /></td>\n",
       "    <td><ul><li>96.94% : sea_urchin</li><li>01.62% : sea_anemone</li><li>00.58% : coral_reef</li><li>00.27% : sea_slug</li><li>00.19% : chiton</li></ul></td>\n",
       "    </tr>\n",
       "    </table>\n",
       "    "
      ],
      "text/plain": [
       "<IPython.core.display.HTML object>"
      ]
     },
     "metadata": {},
     "output_type": "display_data"
    },
    {
     "data": {
      "text/html": [
       "\n",
       "    <table><tr>\n",
       "    <td><img width=200 src=\"ILSVRC2012_img_val/ILSVRC2012_val_00000228.JPEG\" /></td>\n",
       "    <td><ul><li>28.05% : remote_control</li><li>27.96% : cellular_telephone</li><li>10.10% : pay-phone</li><li>06.36% : radio</li><li>04.04% : iPod</li></ul></td>\n",
       "    </tr>\n",
       "    </table>\n",
       "    "
      ],
      "text/plain": [
       "<IPython.core.display.HTML object>"
      ]
     },
     "metadata": {},
     "output_type": "display_data"
    },
    {
     "data": {
      "text/html": [
       "\n",
       "    <table><tr>\n",
       "    <td><img width=200 src=\"ILSVRC2012_img_val/ILSVRC2012_val_00000138.JPEG\" /></td>\n",
       "    <td><ul><li>99.98% : puck</li><li>00.02% : ski</li><li>00.00% : broom</li><li>00.00% : knee_pad</li><li>00.00% : parachute</li></ul></td>\n",
       "    </tr>\n",
       "    </table>\n",
       "    "
      ],
      "text/plain": [
       "<IPython.core.display.HTML object>"
      ]
     },
     "metadata": {},
     "output_type": "display_data"
    },
    {
     "data": {
      "text/html": [
       "\n",
       "    <table><tr>\n",
       "    <td><img width=200 src=\"ILSVRC2012_img_val/ILSVRC2012_val_00000257.JPEG\" /></td>\n",
       "    <td><ul><li>99.58% : whiptail</li><li>00.26% : alligator_lizard</li><li>00.08% : agama</li><li>00.06% : banded_gecko</li><li>00.01% : common_newt</li></ul></td>\n",
       "    </tr>\n",
       "    </table>\n",
       "    "
      ],
      "text/plain": [
       "<IPython.core.display.HTML object>"
      ]
     },
     "metadata": {},
     "output_type": "display_data"
    },
    {
     "data": {
      "text/html": [
       "\n",
       "    <table><tr>\n",
       "    <td><img width=200 src=\"ILSVRC2012_img_val/ILSVRC2012_val_00000682.JPEG\" /></td>\n",
       "    <td><ul><li>82.98% : cucumber</li><li>13.88% : zucchini</li><li>01.33% : corn</li><li>01.27% : ear</li><li>00.10% : bell_pepper</li></ul></td>\n",
       "    </tr>\n",
       "    </table>\n",
       "    "
      ],
      "text/plain": [
       "<IPython.core.display.HTML object>"
      ]
     },
     "metadata": {},
     "output_type": "display_data"
    },
    {
     "data": {
      "text/html": [
       "\n",
       "    <table><tr>\n",
       "    <td><img width=200 src=\"ILSVRC2012_img_val/ILSVRC2012_val_00000908.JPEG\" /></td>\n",
       "    <td><ul><li>80.43% : bullet_train</li><li>04.48% : trimaran</li><li>02.42% : submarine</li><li>01.33% : shopping_cart</li><li>00.86% : liner</li></ul></td>\n",
       "    </tr>\n",
       "    </table>\n",
       "    "
      ],
      "text/plain": [
       "<IPython.core.display.HTML object>"
      ]
     },
     "metadata": {},
     "output_type": "display_data"
    }
   ],
   "source": [
    "from IPython.display import Image, HTML, display\n",
    "for fn, res in zip(files[:100], results[:100]):\n",
    "    res_text = \"\".join(\"<li>{:05.2f}% : {}</li>\".format(x[2]*100, x[1]) for x in res)\n",
    "    display(HTML(\"\"\"\n",
    "    <table><tr>\n",
    "    <td><img width=200 src=\"{}\" /></td>\n",
    "    <td><ul>{}</ul></td>\n",
    "    </tr>\n",
    "    </table>\n",
    "    \"\"\".format(fn, res_text)))    "
   ]
  },
  {
   "cell_type": "code",
   "execution_count": null,
   "metadata": {
    "collapsed": true
   },
   "outputs": [],
   "source": [
    "# 載入 mnist\n",
    "import gzip\n",
    "import pickle\n",
    "with gzip.open(\"../Week02/mnist.pkl.gz\", 'rb') as f:\n",
    "    train_set, validation_set, test_set = pickle.load(f, encoding='latin1')\n",
    "train_X, train_y = train_set\n",
    "validation_X, validation_y = validation_set\n",
    "test_X, test_y = test_set\n",
    "\n",
    "\n",
    "train_Y = np.eye(10)[train_y]\n",
    "test_Y = np.eye(10)[test_y]\n",
    "validation_Y = np.eye(10)[validation_y]\n",
    "\n",
    "# or\n",
    "# from keras.datasets import mnist\n",
    "# from keras.utils import np_utils\n",
    "# (train_X, train_y), (test_X, test_y) = mnist.load_data()\n",
    "# train_Y = np_utils.to_categorical(train_y, 10)\n",
    "# test_Y = np_utils.to_categorical(test_y, 10)"
   ]
  }
 ],
 "metadata": {
  "kernelspec": {
   "display_name": "Python 3",
   "language": "python",
   "name": "python3"
  },
  "language_info": {
   "codemirror_mode": {
    "name": "ipython",
    "version": 3
   },
   "file_extension": ".py",
   "mimetype": "text/x-python",
   "name": "python",
   "nbconvert_exporter": "python",
   "pygments_lexer": "ipython3",
   "version": "3.5.2+"
  }
 },
 "nbformat": 4,
 "nbformat_minor": 1
}
