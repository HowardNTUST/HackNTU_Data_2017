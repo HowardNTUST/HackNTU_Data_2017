{
 "cells": [
  {
   "cell_type": "markdown",
   "metadata": {
    "deletable": true,
    "editable": true
   },
   "source": [
    "## 視覺化"
   ]
  },
  {
   "cell_type": "markdown",
   "metadata": {
    "deletable": true,
    "editable": true
   },
   "source": [
    "### 先照之前的，讀取資料"
   ]
  },
  {
   "cell_type": "code",
   "execution_count": 1,
   "metadata": {
    "collapsed": false,
    "deletable": true,
    "editable": true
   },
   "outputs": [],
   "source": [
    "import tqdm\n",
    "import tarfile\n",
    "import pandas\n",
    "import matplotlib\n",
    "import matplotlib.pyplot as plt\n",
    "import numpy as np\n",
    "import PIL\n",
    "import gzip\n",
    "from urllib.request import urlopen\n",
    "%matplotlib inline\n",
    "matplotlib.style.use('seaborn-bright')\n",
    "# progress bar\n",
    "tqdm.tqdm.pandas()\n",
    "\n",
    "# 檔案名稱格式\n",
    "filename_format=\"../Week03/M06A_{year:04d}{month:02d}{day:02d}.tar.gz\".format\n",
    "xz_filename_format=\"xz/M06A_{year:04d}{month:02d}{day:02d}.tar.xz\".format\n",
    "csv_format = \"M06A/{year:04d}{month:02d}{day:02d}/{hour:02d}/TDCS_M06A_{year:04d}{month:02d}{day:02d}_{hour:02d}0000.csv\".format\n",
    "\n",
    "# 設定欄位名稱\n",
    "M06A_fields = ['VehicleType',\n",
    "               'DetectionTime_O','GantryID_O',\n",
    "               'DetectionTime_D','GantryID_D ',\n",
    "               'TripLength', 'TripEnd', 'TripInformation']\n",
    "import datetime\n",
    "# 用來解析時間格式\n",
    "def strptime(x):\n",
    "    return datetime.datetime(int(x[:4]), int(x[5:7]), int(x[8:10]), \n",
    "                             int(x[11:13]), int(x[14:16]), int(x[17:19]) )\n",
    "\n",
    "def parse_tripinfo(tripinfo):\n",
    "    split1 = tripinfo.split(\"; \")\n",
    "    return [(strptime(t), t[20:]) for t in split1]"
   ]
  },
  {
   "cell_type": "code",
   "execution_count": 2,
   "metadata": {
    "collapsed": false,
    "deletable": true,
    "editable": true
   },
   "outputs": [],
   "source": [
    "## 讀取檔案\n",
    "node_data=pandas.read_json('../Week03/node_data.json')\n",
    "speedlimit = pandas.read_json('../Week03/speedlimit.json')"
   ]
  },
  {
   "cell_type": "markdown",
   "metadata": {
    "deletable": true,
    "editable": true
   },
   "source": [
    "## 依照速限來找更多的超速"
   ]
  },
  {
   "cell_type": "code",
   "execution_count": 3,
   "metadata": {
    "collapsed": true,
    "deletable": true,
    "editable": true
   },
   "outputs": [],
   "source": [
    "# 這個改了一點， SpeedInfo 這個 named tuple 同時紀錄了區段的起始時間和兩端點\n",
    "from collections import namedtuple\n",
    "SpeedInfo = namedtuple(\"SpeedInfo\", [\"speed\", \"time\",\"loc1\", \"loc2\"])\n",
    "\n",
    "def compute_speed(trip):\n",
    "    rtn = []\n",
    "    for (t1,n1), (t2,n2) in zip(trip[:-1], trip[1:]):\n",
    "        if n1[:3] != n2[:3] or n1[-1]!=n2[-1]:\n",
    "            continue\n",
    "        if n1[3]=='R' or n2[3]=='R': \n",
    "            continue\n",
    "        km1 = int(n1[3:-1])/10\n",
    "        km2 = int(n2[3:-1])/10\n",
    "        hr_delta = (t2-t1).total_seconds()/60/60\n",
    "        speed = abs(km2-km1)/hr_delta\n",
    "        rtn.append(SpeedInfo(speed, t1, n1, n2))\n",
    "    return rtn "
   ]
  },
  {
   "cell_type": "code",
   "execution_count": 4,
   "metadata": {
    "collapsed": false,
    "deletable": true,
    "editable": true
   },
   "outputs": [
    {
     "ename": "FileNotFoundError",
     "evalue": "[Errno 2] No such file or directory: 'M06A_20161218.tar.gz'",
     "output_type": "error",
     "traceback": [
      "\u001b[0;31m---------------------------------------------------------------------------\u001b[0m",
      "\u001b[0;31mFileNotFoundError\u001b[0m                         Traceback (most recent call last)",
      "\u001b[0;32m<ipython-input-4-6b5c76ef8cc8>\u001b[0m in \u001b[0;36m<module>\u001b[0;34m()\u001b[0m\n\u001b[1;32m      1\u001b[0m \u001b[0;31m# 打開剛才下載的檔案試試\u001b[0m\u001b[0;34m\u001b[0m\u001b[0;34m\u001b[0m\u001b[0m\n\u001b[1;32m      2\u001b[0m \u001b[0mdata_config\u001b[0m \u001b[0;34m=\u001b[0m\u001b[0;34m{\u001b[0m\u001b[0;34m\"year\"\u001b[0m\u001b[0;34m:\u001b[0m\u001b[0;36m2016\u001b[0m\u001b[0;34m,\u001b[0m \u001b[0;34m\"month\"\u001b[0m\u001b[0;34m:\u001b[0m\u001b[0;36m12\u001b[0m\u001b[0;34m,\u001b[0m \u001b[0;34m\"day\"\u001b[0m\u001b[0;34m:\u001b[0m\u001b[0;36m18\u001b[0m\u001b[0;34m}\u001b[0m\u001b[0;34m\u001b[0m\u001b[0m\n\u001b[0;32m----> 3\u001b[0;31m \u001b[0mtar\u001b[0m \u001b[0;34m=\u001b[0m \u001b[0mtarfile\u001b[0m\u001b[0;34m.\u001b[0m\u001b[0mopen\u001b[0m\u001b[0;34m(\u001b[0m\u001b[0mfilename_format\u001b[0m\u001b[0;34m(\u001b[0m\u001b[0;34m**\u001b[0m\u001b[0mdata_config\u001b[0m\u001b[0;34m)\u001b[0m\u001b[0;34m,\u001b[0m \u001b[0;34m'r'\u001b[0m\u001b[0;34m)\u001b[0m\u001b[0;34m\u001b[0m\u001b[0m\n\u001b[0m\u001b[1;32m      4\u001b[0m \u001b[0;34m\u001b[0m\u001b[0m\n\u001b[1;32m      5\u001b[0m \u001b[0;31m# 如果沒有下載，可以試試看 xz 檔案\u001b[0m\u001b[0;34m\u001b[0m\u001b[0;34m\u001b[0m\u001b[0m\n",
      "\u001b[0;32m/usr/lib/python3.5/tarfile.py\u001b[0m in \u001b[0;36mopen\u001b[0;34m(cls, name, mode, fileobj, bufsize, **kwargs)\u001b[0m\n\u001b[1;32m   1557\u001b[0m                     \u001b[0msaved_pos\u001b[0m \u001b[0;34m=\u001b[0m \u001b[0mfileobj\u001b[0m\u001b[0;34m.\u001b[0m\u001b[0mtell\u001b[0m\u001b[0;34m(\u001b[0m\u001b[0;34m)\u001b[0m\u001b[0;34m\u001b[0m\u001b[0m\n\u001b[1;32m   1558\u001b[0m                 \u001b[0;32mtry\u001b[0m\u001b[0;34m:\u001b[0m\u001b[0;34m\u001b[0m\u001b[0m\n\u001b[0;32m-> 1559\u001b[0;31m                     \u001b[0;32mreturn\u001b[0m \u001b[0mfunc\u001b[0m\u001b[0;34m(\u001b[0m\u001b[0mname\u001b[0m\u001b[0;34m,\u001b[0m \u001b[0;34m\"r\"\u001b[0m\u001b[0;34m,\u001b[0m \u001b[0mfileobj\u001b[0m\u001b[0;34m,\u001b[0m \u001b[0;34m**\u001b[0m\u001b[0mkwargs\u001b[0m\u001b[0;34m)\u001b[0m\u001b[0;34m\u001b[0m\u001b[0m\n\u001b[0m\u001b[1;32m   1560\u001b[0m                 \u001b[0;32mexcept\u001b[0m \u001b[0;34m(\u001b[0m\u001b[0mReadError\u001b[0m\u001b[0;34m,\u001b[0m \u001b[0mCompressionError\u001b[0m\u001b[0;34m)\u001b[0m \u001b[0;32mas\u001b[0m \u001b[0me\u001b[0m\u001b[0;34m:\u001b[0m\u001b[0;34m\u001b[0m\u001b[0m\n\u001b[1;32m   1561\u001b[0m                     \u001b[0;32mif\u001b[0m \u001b[0mfileobj\u001b[0m \u001b[0;32mis\u001b[0m \u001b[0;32mnot\u001b[0m \u001b[0;32mNone\u001b[0m\u001b[0;34m:\u001b[0m\u001b[0;34m\u001b[0m\u001b[0m\n",
      "\u001b[0;32m/usr/lib/python3.5/tarfile.py\u001b[0m in \u001b[0;36mgzopen\u001b[0;34m(cls, name, mode, fileobj, compresslevel, **kwargs)\u001b[0m\n\u001b[1;32m   1622\u001b[0m \u001b[0;34m\u001b[0m\u001b[0m\n\u001b[1;32m   1623\u001b[0m         \u001b[0;32mtry\u001b[0m\u001b[0;34m:\u001b[0m\u001b[0;34m\u001b[0m\u001b[0m\n\u001b[0;32m-> 1624\u001b[0;31m             \u001b[0mfileobj\u001b[0m \u001b[0;34m=\u001b[0m \u001b[0mgzip\u001b[0m\u001b[0;34m.\u001b[0m\u001b[0mGzipFile\u001b[0m\u001b[0;34m(\u001b[0m\u001b[0mname\u001b[0m\u001b[0;34m,\u001b[0m \u001b[0mmode\u001b[0m \u001b[0;34m+\u001b[0m \u001b[0;34m\"b\"\u001b[0m\u001b[0;34m,\u001b[0m \u001b[0mcompresslevel\u001b[0m\u001b[0;34m,\u001b[0m \u001b[0mfileobj\u001b[0m\u001b[0;34m)\u001b[0m\u001b[0;34m\u001b[0m\u001b[0m\n\u001b[0m\u001b[1;32m   1625\u001b[0m         \u001b[0;32mexcept\u001b[0m \u001b[0mOSError\u001b[0m\u001b[0;34m:\u001b[0m\u001b[0;34m\u001b[0m\u001b[0m\n\u001b[1;32m   1626\u001b[0m             \u001b[0;32mif\u001b[0m \u001b[0mfileobj\u001b[0m \u001b[0;32mis\u001b[0m \u001b[0;32mnot\u001b[0m \u001b[0;32mNone\u001b[0m \u001b[0;32mand\u001b[0m \u001b[0mmode\u001b[0m \u001b[0;34m==\u001b[0m \u001b[0;34m'r'\u001b[0m\u001b[0;34m:\u001b[0m\u001b[0;34m\u001b[0m\u001b[0m\n",
      "\u001b[0;32m/usr/lib/python3.5/gzip.py\u001b[0m in \u001b[0;36m__init__\u001b[0;34m(self, filename, mode, compresslevel, fileobj, mtime)\u001b[0m\n\u001b[1;32m    161\u001b[0m             \u001b[0mmode\u001b[0m \u001b[0;34m+=\u001b[0m \u001b[0;34m'b'\u001b[0m\u001b[0;34m\u001b[0m\u001b[0m\n\u001b[1;32m    162\u001b[0m         \u001b[0;32mif\u001b[0m \u001b[0mfileobj\u001b[0m \u001b[0;32mis\u001b[0m \u001b[0;32mNone\u001b[0m\u001b[0;34m:\u001b[0m\u001b[0;34m\u001b[0m\u001b[0m\n\u001b[0;32m--> 163\u001b[0;31m             \u001b[0mfileobj\u001b[0m \u001b[0;34m=\u001b[0m \u001b[0mself\u001b[0m\u001b[0;34m.\u001b[0m\u001b[0mmyfileobj\u001b[0m \u001b[0;34m=\u001b[0m \u001b[0mbuiltins\u001b[0m\u001b[0;34m.\u001b[0m\u001b[0mopen\u001b[0m\u001b[0;34m(\u001b[0m\u001b[0mfilename\u001b[0m\u001b[0;34m,\u001b[0m \u001b[0mmode\u001b[0m \u001b[0;32mor\u001b[0m \u001b[0;34m'rb'\u001b[0m\u001b[0;34m)\u001b[0m\u001b[0;34m\u001b[0m\u001b[0m\n\u001b[0m\u001b[1;32m    164\u001b[0m         \u001b[0;32mif\u001b[0m \u001b[0mfilename\u001b[0m \u001b[0;32mis\u001b[0m \u001b[0;32mNone\u001b[0m\u001b[0;34m:\u001b[0m\u001b[0;34m\u001b[0m\u001b[0m\n\u001b[1;32m    165\u001b[0m             \u001b[0mfilename\u001b[0m \u001b[0;34m=\u001b[0m \u001b[0mgetattr\u001b[0m\u001b[0;34m(\u001b[0m\u001b[0mfileobj\u001b[0m\u001b[0;34m,\u001b[0m \u001b[0;34m'name'\u001b[0m\u001b[0;34m,\u001b[0m \u001b[0;34m''\u001b[0m\u001b[0;34m)\u001b[0m\u001b[0;34m\u001b[0m\u001b[0m\n",
      "\u001b[0;31mFileNotFoundError\u001b[0m: [Errno 2] No such file or directory: 'M06A_20161218.tar.gz'"
     ]
    }
   ],
   "source": [
    "# 打開剛才下載的檔案試試\n",
    "data_config ={\"year\":2016, \"month\":12, \"day\":18}\n",
    "tar = tarfile.open(filename_format(**data_config), 'r')\n",
    "\n",
    "# 如果沒有下載，可以試試看 xz 檔案\n",
    "#data_dconfig ={\"year\":2016, \"month\":11, \"day\":18}\n",
    "#tar = tarfile.open(xz_filename_format(**data_config), 'r')"
   ]
  },
  {
   "cell_type": "code",
   "execution_count": null,
   "metadata": {
    "collapsed": false,
    "deletable": true,
    "editable": true
   },
   "outputs": [],
   "source": [
    "csvs = (tar.extractfile(csv_format(hour=hr, **data_config)) for hr in tqdm.trange(24))\n",
    "data = pandas.concat([pandas.read_csv(csv, names=M06A_fields) for csv in csvs],  ignore_index=True)\n",
    "print(\"資料大小\", data.shape)\n",
    "# 檢查異常的資料\n",
    "print(\"異常資料數:\", data[data.TripEnd == 'N'].shape[0])\n",
    "# 去除異常資料\n",
    "data = data[data.TripEnd == 'Y']\n",
    "# 只保留 TripInformation 和 VehicleType\n",
    "data = data[['VehicleType', \"TripInformation\"]]\n",
    "\n",
    "data['Trip'] = data.TripInformation.progress_apply(parse_tripinfo)\n",
    "data['Speed'] = data.Trip.progress_apply(compute_speed)"
   ]
  },
  {
   "cell_type": "code",
   "execution_count": null,
   "metadata": {
    "collapsed": false,
    "deletable": true,
    "editable": true
   },
   "outputs": [],
   "source": [
    "speedlimit_lookup = node_data.速限.to_dict()\n",
    "\n",
    "def is_speeding(info):\n",
    "    speedlimit = max(speedlimit_lookup[info.loc1], speedlimit_lookup[info.loc2])\n",
    "    return info.speed > speedlimit + 10\n",
    "\n",
    "# 存下所有超速的判斷\n",
    "data['超速紀錄'] = data.Speed.progress_apply(lambda l:[is_speeding(x) for x in l])\n"
   ]
  },
  {
   "cell_type": "code",
   "execution_count": null,
   "metadata": {
    "collapsed": false,
    "deletable": true,
    "editable": true
   },
   "outputs": [],
   "source": [
    "data.head(10)"
   ]
  },
  {
   "cell_type": "markdown",
   "metadata": {
    "deletable": true,
    "editable": true
   },
   "source": [
    "## 用 dict 直接統計\n",
    "### 以 S01F 為例"
   ]
  },
  {
   "cell_type": "code",
   "execution_count": null,
   "metadata": {
    "collapsed": false,
    "deletable": true,
    "editable": true
   },
   "outputs": [],
   "source": [
    "node_data"
   ]
  },
  {
   "cell_type": "code",
   "execution_count": null,
   "metadata": {
    "collapsed": false,
    "deletable": true,
    "editable": true
   },
   "outputs": [],
   "source": [
    "S01F_list = list(sorted(x for x in node_data.編號 if x.startswith('01F') and x.endswith('S')))"
   ]
  },
  {
   "cell_type": "code",
   "execution_count": null,
   "metadata": {
    "collapsed": false,
    "deletable": true,
    "editable": true
   },
   "outputs": [],
   "source": [
    "S01F = {s:i for i,s in enumerate(S01F_list)}"
   ]
  },
  {
   "cell_type": "code",
   "execution_count": null,
   "metadata": {
    "collapsed": false,
    "deletable": true,
    "editable": true
   },
   "outputs": [],
   "source": [
    "len(S01F)"
   ]
  },
  {
   "cell_type": "code",
   "execution_count": null,
   "metadata": {
    "collapsed": false,
    "deletable": true,
    "editable": true
   },
   "outputs": [],
   "source": [
    "speedlimit_lookup = node_data.速限.to_dict()\n",
    "start_time = datetime.datetime(data_config['year'],data_config['month'],data_config['day'])\n",
    "end_time = datetime.datetime(data_config['year'],data_config['month'],data_config['day']+1)\n",
    "total_statistics=np.zeros((24*4, len(S01F)), dtype=int)\n",
    "speeding_statistics=np.zeros((24*4, len(S01F)), dtype=int)\n",
    "\n",
    "def count_speeding(info):\n",
    "    if not info.loc1.startswith('01F'):\n",
    "        return\n",
    "    if not info.loc1.endswith('S'):\n",
    "        return\n",
    "    if info.loc1 > info.loc2:\n",
    "        return\n",
    "\n",
    "    idx = int((info.time-start_time).seconds/(15*60))\n",
    "    idx2 = S01F[info.loc1]\n",
    "    total_statistics[idx][idx2] += 1\n",
    "    speedlimit = max(speedlimit_lookup[info.loc1], speedlimit_lookup[info.loc2])\n",
    "    if info.speed > speedlimit + 10:\n",
    "        speeding_statistics[idx][idx2] += 1\n",
    "\n",
    "# 存下所有超速的判斷\n",
    "data.Speed.apply(lambda l:[count_speeding(x) for x in l]);\n"
   ]
  },
  {
   "cell_type": "code",
   "execution_count": null,
   "metadata": {
    "collapsed": false,
    "deletable": true,
    "editable": true
   },
   "outputs": [],
   "source": [
    "plt.imshow(speeding_statistics/(total_statistics+0.001), aspect=0.3);"
   ]
  },
  {
   "cell_type": "code",
   "execution_count": null,
   "metadata": {
    "collapsed": false,
    "deletable": true,
    "editable": true
   },
   "outputs": [],
   "source": [
    "# 下面的中文方式，可能需要 matplotlib 2.0.0 以上\n",
    "matplotlib.__version__"
   ]
  },
  {
   "cell_type": "code",
   "execution_count": null,
   "metadata": {
    "collapsed": false,
    "deletable": true,
    "editable": true
   },
   "outputs": [],
   "source": [
    "# 如果你知道自己系統中的中文字形，可以直接用省略下面的步驟 \n",
    "# matplotlib.font_manager.fontManager.ttffiles # 列出你的字體\n",
    "# matplotlib.font_manager.fontManager.ttflist # 列出你的字體\n",
    "\n",
    "# plt.rcParams['font.family'] = 'AR PL Mingti2L Big5' # works on Ubuntu with `apt-get install fonts-arphic-bsmi00lp`"
   ]
  },
  {
   "cell_type": "code",
   "execution_count": null,
   "metadata": {
    "collapsed": false,
    "deletable": true,
    "editable": true
   },
   "outputs": [],
   "source": [
    "# 從 00Download.ipynb 來的\n",
    "import os.path\n",
    "from urllib.request import urlopen\n",
    "def download_req(req, filename):\n",
    "    total = int(req.getheader(\"Content-Length\"))\n",
    "    tqdm_conf = dict(total=total, desc=filename, unit='B', unit_scale=True)\n",
    "    with tqdm.tqdm(**tqdm_conf) as pbar:\n",
    "        with open(filename,'wb') as f:\n",
    "            for data in iter(lambda: req.read(8192), b\"\"):  \n",
    "                pbar.update(f.write(data))\n",
    "\n",
    "# 字體下載\n",
    "font_filename = 'NotoSansCJKtc-hinted.zip'\n",
    "font_url = \"https://noto-website-2.storage.googleapis.com/pkgs/\"+font_filename\n",
    "# 改變這行才能真正下載\n",
    "if not (os.path.isfile(font_filename) and os.path.getsize(font_filename)==121247052):\n",
    "    with urlopen(font_url) as req:\n",
    "        download_req(req, \"NotoSansCJKtc-hinted.zip\")\n",
    "# Extract Font files\n",
    "import zipfile\n",
    "with zipfile.ZipFile(font_filename) as zf:\n",
    "    for f in zf.namelist():\n",
    "        if f.endswith('.otf'):\n",
    "            print(\"extract\", f)\n",
    "            zf.extract(f)\n",
    "\n",
    "fp = matplotlib.font_manager.FontProperties(fname = 'NotoSansCJKtc-Regular.otf')\n",
    "matplotlib.font_manager.fontManager.ttffiles.append(fp.get_file())\n",
    "font_entry = matplotlib.font_manager.FontEntry(fp.get_file(), name=fp.get_name(),\n",
    "                                               style=fp.get_style(), variant=fp.get_variant(),\n",
    "                                              weight=fp.get_weight(), stretch=fp.get_stretch(), size=fp.get_size())\n",
    "\n",
    "matplotlib.font_manager.fontManager.ttflist.append(font_entry)\n",
    "plt.rcParams['font.family'] = fp.get_name()"
   ]
  },
  {
   "cell_type": "code",
   "execution_count": null,
   "metadata": {
    "collapsed": false,
    "deletable": true,
    "editable": true
   },
   "outputs": [],
   "source": [
    "plt.figure(figsize=(30,40));\n",
    "plt.imshow((speeding_statistics/(total_statistics+0.001)), aspect=1, \n",
    "           interpolation='none',\n",
    "           extent=[0,72,24,0]\n",
    "          )\n",
    "ax = plt.gca()\n",
    "ax.set_yticks(range(0,24,2));\n",
    "plt.xticks(range(73), [node_data['交流道(起)'][S01F_list[i]] for i in range(73)], \n",
    "          rotation='vertical');\n",
    "plt.grid(True)"
   ]
  },
  {
   "cell_type": "code",
   "execution_count": null,
   "metadata": {
    "collapsed": false,
    "deletable": true,
    "editable": true,
    "scrolled": false
   },
   "outputs": [],
   "source": [
    "plt.figure(figsize=(15,20));\n",
    "plt.imshow((speeding_statistics/(total_statistics+0.001)).T, aspect=1, \n",
    "           interpolation='none',\n",
    "           extent=[0,24,72,0])\n",
    "ax = plt.gca()\n",
    "ax.set_xticks(range(0,26,2));\n",
    "plt.yticks(range(73), [node_data['交流道(起)'][S01F_list[i]] for i in range(73)], \n",
    "          #fontproperties=fp, #or fontname='AR PL Mingti2L Big5' #'Droid Sans Fallback');\n",
    "          );\n",
    "plt.grid(True)"
   ]
  },
  {
   "cell_type": "code",
   "execution_count": null,
   "metadata": {
    "collapsed": false,
    "deletable": true,
    "editable": true
   },
   "outputs": [],
   "source": [
    "plt.plot(speeding_statistics.sum(axis=1)/(total_statistics.sum(axis=1)+0.00001) );\n",
    "plt.xticks(range(0,24*4,4), range(24));\n",
    "plt.grid(True);\n",
    "plt.xlim(0,24*4-1);\n",
    "plt.ylim(0, 0.35);"
   ]
  },
  {
   "cell_type": "code",
   "execution_count": null,
   "metadata": {
    "collapsed": true,
    "deletable": true,
    "editable": true
   },
   "outputs": [],
   "source": [
    "matplotlib.style.use('seaborn-deep')"
   ]
  },
  {
   "cell_type": "code",
   "execution_count": null,
   "metadata": {
    "collapsed": false,
    "deletable": true,
    "editable": true
   },
   "outputs": [],
   "source": [
    "plt.figure(figsize=(30,20))\n",
    "plt.plot(speeding_statistics.sum(axis=0)/(total_statistics.sum(axis=0)+0.00001),\n",
    "        linewidth=5);\n",
    "plt.xticks(range(73), [node_data['交流道(起)'][S01F_list[i]] for i in range(73)], \n",
    "          rotation=90, fontsize=18);\n",
    "plt.grid(True);\n",
    "plt.xlim(0,72);\n",
    "plt.ylim(0, 0.35);"
   ]
  },
  {
   "cell_type": "markdown",
   "metadata": {
    "collapsed": true,
    "deletable": true,
    "editable": true
   },
   "source": [
    "## 用 pandas 來算"
   ]
  },
  {
   "cell_type": "code",
   "execution_count": null,
   "metadata": {
    "collapsed": false,
    "deletable": true,
    "editable": true
   },
   "outputs": [],
   "source": [
    "# 將 data.Speed 展開成 DataFrame\n",
    "from itertools import chain\n",
    "speed_data = pandas.DataFrame.from_records(chain(*data.Speed), columns=SpeedInfo._fields )\n",
    "speed_data.head(10)"
   ]
  },
  {
   "cell_type": "code",
   "execution_count": null,
   "metadata": {
    "collapsed": false,
    "deletable": true,
    "editable": true
   },
   "outputs": [],
   "source": [
    "# 計算是否超速（完全跟前面一樣，雖然現在 info 是 pandas.Series）\n",
    "def is_speeding(info):\n",
    "    speedlimit = max(speedlimit_lookup[info.loc1], speedlimit_lookup[info.loc2])\n",
    "    return info.speed > speedlimit + 10\n",
    "\n",
    "# 存下所有超速的判斷\n",
    "# 這樣會很慢，而且撞到 tdqm 的雷\n",
    "# speed_data['超速'] = speed_data.progress_apply(is_speeding, axis=1)"
   ]
  },
  {
   "cell_type": "code",
   "execution_count": null,
   "metadata": {
    "collapsed": false,
    "deletable": true,
    "editable": true
   },
   "outputs": [],
   "source": [
    "# 用 pandas 的方法做\n",
    "speed_loc1 = speed_data.loc1.progress_apply(speedlimit_lookup.get)\n",
    "speed_loc2 = speed_data.loc1.progress_apply(speedlimit_lookup.get)\n",
    "speed_max = pandas.DataFrame({'1':speed_loc1, '2:':speed_loc2}).max(axis=1)\n",
    "speed_data['超速'] = speed_data.speed > speed_max +10"
   ]
  },
  {
   "cell_type": "code",
   "execution_count": null,
   "metadata": {
    "collapsed": false,
    "deletable": true,
    "editable": true
   },
   "outputs": [],
   "source": [
    "ts = speed_data.time.progress_apply(lambda t:t.hour*4+t.minute//15)"
   ]
  },
  {
   "cell_type": "code",
   "execution_count": null,
   "metadata": {
    "collapsed": false,
    "deletable": true,
    "editable": true
   },
   "outputs": [],
   "source": [
    "groups = speed_data[['speed','超速']].groupby([speed_data.loc1, ts])"
   ]
  },
  {
   "cell_type": "code",
   "execution_count": null,
   "metadata": {
    "collapsed": false,
    "deletable": true,
    "editable": true
   },
   "outputs": [],
   "source": [
    "statistics = groups.mean()\n",
    "statistics"
   ]
  },
  {
   "cell_type": "code",
   "execution_count": null,
   "metadata": {
    "collapsed": false,
    "deletable": true,
    "editable": true
   },
   "outputs": [],
   "source": [
    "statistics.loc['01F0005S']['超速'].plot()\n",
    "plt.xticks(range(0,24*4,4), range(24));"
   ]
  },
  {
   "cell_type": "markdown",
   "metadata": {
    "deletable": true,
    "editable": true
   },
   "source": [
    "## Q\n",
    "利用 `speed_data` 和 `statistics` 來畫其他圖表"
   ]
  },
  {
   "cell_type": "markdown",
   "metadata": {
    "deletable": true,
    "editable": true
   },
   "source": [
    "### 利用  bokeh"
   ]
  },
  {
   "cell_type": "code",
   "execution_count": null,
   "metadata": {
    "collapsed": false,
    "deletable": true,
    "editable": true
   },
   "outputs": [],
   "source": [
    "from ipywidgets import interact\n",
    "import numpy as np\n",
    "\n",
    "from bokeh.io import push_notebook, show, output_notebook\n",
    "from bokeh.plotting import figure\n",
    "output_notebook()"
   ]
  },
  {
   "cell_type": "code",
   "execution_count": null,
   "metadata": {
    "collapsed": false,
    "deletable": true,
    "editable": true
   },
   "outputs": [],
   "source": [
    "from bokeh.charts import Bar, show\n",
    "from bokeh.models import FixedTicker\n",
    "from bokeh.models.formatters import TickFormatter, String, List\n",
    "\n",
    "class FixedTickFormatter(TickFormatter):\n",
    "    \"\"\"\n",
    "    Class used to allow custom axis tick labels on a bokeh chart\n",
    "    Extends bokeh.model.formatters.TickFormatte\n",
    "    \"\"\"\n",
    "\n",
    "    JS_CODE =  \"\"\"\n",
    "        import {Model} from \"model\"\n",
    "        import * as p from \"core/properties\"\n",
    "        export class FixedTickFormatter extends Model\n",
    "          type: 'FixedTickFormatter'\n",
    "          \n",
    "          doFormat: (ticks) ->\n",
    "            labels = @labels\n",
    "            return (labels[tick] ? \"\" for tick in ticks)\n",
    "          @define {\n",
    "            labels: [ p.Any ]\n",
    "          }\n",
    "    \"\"\"\n",
    "\n",
    "    labels = List(String, help=\"\"\"\n",
    "    A mapping of integer ticks values to their labels.\n",
    "    \"\"\")\n",
    "\n",
    "    __implementation__ = JS_CODE"
   ]
  },
  {
   "cell_type": "code",
   "execution_count": null,
   "metadata": {
    "collapsed": false,
    "deletable": true,
    "editable": true
   },
   "outputs": [],
   "source": [
    "x = range(73)\n",
    "y = speeding_statistics.sum(axis=0)/(total_statistics.sum(axis=0)+0.00001)\n",
    "p = figure(title=\"超速比例\", plot_height=500, \n",
    "           plot_width=800, x_range=(0,72), y_range=(0,y.max()*1.05))\n",
    "r = p.line(x, y, color=\"#2222aa\", line_width=3)\n",
    "#node_data['交流道(起)'][S01F_list[i]\n",
    "labels = [node_data['交流道(起)'][S01F_list[i]] for i in range(73)]\n",
    "p.xaxis[0].formatter = FixedTickFormatter(labels=labels)\n",
    "p.xaxis[0].ticker = FixedTicker(ticks=list(range(73)))\n",
    "p.xaxis.major_label_orientation = 3.14/2"
   ]
  },
  {
   "cell_type": "code",
   "execution_count": null,
   "metadata": {
    "collapsed": true
   },
   "outputs": [],
   "source": [
    "from bokeh.plotting import ColumnDataSource\n",
    "from bokeh.models import HoverTool, BoxSelectTool\n",
    "x = range(73)\n",
    "y = speeding_statistics.sum(axis=0)/(total_statistics.sum(axis=0)+0.00001)\n",
    "labels = [node_data['交流道(起)'][S01F_list[i]] for i in range(73)]\n",
    "datasource = ColumnDataSource(\n",
    "    data = {\n",
    "        'x': x,\n",
    "        'y': y,\n",
    "        'labels': labels,\n",
    "        'ypercent': [\"{:4.2f}%\".format(100*i) for i in y]\n",
    "    }\n",
    ")\n",
    "TOOLS = [BoxSelectTool(), HoverTool( tooltips=[(\"站\", \"@labels\"), (\"比例\", \"@ypercent\")])]\n",
    "\n",
    "p = figure(title=\"超速比例\", plot_height=500, \n",
    "           plot_width=800, x_range=(0,72), y_range=(0,y.max()*1.05), tools=TOOLS)\n",
    "r = p.line(x='x', y='y', color=\"#2222aa\", line_width=3, source=datasource)\n",
    "#node_data['交流道(起)'][S01F_list[i]\n",
    "p.xaxis[0].formatter = FixedTickFormatter(labels=labels)\n",
    "p.xaxis[0].ticker = FixedTicker(ticks=list(range(73)))\n",
    "p.xaxis.major_label_orientation = 3.14/2"
   ]
  },
  {
   "cell_type": "code",
   "execution_count": null,
   "metadata": {
    "collapsed": false,
    "deletable": true,
    "editable": true
   },
   "outputs": [],
   "source": [
    "show(p, notebook_handle=True);"
   ]
  },
  {
   "cell_type": "code",
   "execution_count": null,
   "metadata": {
    "collapsed": false,
    "deletable": true,
    "editable": true
   },
   "outputs": [],
   "source": [
    "highway_name = speed_data.loc1.progress_apply(lambda x:x[:3])"
   ]
  },
  {
   "cell_type": "code",
   "execution_count": null,
   "metadata": {
    "collapsed": false,
    "deletable": true,
    "editable": true
   },
   "outputs": [],
   "source": [
    "# 依照高速公路和時間區隔來分組平均\n",
    "mean_highway_time = speed_data[['speed','超速']].groupby([highway_name, ts]).mean()\n",
    "# 依照高速公路來分組平均\n",
    "mean_highway = speed_data[['speed','超速']].groupby(highway_name).mean()"
   ]
  },
  {
   "cell_type": "code",
   "execution_count": null,
   "metadata": {
    "collapsed": false,
    "deletable": true,
    "editable": true
   },
   "outputs": [],
   "source": [
    "mean_highway_time.index.get_level_values('loc1').unique()"
   ]
  },
  {
   "cell_type": "code",
   "execution_count": null,
   "metadata": {
    "collapsed": false,
    "deletable": true,
    "editable": true
   },
   "outputs": [],
   "source": [
    "x = np.arange(0,24,0.25)\n",
    "p = figure(title=\"超速比例\", plot_height=720, \n",
    "           plot_width=960, x_range=(0,24), y_range=(0,0.5))\n",
    "groups = mean_highway_time.groupby(mean_highway_time.index.get_level_values('loc1'))\n",
    "for hw in groups.groups:    \n",
    "    y = groups.get_group(hw)['超速']\n",
    "    r = p.line(x, y, legend=hw, color=tuple(np.random.randint(0,255, size=3)), line_width=3, alpha=0.7)\n",
    "\n",
    "show(p)"
   ]
  },
  {
   "cell_type": "code",
   "execution_count": null,
   "metadata": {
    "collapsed": false,
    "deletable": true,
    "editable": true
   },
   "outputs": [],
   "source": [
    "x = np.arange(0,24,0.25)\n",
    "p = figure(title=\"速率\", plot_height=720, \n",
    "           plot_width=960, x_range=(0,24), y_range=(0,150))\n",
    "groups = mean_highway_time.groupby(mean_highway_time.index.get_level_values('loc1'))\n",
    "for hw in groups.groups:    \n",
    "    y = groups.get_group(hw)['speed']\n",
    "    r = p.line(x, y, legend=hw, color=tuple(np.random.randint(0,255, size=3)), line_width=3, alpha=0.7)\n",
    "show(p)"
   ]
  },
  {
   "cell_type": "code",
   "execution_count": null,
   "metadata": {
    "collapsed": false,
    "deletable": true,
    "editable": true
   },
   "outputs": [],
   "source": []
  },
  {
   "cell_type": "code",
   "execution_count": null,
   "metadata": {
    "collapsed": false,
    "deletable": true,
    "editable": true
   },
   "outputs": [],
   "source": [
    "from bokeh.io import output_file, show\n",
    "from bokeh.plotting import figure\n",
    "from bokeh.tile_providers import STAMEN_TONER\n",
    "from pyproj import Proj, transform\n",
    "def trans(lng_lat):\n",
    "    from_proj = Proj(init=\"epsg:4326\")\n",
    "    to_proj = Proj(init=\"epsg:3857\")\n",
    "    return transform(from_proj, to_proj, *lng_lat)\n",
    "fig = figure(tools='pan, wheel_zoom', x_range=(13410000, 13590000), y_range=(2610000, 2790000))\n",
    "fig.axis.visible = False\n",
    "fig.add_tile(STAMEN_TONER)\n",
    "lng_lat = np.mgrid[120:122:0.1, 23:25:0.1].reshape(2,-1).T\n",
    "xy = np.array(list(map(trans, lng_lat)))\n",
    "dots = fig.circle(xy[:,0], xy[:,1])\n",
    "map_handler = show(fig, notebook_handle=True)"
   ]
  },
  {
   "cell_type": "code",
   "execution_count": null,
   "metadata": {
    "collapsed": true
   },
   "outputs": [],
   "source": []
  },
  {
   "cell_type": "code",
   "execution_count": null,
   "metadata": {
    "collapsed": false,
    "deletable": true,
    "editable": true
   },
   "outputs": [],
   "source": [
    "import time\n",
    "import math\n",
    "for i in range(100):\n",
    "    dots.glyph.fill_color=['red', 'green', 'blue'][(i//5)%3]\n",
    "    shift = [math.cos(i/20), math.sin(i/20)]\n",
    "    xy = np.array(list(map(trans, lng_lat + shift)))\n",
    "    dots.data_source.data['x'] = xy[:,0]\n",
    "    dots.data_source.data['y'] = xy[:,1]\n",
    "    #push_notebook(handle=map_handler)\n",
    "    push_notebook()\n",
    "    time.sleep(0.05)\n"
   ]
  },
  {
   "cell_type": "code",
   "execution_count": null,
   "metadata": {
    "collapsed": true,
    "deletable": true,
    "editable": true
   },
   "outputs": [],
   "source": [
    "from bqplot import pyplot as plt\n",
    "from bqplot import topo_load\n",
    "from bqplot.interacts import panzoom"
   ]
  },
  {
   "cell_type": "code",
   "execution_count": null,
   "metadata": {
    "collapsed": false,
    "deletable": true,
    "editable": true
   },
   "outputs": [],
   "source": [
    "mean_highway.index"
   ]
  },
  {
   "cell_type": "code",
   "execution_count": null,
   "metadata": {
    "collapsed": false,
    "deletable": true,
    "editable": true
   },
   "outputs": [],
   "source": [
    "x = np.arange(len(mean_highway))\n",
    "y = mean_highway['超速']\n",
    "plt.figure()\n",
    "bar = plt.bar(list(mean_highway.index), y)\n",
    "plt.show()"
   ]
  },
  {
   "cell_type": "code",
   "execution_count": null,
   "metadata": {
    "collapsed": false,
    "deletable": true,
    "editable": true
   },
   "outputs": [],
   "source": [
    "# 互動式圖表\n",
    "x = np.arange(0,24,0.25)\n",
    "fig= plt.figure()\n",
    "groups = mean_highway_time.groupby(mean_highway_time.index.get_level_values('loc1'))\n",
    "def toggle_alpha(a,b):\n",
    "    a.opacities=[1.2-a.opacities[0]]\n",
    "colors=['blue', 'red', 'purple', 'black', 'green']\n",
    "for i,hw in enumerate(groups.groups):    \n",
    "    y = groups.get_group(hw)['超速']\n",
    "    pp = plt.plot(x,y, colors=[colors[i]], \n",
    "             display_legend=True, line_width=3, opacities=[0.2], labels=[hw])\n",
    "    pp.on_legend_click(toggle_alpha)\n",
    "plt.show()"
   ]
  },
  {
   "cell_type": "code",
   "execution_count": null,
   "metadata": {
    "collapsed": true,
    "deletable": true,
    "editable": true
   },
   "outputs": [],
   "source": []
  }
 ],
 "metadata": {
  "kernelspec": {
   "display_name": "Python 3",
   "language": "python",
   "name": "python3"
  },
  "language_info": {
   "codemirror_mode": {
    "name": "ipython",
    "version": 3
   },
   "file_extension": ".py",
   "mimetype": "text/x-python",
   "name": "python",
   "nbconvert_exporter": "python",
   "pygments_lexer": "ipython3",
   "version": "3.5.3"
  }
 },
 "nbformat": 4,
 "nbformat_minor": 1
}
