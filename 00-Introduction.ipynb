{
 "cells": [
  {
   "cell_type": "markdown",
   "metadata": {
    "collapsed": true
   },
   "source": [
    "# HackNTU 資料科學課程\n",
    "\n",
    "* 時間: 12 周\n",
    "* 目標： 擁有資料科學技術的應用及自學能力。\n",
    "\n",
    "\n",
    "\n",
    "## 課程規劃\n",
    "\n",
    "* Week 1 概論/Python/Numpy/Matplotlib\n",
    "* Week 2 機器學習簡介及實作\n",
    "* Week 3 ETC 資料分析: 爬蟲/資料清理/Pandas\n",
    "* Week 4 ETC 資料分析: Pandas/plotting\n",
    "* Week 5 進階爬蟲、機器學習、資料呈現\n",
    "* Week 6 Tensorflow/keras 介紹及實作\n",
    "* Week 7 使用深度學習模型\n",
    "* Week 8  自然語言分析\n",
    "* Week 9  使用線上 API\n",
    "* Week 10 影像分析與處理\n",
    "* Week 11 訓練深度學習模型\n",
    "* Week 12 專案研究與建議"
   ]
  },
  {
   "cell_type": "code",
   "execution_count": null,
   "metadata": {
    "collapsed": true
   },
   "outputs": [],
   "source": []
  }
 ],
 "metadata": {
  "kernelspec": {
   "display_name": "Python 3",
   "language": "python",
   "name": "python3"
  },
  "language_info": {
   "codemirror_mode": {
    "name": "ipython",
    "version": 3
   },
   "file_extension": ".py",
   "mimetype": "text/x-python",
   "name": "python",
   "nbconvert_exporter": "python",
   "pygments_lexer": "ipython3",
   "version": "3.5.2+"
  }
 },
 "nbformat": 4,
 "nbformat_minor": 1
}
