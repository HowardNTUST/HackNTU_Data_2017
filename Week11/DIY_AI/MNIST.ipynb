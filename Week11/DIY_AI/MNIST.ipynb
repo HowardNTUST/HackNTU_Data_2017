{
 "cells": [
  {
   "cell_type": "code",
   "execution_count": 1,
   "metadata": {
    "collapsed": true
   },
   "outputs": [],
   "source": [
    "from PIL import Image\n",
    "import numpy as np"
   ]
  },
  {
   "cell_type": "markdown",
   "metadata": {},
   "source": [
    "\n",
    "\n",
    "先下載 MNIST 資料\n"
   ]
  },
  {
   "cell_type": "code",
   "execution_count": 2,
   "metadata": {
    "collapsed": false
   },
   "outputs": [],
   "source": [
    "import os\n",
    "import urllib\n",
    "from urllib.request import urlretrieve\n",
    "dataset = 'mnist.pkl.gz'\n",
    "def reporthook(a,b,c):\n",
    "    print(\"\\rdownloading: %5.1f%%\"%(a*b*100.0/c), end=\"\")\n",
    "    \n",
    "if not os.path.isfile(dataset):\n",
    "        origin = \"https://github.com/mnielsen/neural-networks-and-deep-learning/raw/master/data/mnist.pkl.gz\"\n",
    "        print('Downloading data from %s' % origin)\n",
    "        urlretrieve(origin, dataset, reporthook=reporthook)"
   ]
  },
  {
   "cell_type": "code",
   "execution_count": 3,
   "metadata": {
    "collapsed": true
   },
   "outputs": [],
   "source": [
    "import gzip\n",
    "import pickle\n",
    "with gzip.open(dataset, 'rb') as f:\n",
    "    train_set, validation_set, test_set = pickle.load(f, encoding='latin1')"
   ]
  },
  {
   "cell_type": "code",
   "execution_count": 4,
   "metadata": {
    "collapsed": true
   },
   "outputs": [],
   "source": [
    "# 設定好訓練及測試資料\n",
    "train_X, train_y = train_set\n",
    "test_X, test_y = test_set\n",
    "# 設定成我們的格式\n",
    "train_X = train_X[..., None]\n",
    "test_X = test_X[..., None]\n"
   ]
  },
  {
   "cell_type": "code",
   "execution_count": 5,
   "metadata": {
    "collapsed": false
   },
   "outputs": [
    {
     "name": "stdout",
     "output_type": "stream",
     "text": [
      "(50000, 784, 1)\n"
     ]
    },
    {
     "data": {
      "text/plain": [
       "array([0, 1, 2, 3, 4, 5, 6, 7, 8, 9])"
      ]
     },
     "execution_count": 5,
     "metadata": {},
     "output_type": "execute_result"
    }
   ],
   "source": [
    "# 有 10 種類別，輸入的是 784 維\n",
    "print(train_X.shape)\n",
    "np.unique(train_y)"
   ]
  },
  {
   "cell_type": "code",
   "execution_count": 6,
   "metadata": {
    "collapsed": false
   },
   "outputs": [
    {
     "name": "stdout",
     "output_type": "stream",
     "text": [
      "[5 0 4 1 9 2 1 3 1 4 3 5 3 6 1 7 2 8 6 9]\n"
     ]
    },
    {
     "data": {
      "image/png": "[encoded data removed]",
      "text/plain": [
       "<PIL.Image.Image image mode=L size=560x28 at 0x7F96D1210390>"
      ]
     },
     "metadata": {},
     "output_type": "display_data"
    }
   ],
   "source": [
    "from IPython.display import display\n",
    "def showX(X):\n",
    "    int_X = (X*255).clip(0,255).astype('uint8')\n",
    "    # N*784 -> N*28*28 -> 28*N*28 -> 28 * 28N\n",
    "    int_X_reshape = int_X.reshape(-1,28,28).swapaxes(0,1).reshape(28,-1)\n",
    "    display(Image.fromarray(int_X_reshape))\n",
    "# 訓練資料， X 的前 20 筆\n",
    "print(train_y[:20])\n",
    "showX(train_X[:20])"
   ]
  },
  {
   "cell_type": "code",
   "execution_count": 7,
   "metadata": {
    "collapsed": false
   },
   "outputs": [
    {
     "name": "stdout",
     "output_type": "stream",
     "text": [
      "0 0.0766666666667 14.7633291583\n",
      "100 0.816666666667 1.12175434422\n",
      "200 0.843333333333 0.833995999027\n",
      "300 0.836666666667 0.835177546257\n",
      "400 0.88 0.611107325334\n",
      "500 0.883333333333 0.58895255329\n",
      "600 0.85 0.592627160802\n",
      "700 0.91 0.434092172306\n",
      "800 0.863333333333 0.691631139491\n",
      "900 0.893333333333 0.450643237595\n",
      "1000 0.876666666667 0.540414222067\n",
      "1100 0.886666666667 0.454321685261\n",
      "1200 0.88 0.396094264975\n",
      "1300 0.906666666667 0.421309262289\n",
      "1400 0.923333333333 0.357708526954\n",
      "1500 0.9 0.362439934516\n",
      "1600 0.88 0.522117077438\n",
      "1700 0.903333333333 0.351647223098\n",
      "1800 0.913333333333 0.425166735135\n",
      "1900 0.91 0.325544491018\n",
      "2000 0.923333333333 0.300071820905\n",
      "2100 0.943333333333 0.272346927431\n",
      "2200 0.916666666667 0.293919870294\n",
      "2300 0.886666666667 0.359619638404\n",
      "2400 0.92 0.282819669312\n",
      "2500 0.91 0.376000480436\n",
      "2600 0.91 0.306211495725\n",
      "2700 0.906666666667 0.380721296137\n",
      "2800 0.88 0.450500091509\n",
      "2900 0.913333333333 0.267039196034\n",
      "3000 0.92 0.397651502979\n",
      "3100 0.933333333333 0.251360549114\n",
      "3200 0.936666666667 0.264423140533\n",
      "3300 0.923333333333 0.232736004034\n",
      "3400 0.956666666667 0.227005166529\n",
      "3500 0.89 0.463564737024\n",
      "3600 0.933333333333 0.265003637368\n",
      "3700 0.926666666667 0.272719390961\n",
      "3800 0.916666666667 0.324746717581\n",
      "3900 0.91 0.315795444437\n",
      "4000 0.916666666667 0.259306692109\n",
      "4100 0.953333333333 0.181211392686\n",
      "4200 0.936666666667 0.260937461246\n",
      "4300 0.926666666667 0.285588110684\n",
      "4400 0.876666666667 0.451879610829\n",
      "4500 0.906666666667 0.301560040305\n",
      "4600 0.92 0.258155129438\n",
      "4700 0.9 0.3759802626\n",
      "4800 0.9 0.340212740102\n",
      "4900 0.916666666667 0.307165149758\n"
     ]
    }
   ],
   "source": [
    "# 參考範例 softmax regression\n",
    "W = np.random.normal(size=(10, 784))\n",
    "b = np.random.normal(size=(10, 1))\n",
    "n_data = train_X.shape[0]\n",
    "# 紀錄 loss\n",
    "loss_history = []\n",
    "accuracy_history = []\n",
    "for epoch in range(5000):    \n",
    "    idx = np.random.choice(n_data, 300, replace=False)\n",
    "    X = train_X[idx]\n",
    "    y = train_y[idx]\n",
    "    one_y = np.eye(10)[y][..., None]\n",
    "    d = np.exp(W @ X + b)\n",
    "    q = d/d.sum(axis=(1,2), keepdims=True)\n",
    "    loss = -np.log(q[range(len(y)), y]).mean()\n",
    "    loss_history.append(loss)\n",
    "    accuracy = (q.argmax(axis=1).ravel() == y).mean()\n",
    "    accuracy_history.append(accuracy)\n",
    "    if epoch%100 == 0:\n",
    "        print(epoch, accuracy, loss)\n",
    "    grad_b_all = q - one_y\n",
    "    grad_b = grad_b_all.mean(axis=0)\n",
    "    grad_W_all = grad_b_all @ X.swapaxes(1,2)\n",
    "    grad_W = grad_W_all.mean(axis=0)\n",
    "    W -=  grad_W\n",
    "    b -= grad_b    \n"
   ]
  },
  {
   "cell_type": "code",
   "execution_count": 8,
   "metadata": {
    "collapsed": false
   },
   "outputs": [
    {
     "data": {
      "text/plain": [
       "0.91479999999999995"
      ]
     },
     "execution_count": 8,
     "metadata": {},
     "output_type": "execute_result"
    }
   ],
   "source": [
    "# test data 的正確率\n",
    "((W @ test_X + b).argmax(axis=1).ravel() == test_y).mean()"
   ]
  },
  {
   "cell_type": "code",
   "execution_count": 9,
   "metadata": {
    "collapsed": false
   },
   "outputs": [
    {
     "data": {
      "image/png": "[encoded data removed]",
      "text/plain": [
       "<matplotlib.figure.Figure at 0x7f96c5cb35f8>"
      ]
     },
     "metadata": {},
     "output_type": "display_data"
    }
   ],
   "source": [
    "%matplotlib inline\n",
    "import matplotlib.pyplot as plt\n",
    "# 準確率的圖\n",
    "plt.plot(accuracy_history);"
   ]
  },
  {
   "cell_type": "code",
   "execution_count": 10,
   "metadata": {
    "collapsed": false
   },
   "outputs": [
    {
     "data": {
      "image/png": "[encoded data removed]",
      "text/plain": [
       "<matplotlib.figure.Figure at 0x7f96c39af208>"
      ]
     },
     "metadata": {},
     "output_type": "display_data"
    }
   ],
   "source": [
    "# loss 的圖\n",
    "plt.plot(loss_history);"
   ]
  },
  {
   "cell_type": "code",
   "execution_count": 11,
   "metadata": {
    "collapsed": true
   },
   "outputs": [],
   "source": [
    "def softmax(x):\n",
    "    t = np.exp(x)\n",
    "    return t/t.sum(axis=(-2,-1),keepdims=True)\n",
    "def relu(x):\n",
    "    return np.maximum(x, 0)\n",
    "def sigmoid(x):\n",
    "    return 1/(1+np.exp(-x))\n",
    "\n",
    "# 微分\n",
    "def Drelu(x):\n",
    "    return (x>0).astype('float32')\n",
    "def Dsigmoid(x):\n",
    "    q = sigmoid(x)\n",
    "    return q * (1-q) \n",
    "    # or \n",
    "    #return np.exp(x)/(1+np.exp(-x))**2"
   ]
  },
  {
   "cell_type": "code",
   "execution_count": 12,
   "metadata": {
    "collapsed": false
   },
   "outputs": [
    {
     "name": "stdout",
     "output_type": "stream",
     "text": [
      "0 0.8753 6.7 0.0128507524194\n",
      "1 0.9067 13.4 1.26545007815e-05\n",
      "2 0.9163 20.1 0.00407199113818\n",
      "3 0.9283 26.8 1.57746234793e-06\n",
      "4 0.9342 33.6 0.00330959936599\n",
      "5 0.9373 40.3 0.097537298761\n",
      "6 0.9375 47.0 9.45099207615e-06\n",
      "7 0.939 53.8 5.37520844445e-05\n",
      "8 0.941 60.5 0.0578671918733\n",
      "9 0.9407 67.1 2.20464913235e-09\n",
      "10 0.9475 74.0 7.7697260039e-09\n",
      "11 0.9443 80.7 0.000757343988081\n",
      "12 0.9435 87.4 7.22283457658e-06\n",
      "13 0.9427 94.1 0.00118373058708\n",
      "14 0.9512 100.9 1.15282724748e-06\n",
      "15 0.9465 107.5 3.94978484637e-05\n",
      "16 0.9491 114.3 0.000376953392446\n",
      "17 0.9467 121.0 4.67325067543e-11\n",
      "18 0.9516 127.7 1.54487533877e-12\n",
      "19 0.954 134.4 9.27240288853e-09\n",
      "134.3613383769989\n"
     ]
    }
   ],
   "source": [
    "# 參考範例 feedforward network\n",
    "from time import time\n",
    "accuracy_history = []\n",
    "γ = 0.02\n",
    "A = np.random.normal(size=(50,784))\n",
    "b = np.random.normal(size=(50,1))\n",
    "C = np.random.normal(size=(10,50))\n",
    "d = np.random.normal(size=(10,1))\n",
    "t0 = time()\n",
    "for epochs in range(20):\n",
    "    idx = np.random.choice(n_data, n_data, replace=False)\n",
    "    for i in idx:\n",
    "        x = train_X[i]\n",
    "        y = train_y[i]\n",
    "        U_ = A@x+b\n",
    "        U = relu(U_)\n",
    "        q = softmax(C@U+d)\n",
    "        L = - np.log(q[y])[0]\n",
    "        p = np.eye(10)[y][:, None]\n",
    "        grad_d = q - p\n",
    "        grad_C = grad_d @ U.T\n",
    "        grad_b = (C.T @ grad_d ) * Drelu(U_)\n",
    "        grad_A = grad_b @ x.T\n",
    "        A -= γ * grad_A\n",
    "        b -= γ * grad_b\n",
    "        C -= γ * grad_C\n",
    "        d -= γ * grad_d    \n",
    "    score = ((C@relu(A@test_X+b)+d).argmax(axis=1).ravel()==test_y).mean()\n",
    "    print(epochs, score, \"%.1f\"%(time()-t0), L)\n",
    "print(time()-t0)"
   ]
  },
  {
   "cell_type": "code",
   "execution_count": null,
   "metadata": {
    "collapsed": true
   },
   "outputs": [],
   "source": []
  }
 ],
 "metadata": {
  "kernelspec": {
   "display_name": "Python 3",
   "language": "python",
   "name": "python3"
  },
  "language_info": {
   "codemirror_mode": {
    "name": "ipython",
    "version": 3
   },
   "file_extension": ".py",
   "mimetype": "text/x-python",
   "name": "python",
   "nbconvert_exporter": "python",
   "pygments_lexer": "ipython3",
   "version": "3.5.3"
  }
 },
 "nbformat": 4,
 "nbformat_minor": 1
}
