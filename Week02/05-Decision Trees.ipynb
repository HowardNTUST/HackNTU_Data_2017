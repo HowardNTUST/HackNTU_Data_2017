{
 "cells": [
  {
   "cell_type": "markdown",
   "metadata": {},
   "source": [
    "# Decision Trees"
   ]
  },
  {
   "cell_type": "code",
   "execution_count": 1,
   "metadata": {
    "collapsed": true
   },
   "outputs": [],
   "source": [
    "from PIL import Image\n",
    "import numpy as np\n",
    "%matplotlib inline\n",
    "import matplotlib\n",
    "import matplotlib.pyplot as plt\n",
    "from sklearn import datasets, tree\n",
    "matplotlib.style.use('bmh')\n",
    "matplotlib.rcParams['figure.figsize']=(10,7)"
   ]
  },
  {
   "cell_type": "markdown",
   "metadata": {},
   "source": [
    "簡易的 決策樹 實驗\n",
    "\n",
    "使用 Iris dataset\n",
    "\n",
    "https://zh.wikipedia.org/wiki/安德森鸢尾花卉数据集\n"
   ]
  },
  {
   "cell_type": "code",
   "execution_count": 2,
   "metadata": {
    "collapsed": false
   },
   "outputs": [
    {
     "data": {
      "text/plain": [
       "DecisionTreeClassifier(class_weight=None, criterion='gini', max_depth=None,\n",
       "            max_features=None, max_leaf_nodes=None,\n",
       "            min_impurity_split=1e-07, min_samples_leaf=1,\n",
       "            min_samples_split=2, min_weight_fraction_leaf=0.0,\n",
       "            presort=False, random_state=None, splitter='best')"
      ]
     },
     "execution_count": 2,
     "metadata": {},
     "output_type": "execute_result"
    }
   ],
   "source": [
    "# Iris dataset\n",
    "iris  = datasets.load_iris()\n",
    "X, y = iris.data, iris.target\n",
    "clf=tree.DecisionTreeClassifier()\n",
    "clf.fit(X, y)\n"
   ]
  },
  {
   "cell_type": "code",
   "execution_count": 3,
   "metadata": {
    "collapsed": false
   },
   "outputs": [],
   "source": [
    "iris_feature_names = [\"花萼長度\", \"花萼寬度\", \"花瓣長度\",\"花瓣寬度\"]\n",
    "iris_target_names = [\"山鳶尾\", \"變色鳶尾\", \"維吉尼亞鳶尾\"]\n",
    "\n",
    "dot_data = tree.export_graphviz(clf, out_file=None, \n",
    "                        feature_names=iris_feature_names,  \n",
    "                         class_names=iris_target_names,  \n",
    "                         filled=True, rounded=True,  \n",
    "                         special_characters=True)"
   ]
  },
  {
   "cell_type": "code",
   "execution_count": 4,
   "metadata": {
    "collapsed": false
   },
   "outputs": [
    {
     "data": {
      "image/svg+xml": [
       "<svg height=\"671pt\" viewBox=\"0.00 0.00 934.50 671.00\" width=\"935pt\" xmlns=\"http://www.w3.org/2000/svg\" xmlns:xlink=\"http://www.w3.org/1999/xlink\">\n",
       "<g class=\"graph\" id=\"graph0\" transform=\"scale(1 1) rotate(0) translate(4 667)\">\n",
       "<title>Tree</title>\n",
       "<polygon fill=\"white\" points=\"-4,4 -4,-667 930.5,-667 930.5,4 -4,4\" stroke=\"none\"/>\n",
       "<!-- 0 -->\n",
       "<g class=\"node\" id=\"node1\"><title>0</title>\n",
       "<path d=\"M585,-663C585,-663 477,-663 477,-663 471,-663 465,-657 465,-651 465,-651 465,-592 465,-592 465,-586 471,-580 477,-580 477,-580 585,-580 585,-580 591,-580 597,-586 597,-592 597,-592 597,-651 597,-651 597,-657 591,-663 585,-663\" fill=\"none\" stroke=\"black\"/>\n",
       "<text font-family=\"Helvetica,sans-Serif\" font-size=\"14.00\" text-anchor=\"start\" x=\"485\" y=\"-647.8\">花瓣寬度 ≤ 0.8</text>\n",
       "<text font-family=\"Helvetica,sans-Serif\" font-size=\"14.00\" text-anchor=\"start\" x=\"491.5\" y=\"-632.8\">gini = 0.6667</text>\n",
       "<text font-family=\"Helvetica,sans-Serif\" font-size=\"14.00\" text-anchor=\"start\" x=\"486\" y=\"-617.8\">samples = 150</text>\n",
       "<text font-family=\"Helvetica,sans-Serif\" font-size=\"14.00\" text-anchor=\"start\" x=\"473\" y=\"-602.8\">value = [50, 50, 50]</text>\n",
       "<text font-family=\"Helvetica,sans-Serif\" font-size=\"14.00\" text-anchor=\"start\" x=\"486\" y=\"-587.8\">class = 山鳶尾</text>\n",
       "</g>\n",
       "<!-- 1 -->\n",
       "<g class=\"node\" id=\"node2\"><title>1</title>\n",
       "<path d=\"M508.5,-536.5C508.5,-536.5 415.5,-536.5 415.5,-536.5 409.5,-536.5 403.5,-530.5 403.5,-524.5 403.5,-524.5 403.5,-480.5 403.5,-480.5 403.5,-474.5 409.5,-468.5 415.5,-468.5 415.5,-468.5 508.5,-468.5 508.5,-468.5 514.5,-468.5 520.5,-474.5 520.5,-480.5 520.5,-480.5 520.5,-524.5 520.5,-524.5 520.5,-530.5 514.5,-536.5 508.5,-536.5\" fill=\"#e58139\" stroke=\"black\"/>\n",
       "<text font-family=\"Helvetica,sans-Serif\" font-size=\"14.00\" text-anchor=\"start\" x=\"434\" y=\"-521.3\">gini = 0.0</text>\n",
       "<text font-family=\"Helvetica,sans-Serif\" font-size=\"14.00\" text-anchor=\"start\" x=\"421\" y=\"-506.3\">samples = 50</text>\n",
       "<text font-family=\"Helvetica,sans-Serif\" font-size=\"14.00\" text-anchor=\"start\" x=\"411.5\" y=\"-491.3\">value = [50, 0, 0]</text>\n",
       "<text font-family=\"Helvetica,sans-Serif\" font-size=\"14.00\" text-anchor=\"start\" x=\"417\" y=\"-476.3\">class = 山鳶尾</text>\n",
       "</g>\n",
       "<!-- 0&#45;&gt;1 -->\n",
       "<g class=\"edge\" id=\"edge1\"><title>0-&gt;1</title>\n",
       "<path d=\"M507.061,-579.907C500.488,-568.763 493.35,-556.658 486.733,-545.439\" fill=\"none\" stroke=\"black\"/>\n",
       "<polygon fill=\"black\" points=\"489.655,-543.503 481.56,-536.667 483.625,-547.059 489.655,-543.503\" stroke=\"black\"/>\n",
       "<text font-family=\"Helvetica,sans-Serif\" font-size=\"14.00\" text-anchor=\"middle\" x=\"475.313\" y=\"-557.174\">True</text>\n",
       "</g>\n",
       "<!-- 2 -->\n",
       "<g class=\"node\" id=\"node3\"><title>2</title>\n",
       "<path d=\"M651.5,-544C651.5,-544 550.5,-544 550.5,-544 544.5,-544 538.5,-538 538.5,-532 538.5,-532 538.5,-473 538.5,-473 538.5,-467 544.5,-461 550.5,-461 550.5,-461 651.5,-461 651.5,-461 657.5,-461 663.5,-467 663.5,-473 663.5,-473 663.5,-532 663.5,-532 663.5,-538 657.5,-544 651.5,-544\" fill=\"none\" stroke=\"black\"/>\n",
       "<text font-family=\"Helvetica,sans-Serif\" font-size=\"14.00\" text-anchor=\"start\" x=\"551\" y=\"-528.8\">花瓣寬度 ≤ 1.75</text>\n",
       "<text font-family=\"Helvetica,sans-Serif\" font-size=\"14.00\" text-anchor=\"start\" x=\"573\" y=\"-513.8\">gini = 0.5</text>\n",
       "<text font-family=\"Helvetica,sans-Serif\" font-size=\"14.00\" text-anchor=\"start\" x=\"556\" y=\"-498.8\">samples = 100</text>\n",
       "<text font-family=\"Helvetica,sans-Serif\" font-size=\"14.00\" text-anchor=\"start\" x=\"546.5\" y=\"-483.8\">value = [0, 50, 50]</text>\n",
       "<text font-family=\"Helvetica,sans-Serif\" font-size=\"14.00\" text-anchor=\"start\" x=\"549\" y=\"-468.8\">class = 變色鳶尾</text>\n",
       "</g>\n",
       "<!-- 0&#45;&gt;2 -->\n",
       "<g class=\"edge\" id=\"edge2\"><title>0-&gt;2</title>\n",
       "<path d=\"M555.286,-579.907C560.553,-571.105 566.178,-561.703 571.617,-552.612\" fill=\"none\" stroke=\"black\"/>\n",
       "<polygon fill=\"black\" points=\"574.626,-554.399 576.757,-544.021 568.619,-550.805 574.626,-554.399\" stroke=\"black\"/>\n",
       "<text font-family=\"Helvetica,sans-Serif\" font-size=\"14.00\" text-anchor=\"middle\" x=\"582.851\" y=\"-564.567\">False</text>\n",
       "</g>\n",
       "<!-- 3 -->\n",
       "<g class=\"node\" id=\"node4\"><title>3</title>\n",
       "<path d=\"M497,-425C497,-425 401,-425 401,-425 395,-425 389,-419 389,-413 389,-413 389,-354 389,-354 389,-348 395,-342 401,-342 401,-342 497,-342 497,-342 503,-342 509,-348 509,-354 509,-354 509,-413 509,-413 509,-419 503,-425 497,-425\" fill=\"#39e581\" fill-opacity=\"0.898039\" stroke=\"black\"/>\n",
       "<text font-family=\"Helvetica,sans-Serif\" font-size=\"14.00\" text-anchor=\"start\" x=\"399\" y=\"-409.8\">花瓣長度 ≤ 4.95</text>\n",
       "<text font-family=\"Helvetica,sans-Serif\" font-size=\"14.00\" text-anchor=\"start\" x=\"413.5\" y=\"-394.8\">gini = 0.168</text>\n",
       "<text font-family=\"Helvetica,sans-Serif\" font-size=\"14.00\" text-anchor=\"start\" x=\"408\" y=\"-379.8\">samples = 54</text>\n",
       "<text font-family=\"Helvetica,sans-Serif\" font-size=\"14.00\" text-anchor=\"start\" x=\"398.5\" y=\"-364.8\">value = [0, 49, 5]</text>\n",
       "<text font-family=\"Helvetica,sans-Serif\" font-size=\"14.00\" text-anchor=\"start\" x=\"397\" y=\"-349.8\">class = 變色鳶尾</text>\n",
       "</g>\n",
       "<!-- 2&#45;&gt;3 -->\n",
       "<g class=\"edge\" id=\"edge3\"><title>2-&gt;3</title>\n",
       "<path d=\"M548.264,-460.907C535.885,-451.379 522.594,-441.148 509.89,-431.37\" fill=\"none\" stroke=\"black\"/>\n",
       "<polygon fill=\"black\" points=\"511.702,-428.347 501.642,-425.021 507.432,-433.894 511.702,-428.347\" stroke=\"black\"/>\n",
       "</g>\n",
       "<!-- 12 -->\n",
       "<g class=\"node\" id=\"node13\"><title>12</title>\n",
       "<path d=\"M747.5,-425C747.5,-425 622.5,-425 622.5,-425 616.5,-425 610.5,-419 610.5,-413 610.5,-413 610.5,-354 610.5,-354 610.5,-348 616.5,-342 622.5,-342 622.5,-342 747.5,-342 747.5,-342 753.5,-342 759.5,-348 759.5,-354 759.5,-354 759.5,-413 759.5,-413 759.5,-419 753.5,-425 747.5,-425\" fill=\"#8139e5\" fill-opacity=\"0.976471\" stroke=\"black\"/>\n",
       "<text font-family=\"Helvetica,sans-Serif\" font-size=\"14.00\" text-anchor=\"start\" x=\"635\" y=\"-409.8\">花瓣長度 ≤ 4.85</text>\n",
       "<text font-family=\"Helvetica,sans-Serif\" font-size=\"14.00\" text-anchor=\"start\" x=\"645.5\" y=\"-394.8\">gini = 0.0425</text>\n",
       "<text font-family=\"Helvetica,sans-Serif\" font-size=\"14.00\" text-anchor=\"start\" x=\"644\" y=\"-379.8\">samples = 46</text>\n",
       "<text font-family=\"Helvetica,sans-Serif\" font-size=\"14.00\" text-anchor=\"start\" x=\"634.5\" y=\"-364.8\">value = [0, 1, 45]</text>\n",
       "<text font-family=\"Helvetica,sans-Serif\" font-size=\"14.00\" text-anchor=\"start\" x=\"618.5\" y=\"-349.8\">class = 維吉尼亞鳶尾</text>\n",
       "</g>\n",
       "<!-- 2&#45;&gt;12 -->\n",
       "<g class=\"edge\" id=\"edge12\"><title>2-&gt;12</title>\n",
       "<path d=\"M630.143,-460.907C636.529,-452.014 643.352,-442.509 649.942,-433.331\" fill=\"none\" stroke=\"black\"/>\n",
       "<polygon fill=\"black\" points=\"652.919,-435.185 655.908,-425.021 647.233,-431.103 652.919,-435.185\" stroke=\"black\"/>\n",
       "</g>\n",
       "<!-- 4 -->\n",
       "<g class=\"node\" id=\"node5\"><title>4</title>\n",
       "<path d=\"M261,-306C261,-306 165,-306 165,-306 159,-306 153,-300 153,-294 153,-294 153,-235 153,-235 153,-229 159,-223 165,-223 165,-223 261,-223 261,-223 267,-223 273,-229 273,-235 273,-235 273,-294 273,-294 273,-300 267,-306 261,-306\" fill=\"#39e581\" fill-opacity=\"0.980392\" stroke=\"black\"/>\n",
       "<text font-family=\"Helvetica,sans-Serif\" font-size=\"14.00\" text-anchor=\"start\" x=\"163\" y=\"-290.8\">花瓣寬度 ≤ 1.65</text>\n",
       "<text font-family=\"Helvetica,sans-Serif\" font-size=\"14.00\" text-anchor=\"start\" x=\"173.5\" y=\"-275.8\">gini = 0.0408</text>\n",
       "<text font-family=\"Helvetica,sans-Serif\" font-size=\"14.00\" text-anchor=\"start\" x=\"172\" y=\"-260.8\">samples = 48</text>\n",
       "<text font-family=\"Helvetica,sans-Serif\" font-size=\"14.00\" text-anchor=\"start\" x=\"162.5\" y=\"-245.8\">value = [0, 47, 1]</text>\n",
       "<text font-family=\"Helvetica,sans-Serif\" font-size=\"14.00\" text-anchor=\"start\" x=\"161\" y=\"-230.8\">class = 變色鳶尾</text>\n",
       "</g>\n",
       "<!-- 3&#45;&gt;4 -->\n",
       "<g class=\"edge\" id=\"edge4\"><title>3-&gt;4</title>\n",
       "<path d=\"M388.837,-352.673C356.381,-336.583 316.171,-316.648 282.397,-299.904\" fill=\"none\" stroke=\"black\"/>\n",
       "<polygon fill=\"black\" points=\"283.568,-296.578 273.054,-295.272 280.458,-302.85 283.568,-296.578\" stroke=\"black\"/>\n",
       "</g>\n",
       "<!-- 7 -->\n",
       "<g class=\"node\" id=\"node8\"><title>7</title>\n",
       "<path d=\"M511.5,-306C511.5,-306 386.5,-306 386.5,-306 380.5,-306 374.5,-300 374.5,-294 374.5,-294 374.5,-235 374.5,-235 374.5,-229 380.5,-223 386.5,-223 386.5,-223 511.5,-223 511.5,-223 517.5,-223 523.5,-229 523.5,-235 523.5,-235 523.5,-294 523.5,-294 523.5,-300 517.5,-306 511.5,-306\" fill=\"#8139e5\" fill-opacity=\"0.498039\" stroke=\"black\"/>\n",
       "<text font-family=\"Helvetica,sans-Serif\" font-size=\"14.00\" text-anchor=\"start\" x=\"399\" y=\"-290.8\">花瓣寬度 ≤ 1.55</text>\n",
       "<text font-family=\"Helvetica,sans-Serif\" font-size=\"14.00\" text-anchor=\"start\" x=\"409.5\" y=\"-275.8\">gini = 0.4444</text>\n",
       "<text font-family=\"Helvetica,sans-Serif\" font-size=\"14.00\" text-anchor=\"start\" x=\"411.5\" y=\"-260.8\">samples = 6</text>\n",
       "<text font-family=\"Helvetica,sans-Serif\" font-size=\"14.00\" text-anchor=\"start\" x=\"402\" y=\"-245.8\">value = [0, 2, 4]</text>\n",
       "<text font-family=\"Helvetica,sans-Serif\" font-size=\"14.00\" text-anchor=\"start\" x=\"382.5\" y=\"-230.8\">class = 維吉尼亞鳶尾</text>\n",
       "</g>\n",
       "<!-- 3&#45;&gt;7 -->\n",
       "<g class=\"edge\" id=\"edge7\"><title>3-&gt;7</title>\n",
       "<path d=\"M449,-341.907C449,-333.649 449,-324.864 449,-316.302\" fill=\"none\" stroke=\"black\"/>\n",
       "<polygon fill=\"black\" points=\"452.5,-316.021 449,-306.021 445.5,-316.021 452.5,-316.021\" stroke=\"black\"/>\n",
       "</g>\n",
       "<!-- 5 -->\n",
       "<g class=\"node\" id=\"node6\"><title>5</title>\n",
       "<path d=\"M108,-179.5C108,-179.5 12,-179.5 12,-179.5 6,-179.5 7.10543e-15,-173.5 7.10543e-15,-167.5 7.10543e-15,-167.5 7.10543e-15,-123.5 7.10543e-15,-123.5 7.10543e-15,-117.5 6,-111.5 12,-111.5 12,-111.5 108,-111.5 108,-111.5 114,-111.5 120,-117.5 120,-123.5 120,-123.5 120,-167.5 120,-167.5 120,-173.5 114,-179.5 108,-179.5\" fill=\"#39e581\" stroke=\"black\"/>\n",
       "<text font-family=\"Helvetica,sans-Serif\" font-size=\"14.00\" text-anchor=\"start\" x=\"32\" y=\"-164.3\">gini = 0.0</text>\n",
       "<text font-family=\"Helvetica,sans-Serif\" font-size=\"14.00\" text-anchor=\"start\" x=\"19\" y=\"-149.3\">samples = 47</text>\n",
       "<text font-family=\"Helvetica,sans-Serif\" font-size=\"14.00\" text-anchor=\"start\" x=\"9.5\" y=\"-134.3\">value = [0, 47, 0]</text>\n",
       "<text font-family=\"Helvetica,sans-Serif\" font-size=\"14.00\" text-anchor=\"start\" x=\"8\" y=\"-119.3\">class = 變色鳶尾</text>\n",
       "</g>\n",
       "<!-- 4&#45;&gt;5 -->\n",
       "<g class=\"edge\" id=\"edge5\"><title>4-&gt;5</title>\n",
       "<path d=\"M159.917,-222.907C144.189,-210.88 126.999,-197.735 111.38,-185.791\" fill=\"none\" stroke=\"black\"/>\n",
       "<polygon fill=\"black\" points=\"113.442,-182.961 103.372,-179.667 109.19,-188.522 113.442,-182.961\" stroke=\"black\"/>\n",
       "</g>\n",
       "<!-- 6 -->\n",
       "<g class=\"node\" id=\"node7\"><title>6</title>\n",
       "<path d=\"M275.5,-179.5C275.5,-179.5 150.5,-179.5 150.5,-179.5 144.5,-179.5 138.5,-173.5 138.5,-167.5 138.5,-167.5 138.5,-123.5 138.5,-123.5 138.5,-117.5 144.5,-111.5 150.5,-111.5 150.5,-111.5 275.5,-111.5 275.5,-111.5 281.5,-111.5 287.5,-117.5 287.5,-123.5 287.5,-123.5 287.5,-167.5 287.5,-167.5 287.5,-173.5 281.5,-179.5 275.5,-179.5\" fill=\"#8139e5\" stroke=\"black\"/>\n",
       "<text font-family=\"Helvetica,sans-Serif\" font-size=\"14.00\" text-anchor=\"start\" x=\"185\" y=\"-164.3\">gini = 0.0</text>\n",
       "<text font-family=\"Helvetica,sans-Serif\" font-size=\"14.00\" text-anchor=\"start\" x=\"175.5\" y=\"-149.3\">samples = 1</text>\n",
       "<text font-family=\"Helvetica,sans-Serif\" font-size=\"14.00\" text-anchor=\"start\" x=\"166\" y=\"-134.3\">value = [0, 0, 1]</text>\n",
       "<text font-family=\"Helvetica,sans-Serif\" font-size=\"14.00\" text-anchor=\"start\" x=\"146.5\" y=\"-119.3\">class = 維吉尼亞鳶尾</text>\n",
       "</g>\n",
       "<!-- 4&#45;&gt;6 -->\n",
       "<g class=\"edge\" id=\"edge6\"><title>4-&gt;6</title>\n",
       "<path d=\"M213,-222.907C213,-212.204 213,-200.615 213,-189.776\" fill=\"none\" stroke=\"black\"/>\n",
       "<polygon fill=\"black\" points=\"216.5,-189.667 213,-179.667 209.5,-189.667 216.5,-189.667\" stroke=\"black\"/>\n",
       "</g>\n",
       "<!-- 8 -->\n",
       "<g class=\"node\" id=\"node9\"><title>8</title>\n",
       "<path d=\"M442.5,-179.5C442.5,-179.5 317.5,-179.5 317.5,-179.5 311.5,-179.5 305.5,-173.5 305.5,-167.5 305.5,-167.5 305.5,-123.5 305.5,-123.5 305.5,-117.5 311.5,-111.5 317.5,-111.5 317.5,-111.5 442.5,-111.5 442.5,-111.5 448.5,-111.5 454.5,-117.5 454.5,-123.5 454.5,-123.5 454.5,-167.5 454.5,-167.5 454.5,-173.5 448.5,-179.5 442.5,-179.5\" fill=\"#8139e5\" stroke=\"black\"/>\n",
       "<text font-family=\"Helvetica,sans-Serif\" font-size=\"14.00\" text-anchor=\"start\" x=\"352\" y=\"-164.3\">gini = 0.0</text>\n",
       "<text font-family=\"Helvetica,sans-Serif\" font-size=\"14.00\" text-anchor=\"start\" x=\"342.5\" y=\"-149.3\">samples = 3</text>\n",
       "<text font-family=\"Helvetica,sans-Serif\" font-size=\"14.00\" text-anchor=\"start\" x=\"333\" y=\"-134.3\">value = [0, 0, 3]</text>\n",
       "<text font-family=\"Helvetica,sans-Serif\" font-size=\"14.00\" text-anchor=\"start\" x=\"313.5\" y=\"-119.3\">class = 維吉尼亞鳶尾</text>\n",
       "</g>\n",
       "<!-- 7&#45;&gt;8 -->\n",
       "<g class=\"edge\" id=\"edge8\"><title>7-&gt;8</title>\n",
       "<path d=\"M425.061,-222.907C418.488,-211.763 411.35,-199.658 404.733,-188.439\" fill=\"none\" stroke=\"black\"/>\n",
       "<polygon fill=\"black\" points=\"407.655,-186.503 399.56,-179.667 401.625,-190.059 407.655,-186.503\" stroke=\"black\"/>\n",
       "</g>\n",
       "<!-- 9 -->\n",
       "<g class=\"node\" id=\"node10\"><title>9</title>\n",
       "<path d=\"M580,-187C580,-187 484,-187 484,-187 478,-187 472,-181 472,-175 472,-175 472,-116 472,-116 472,-110 478,-104 484,-104 484,-104 580,-104 580,-104 586,-104 592,-110 592,-116 592,-116 592,-175 592,-175 592,-181 586,-187 580,-187\" fill=\"#39e581\" fill-opacity=\"0.498039\" stroke=\"black\"/>\n",
       "<text font-family=\"Helvetica,sans-Serif\" font-size=\"14.00\" text-anchor=\"start\" x=\"482\" y=\"-171.8\">花瓣長度 ≤ 5.45</text>\n",
       "<text font-family=\"Helvetica,sans-Serif\" font-size=\"14.00\" text-anchor=\"start\" x=\"492.5\" y=\"-156.8\">gini = 0.4444</text>\n",
       "<text font-family=\"Helvetica,sans-Serif\" font-size=\"14.00\" text-anchor=\"start\" x=\"494.5\" y=\"-141.8\">samples = 3</text>\n",
       "<text font-family=\"Helvetica,sans-Serif\" font-size=\"14.00\" text-anchor=\"start\" x=\"485\" y=\"-126.8\">value = [0, 2, 1]</text>\n",
       "<text font-family=\"Helvetica,sans-Serif\" font-size=\"14.00\" text-anchor=\"start\" x=\"480\" y=\"-111.8\">class = 變色鳶尾</text>\n",
       "</g>\n",
       "<!-- 7&#45;&gt;9 -->\n",
       "<g class=\"edge\" id=\"edge9\"><title>7-&gt;9</title>\n",
       "<path d=\"M477.796,-222.907C484.106,-214.014 490.848,-204.509 497.359,-195.331\" fill=\"none\" stroke=\"black\"/>\n",
       "<polygon fill=\"black\" points=\"500.323,-197.202 503.254,-187.021 494.614,-193.152 500.323,-197.202\" stroke=\"black\"/>\n",
       "</g>\n",
       "<!-- 10 -->\n",
       "<g class=\"node\" id=\"node11\"><title>10</title>\n",
       "<path d=\"M503,-68C503,-68 407,-68 407,-68 401,-68 395,-62 395,-56 395,-56 395,-12 395,-12 395,-6 401,-0 407,-0 407,-0 503,-0 503,-0 509,-0 515,-6 515,-12 515,-12 515,-56 515,-56 515,-62 509,-68 503,-68\" fill=\"#39e581\" stroke=\"black\"/>\n",
       "<text font-family=\"Helvetica,sans-Serif\" font-size=\"14.00\" text-anchor=\"start\" x=\"427\" y=\"-52.8\">gini = 0.0</text>\n",
       "<text font-family=\"Helvetica,sans-Serif\" font-size=\"14.00\" text-anchor=\"start\" x=\"417.5\" y=\"-37.8\">samples = 2</text>\n",
       "<text font-family=\"Helvetica,sans-Serif\" font-size=\"14.00\" text-anchor=\"start\" x=\"408\" y=\"-22.8\">value = [0, 2, 0]</text>\n",
       "<text font-family=\"Helvetica,sans-Serif\" font-size=\"14.00\" text-anchor=\"start\" x=\"403\" y=\"-7.8\">class = 變色鳶尾</text>\n",
       "</g>\n",
       "<!-- 9&#45;&gt;10 -->\n",
       "<g class=\"edge\" id=\"edge10\"><title>9-&gt;10</title>\n",
       "<path d=\"M503.328,-103.726C497.107,-94.879 490.518,-85.51 484.274,-76.6303\" fill=\"none\" stroke=\"black\"/>\n",
       "<polygon fill=\"black\" points=\"487.031,-74.4664 478.416,-68.2996 481.305,-78.4929 487.031,-74.4664\" stroke=\"black\"/>\n",
       "</g>\n",
       "<!-- 11 -->\n",
       "<g class=\"node\" id=\"node12\"><title>11</title>\n",
       "<path d=\"M670.5,-68C670.5,-68 545.5,-68 545.5,-68 539.5,-68 533.5,-62 533.5,-56 533.5,-56 533.5,-12 533.5,-12 533.5,-6 539.5,-0 545.5,-0 545.5,-0 670.5,-0 670.5,-0 676.5,-0 682.5,-6 682.5,-12 682.5,-12 682.5,-56 682.5,-56 682.5,-62 676.5,-68 670.5,-68\" fill=\"#8139e5\" stroke=\"black\"/>\n",
       "<text font-family=\"Helvetica,sans-Serif\" font-size=\"14.00\" text-anchor=\"start\" x=\"580\" y=\"-52.8\">gini = 0.0</text>\n",
       "<text font-family=\"Helvetica,sans-Serif\" font-size=\"14.00\" text-anchor=\"start\" x=\"570.5\" y=\"-37.8\">samples = 1</text>\n",
       "<text font-family=\"Helvetica,sans-Serif\" font-size=\"14.00\" text-anchor=\"start\" x=\"561\" y=\"-22.8\">value = [0, 0, 1]</text>\n",
       "<text font-family=\"Helvetica,sans-Serif\" font-size=\"14.00\" text-anchor=\"start\" x=\"541.5\" y=\"-7.8\">class = 維吉尼亞鳶尾</text>\n",
       "</g>\n",
       "<!-- 9&#45;&gt;11 -->\n",
       "<g class=\"edge\" id=\"edge11\"><title>9-&gt;11</title>\n",
       "<path d=\"M560.3,-103.726C566.44,-94.879 572.943,-85.51 579.106,-76.6303\" fill=\"none\" stroke=\"black\"/>\n",
       "<polygon fill=\"black\" points=\"582.061,-78.5104 584.888,-68.2996 576.311,-74.5191 582.061,-78.5104\" stroke=\"black\"/>\n",
       "</g>\n",
       "<!-- 13 -->\n",
       "<g class=\"node\" id=\"node14\"><title>13</title>\n",
       "<path d=\"M747.5,-306C747.5,-306 622.5,-306 622.5,-306 616.5,-306 610.5,-300 610.5,-294 610.5,-294 610.5,-235 610.5,-235 610.5,-229 616.5,-223 622.5,-223 622.5,-223 747.5,-223 747.5,-223 753.5,-223 759.5,-229 759.5,-235 759.5,-235 759.5,-294 759.5,-294 759.5,-300 753.5,-306 747.5,-306\" fill=\"#8139e5\" fill-opacity=\"0.498039\" stroke=\"black\"/>\n",
       "<text font-family=\"Helvetica,sans-Serif\" font-size=\"14.00\" text-anchor=\"start\" x=\"639\" y=\"-290.8\">花萼寬度 ≤ 3.1</text>\n",
       "<text font-family=\"Helvetica,sans-Serif\" font-size=\"14.00\" text-anchor=\"start\" x=\"645.5\" y=\"-275.8\">gini = 0.4444</text>\n",
       "<text font-family=\"Helvetica,sans-Serif\" font-size=\"14.00\" text-anchor=\"start\" x=\"647.5\" y=\"-260.8\">samples = 3</text>\n",
       "<text font-family=\"Helvetica,sans-Serif\" font-size=\"14.00\" text-anchor=\"start\" x=\"638\" y=\"-245.8\">value = [0, 1, 2]</text>\n",
       "<text font-family=\"Helvetica,sans-Serif\" font-size=\"14.00\" text-anchor=\"start\" x=\"618.5\" y=\"-230.8\">class = 維吉尼亞鳶尾</text>\n",
       "</g>\n",
       "<!-- 12&#45;&gt;13 -->\n",
       "<g class=\"edge\" id=\"edge13\"><title>12-&gt;13</title>\n",
       "<path d=\"M685,-341.907C685,-333.649 685,-324.864 685,-316.302\" fill=\"none\" stroke=\"black\"/>\n",
       "<polygon fill=\"black\" points=\"688.5,-316.021 685,-306.021 681.5,-316.021 688.5,-316.021\" stroke=\"black\"/>\n",
       "</g>\n",
       "<!-- 16 -->\n",
       "<g class=\"node\" id=\"node17\"><title>16</title>\n",
       "<path d=\"M914.5,-298.5C914.5,-298.5 789.5,-298.5 789.5,-298.5 783.5,-298.5 777.5,-292.5 777.5,-286.5 777.5,-286.5 777.5,-242.5 777.5,-242.5 777.5,-236.5 783.5,-230.5 789.5,-230.5 789.5,-230.5 914.5,-230.5 914.5,-230.5 920.5,-230.5 926.5,-236.5 926.5,-242.5 926.5,-242.5 926.5,-286.5 926.5,-286.5 926.5,-292.5 920.5,-298.5 914.5,-298.5\" fill=\"#8139e5\" stroke=\"black\"/>\n",
       "<text font-family=\"Helvetica,sans-Serif\" font-size=\"14.00\" text-anchor=\"start\" x=\"824\" y=\"-283.3\">gini = 0.0</text>\n",
       "<text font-family=\"Helvetica,sans-Serif\" font-size=\"14.00\" text-anchor=\"start\" x=\"811\" y=\"-268.3\">samples = 43</text>\n",
       "<text font-family=\"Helvetica,sans-Serif\" font-size=\"14.00\" text-anchor=\"start\" x=\"801.5\" y=\"-253.3\">value = [0, 0, 43]</text>\n",
       "<text font-family=\"Helvetica,sans-Serif\" font-size=\"14.00\" text-anchor=\"start\" x=\"785.5\" y=\"-238.3\">class = 維吉尼亞鳶尾</text>\n",
       "</g>\n",
       "<!-- 12&#45;&gt;16 -->\n",
       "<g class=\"edge\" id=\"edge16\"><title>12-&gt;16</title>\n",
       "<path d=\"M742.94,-341.907C760.265,-329.769 779.215,-316.493 796.387,-304.462\" fill=\"none\" stroke=\"black\"/>\n",
       "<polygon fill=\"black\" points=\"798.477,-307.271 804.659,-298.667 794.461,-301.538 798.477,-307.271\" stroke=\"black\"/>\n",
       "</g>\n",
       "<!-- 14 -->\n",
       "<g class=\"node\" id=\"node15\"><title>14</title>\n",
       "<path d=\"M747.5,-179.5C747.5,-179.5 622.5,-179.5 622.5,-179.5 616.5,-179.5 610.5,-173.5 610.5,-167.5 610.5,-167.5 610.5,-123.5 610.5,-123.5 610.5,-117.5 616.5,-111.5 622.5,-111.5 622.5,-111.5 747.5,-111.5 747.5,-111.5 753.5,-111.5 759.5,-117.5 759.5,-123.5 759.5,-123.5 759.5,-167.5 759.5,-167.5 759.5,-173.5 753.5,-179.5 747.5,-179.5\" fill=\"#8139e5\" stroke=\"black\"/>\n",
       "<text font-family=\"Helvetica,sans-Serif\" font-size=\"14.00\" text-anchor=\"start\" x=\"657\" y=\"-164.3\">gini = 0.0</text>\n",
       "<text font-family=\"Helvetica,sans-Serif\" font-size=\"14.00\" text-anchor=\"start\" x=\"647.5\" y=\"-149.3\">samples = 2</text>\n",
       "<text font-family=\"Helvetica,sans-Serif\" font-size=\"14.00\" text-anchor=\"start\" x=\"638\" y=\"-134.3\">value = [0, 0, 2]</text>\n",
       "<text font-family=\"Helvetica,sans-Serif\" font-size=\"14.00\" text-anchor=\"start\" x=\"618.5\" y=\"-119.3\">class = 維吉尼亞鳶尾</text>\n",
       "</g>\n",
       "<!-- 13&#45;&gt;14 -->\n",
       "<g class=\"edge\" id=\"edge14\"><title>13-&gt;14</title>\n",
       "<path d=\"M685,-222.907C685,-212.204 685,-200.615 685,-189.776\" fill=\"none\" stroke=\"black\"/>\n",
       "<polygon fill=\"black\" points=\"688.5,-189.667 685,-179.667 681.5,-189.667 688.5,-189.667\" stroke=\"black\"/>\n",
       "</g>\n",
       "<!-- 15 -->\n",
       "<g class=\"node\" id=\"node16\"><title>15</title>\n",
       "<path d=\"M885,-179.5C885,-179.5 789,-179.5 789,-179.5 783,-179.5 777,-173.5 777,-167.5 777,-167.5 777,-123.5 777,-123.5 777,-117.5 783,-111.5 789,-111.5 789,-111.5 885,-111.5 885,-111.5 891,-111.5 897,-117.5 897,-123.5 897,-123.5 897,-167.5 897,-167.5 897,-173.5 891,-179.5 885,-179.5\" fill=\"#39e581\" stroke=\"black\"/>\n",
       "<text font-family=\"Helvetica,sans-Serif\" font-size=\"14.00\" text-anchor=\"start\" x=\"809\" y=\"-164.3\">gini = 0.0</text>\n",
       "<text font-family=\"Helvetica,sans-Serif\" font-size=\"14.00\" text-anchor=\"start\" x=\"799.5\" y=\"-149.3\">samples = 1</text>\n",
       "<text font-family=\"Helvetica,sans-Serif\" font-size=\"14.00\" text-anchor=\"start\" x=\"790\" y=\"-134.3\">value = [0, 1, 0]</text>\n",
       "<text font-family=\"Helvetica,sans-Serif\" font-size=\"14.00\" text-anchor=\"start\" x=\"785\" y=\"-119.3\">class = 變色鳶尾</text>\n",
       "</g>\n",
       "<!-- 13&#45;&gt;15 -->\n",
       "<g class=\"edge\" id=\"edge15\"><title>13-&gt;15</title>\n",
       "<path d=\"M737.736,-222.907C753.361,-210.88 770.439,-197.735 785.955,-185.791\" fill=\"none\" stroke=\"black\"/>\n",
       "<polygon fill=\"black\" points=\"788.122,-188.54 793.911,-179.667 783.852,-182.993 788.122,-188.54\" stroke=\"black\"/>\n",
       "</g>\n",
       "</g>\n",
       "</svg>"
      ],
      "text/plain": [
       "<IPython.core.display.SVG object>"
      ]
     },
     "execution_count": 4,
     "metadata": {},
     "output_type": "execute_result"
    }
   ],
   "source": [
    "import pydot_ng as pydot\n",
    "from IPython.display import SVG\n",
    "SVG(pydot.graph_from_dot_data(dot_data).create_svg())"
   ]
  },
  {
   "cell_type": "code",
   "execution_count": 5,
   "metadata": {
    "collapsed": false
   },
   "outputs": [
    {
     "data": {
      "image/png": "[encoded data removed]",
      "text/plain": [
       "<matplotlib.figure.Figure at 0x7f0b27c0f550>"
      ]
     },
     "metadata": {},
     "output_type": "display_data"
    }
   ],
   "source": [
    "# 只取 X 的兩個 features\n",
    "X = iris.data[:, [0, 1]]\n",
    "\n",
    "clf.fit(X, y)\n",
    "\n",
    "# 邊界\n",
    "x_min, y_min = X.min(axis=0)-1\n",
    "x_max, y_max = X.max(axis=0)+1\n",
    "\n",
    "# 座標點\n",
    "grid  = np.mgrid[x_min:x_max:200j, y_min:y_max:200j]\n",
    "# grid.shape = (2, 200, 200)\n",
    "\n",
    "# 在座標點 算出 logistic 的預測\n",
    "Z = clf.predict(grid.reshape(2, -1).T)\n",
    "Z  = Z.reshape(grid.shape[1:])\n",
    "\n",
    "# 畫出顏色和邊界\n",
    "plt.pcolormesh(grid[0], grid[1], Z, cmap=plt.cm.rainbow, alpha=0.02)\n",
    "plt.contour(grid[0], grid[1], Z, colors=['k', 'k', 'k'], linestyles=['-', '-', '-'],\n",
    "                levels=[0, 1, 2])\n",
    "\n",
    "# 標出 sample 點\n",
    "plt.scatter(X[:,0], X[:, 1],  c=y, cmap=plt.cm.rainbow, zorder=10, s=50);"
   ]
  },
  {
   "cell_type": "markdown",
   "metadata": {},
   "source": [
    "## Q\n",
    "* 不同的設定\n",
    "* 不同的圖\n",
    "* 參考 http://scikit-learn.org/stable/auto_examples/tree/plot_iris.html#sphx-glr-auto-examples-tree-plot-iris-py"
   ]
  },
  {
   "cell_type": "markdown",
   "metadata": {},
   "source": [
    "## MNIST"
   ]
  },
  {
   "cell_type": "code",
   "execution_count": 6,
   "metadata": {
    "collapsed": false
   },
   "outputs": [],
   "source": [
    "import gzip\n",
    "import pickle\n",
    "with gzip.open('mnist.pkl.gz', 'rb') as f:\n",
    "    train_set, validation_set, test_set = pickle.load(f, encoding='latin1')\n",
    "    \n",
    "train_X, train_y = train_set\n",
    "test_X, test_y = test_set\n",
    "\n",
    "#PCA\n",
    "from sklearn.decomposition import PCA\n",
    "pca = PCA(n_components=60)\n",
    "train_X = pca.fit_transform(train_set[0])\n",
    "test_X = pca.transform(test_set[0])\n",
    "\n",
    "# use only first 10000 samples\n",
    "#idx = np.random.choice(np.arange(train_X.shape[0]), 30000, replace=False)\n",
    "#train_X = train_X[idx]\n",
    "#train_y = train_y[idx]"
   ]
  },
  {
   "cell_type": "code",
   "execution_count": 7,
   "metadata": {
    "collapsed": true
   },
   "outputs": [],
   "source": [
    "clf = tree.DecisionTreeClassifier()"
   ]
  },
  {
   "cell_type": "code",
   "execution_count": 8,
   "metadata": {
    "collapsed": false
   },
   "outputs": [
    {
     "name": "stdout",
     "output_type": "stream",
     "text": [
      "1 loop, best of 1: 22.9 s per loop\n"
     ]
    }
   ],
   "source": [
    "%%timeit -n 1 -r 1\n",
    "clf.fit(train_X, train_y)"
   ]
  },
  {
   "cell_type": "code",
   "execution_count": 9,
   "metadata": {
    "collapsed": false
   },
   "outputs": [
    {
     "name": "stdout",
     "output_type": "stream",
     "text": [
      "1.0\n",
      "1 loop, best of 1: 30.1 ms per loop\n"
     ]
    }
   ],
   "source": [
    "%%timeit -n 1 -r 1\n",
    "print(np.mean(clf.predict(train_X) == train_y))"
   ]
  },
  {
   "cell_type": "code",
   "execution_count": 10,
   "metadata": {
    "collapsed": false
   },
   "outputs": [
    {
     "name": "stdout",
     "output_type": "stream",
     "text": [
      "0.8386\n",
      "1 loop, best of 1: 6.13 ms per loop\n"
     ]
    }
   ],
   "source": [
    "%%timeit -n 1 -r 1\n",
    "print(np.mean(clf.predict(test_X) == test_y))"
   ]
  },
  {
   "cell_type": "markdown",
   "metadata": {},
   "source": [
    "## Q\n",
    "* 不用 PCA, 直接從圖片像素\n",
    "* 縮小圖片"
   ]
  },
  {
   "cell_type": "code",
   "execution_count": 11,
   "metadata": {
    "collapsed": false
   },
   "outputs": [
    {
     "name": "stdout",
     "output_type": "stream",
     "text": [
      "train: 1.0\n",
      "test: 0.8835\n",
      "1 loop, best of 1: 14.5 s per loop\n"
     ]
    }
   ],
   "source": [
    "%%timeit -n 1 -r 1\n",
    "%run -i q_dtree_halfsize.py"
   ]
  }
 ],
 "metadata": {
  "kernelspec": {
   "display_name": "Python 3",
   "language": "python",
   "name": "python3"
  },
  "language_info": {
   "codemirror_mode": {
    "name": "ipython",
    "version": 3
   },
   "file_extension": ".py",
   "mimetype": "text/x-python",
   "name": "python",
   "nbconvert_exporter": "python",
   "pygments_lexer": "ipython3",
   "version": "3.5.2+"
  }
 },
 "nbformat": 4,
 "nbformat_minor": 0
}
