{
 "cells": [
  {
   "cell_type": "markdown",
   "metadata": {},
   "source": [
    "### 抓網頁\n",
    "* 導入urlopen 並且找到 help 文件"
   ]
  },
  {
   "cell_type": "code",
   "execution_count": null,
   "metadata": {
    "collapsed": false
   },
   "outputs": [],
   "source": []
  },
  {
   "cell_type": "markdown",
   "metadata": {},
   "source": [
    "* 用 urlopen 打開 https://www.wikipedia.org/ 並且讀入網頁內容\n",
    "* 將內內容用 utf-8解碼\n",
    "* 把解碼過得內容，用 HTML 來展示\n",
    "* 用 .getheaders() 看一下 header\n",
    "* 用 .close() 來關閉 response\n",
    "* 使用 context manager 的方式來打開網頁\n",
    "```python\n",
    "with urlopen(...) as response:\n",
    "    response.xxxx\n",
    "```"
   ]
  },
  {
   "cell_type": "code",
   "execution_count": null,
   "metadata": {
    "collapsed": false
   },
   "outputs": [],
   "source": [
    "from IPython.display import HTML"
   ]
  },
  {
   "cell_type": "markdown",
   "metadata": {},
   "source": [
    "### 解析日期\n",
    "* 試著跑一下 `re` 及 `datetime` 解析檔名日期的方式"
   ]
  },
  {
   "cell_type": "code",
   "execution_count": null,
   "metadata": {
    "collapsed": true
   },
   "outputs": [],
   "source": [
    "fn = \"M06A_20170213.tar.gz\""
   ]
  },
  {
   "cell_type": "markdown",
   "metadata": {},
   "source": [
    "### BS4\n",
    "* 導入 bs4 並找到 help 文件\n",
    "* 建立 soup 來分析  https://www.wikipedia.org/\n",
    "* 找出所有的 div, a\n",
    "* 找出維基百科所有的「語言」"
   ]
  },
  {
   "cell_type": "code",
   "execution_count": null,
   "metadata": {
    "collapsed": true
   },
   "outputs": [],
   "source": []
  }
 ],
 "metadata": {
  "kernelspec": {
   "display_name": "Python 3",
   "language": "python",
   "name": "python3"
  },
  "language_info": {
   "codemirror_mode": {
    "name": "ipython",
    "version": 3
   },
   "file_extension": ".py",
   "mimetype": "text/x-python",
   "name": "python",
   "nbconvert_exporter": "python",
   "pygments_lexer": "ipython3",
   "version": "3.5.2+"
  }
 },
 "nbformat": 4,
 "nbformat_minor": 1
}
