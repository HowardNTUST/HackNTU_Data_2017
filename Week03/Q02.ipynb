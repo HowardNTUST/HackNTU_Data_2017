{
 "cells": [
  {
   "cell_type": "markdown",
   "metadata": {},
   "source": [
    "## 處理旅程資訊"
   ]
  },
  {
   "cell_type": "markdown",
   "metadata": {},
   "source": [
    "### 先照之前的，讀取資料"
   ]
  },
  {
   "cell_type": "code",
   "execution_count": null,
   "metadata": {
    "collapsed": true
   },
   "outputs": [],
   "source": [
    "import tqdm\n",
    "import tarfile\n",
    "import pandas\n",
    "from urllib.request import urlopen\n",
    "\n",
    "# 檔案名稱格式\n",
    "filename_format=\"M06A_{year:04d}{month:02d}{day:02d}.tar.gz\".format\n",
    "xz_filename_format=\"xz/M06A_{year:04d}{month:02d}{day:02d}.tar.xz\".format\n",
    "csv_format = \"M06A/{year:04d}{month:02d}{day:02d}/{hour:02d}/TDCS_M06A_{year:04d}{month:02d}{day:02d}_{hour:02d}0000.csv\".format"
   ]
  },
  {
   "cell_type": "code",
   "execution_count": null,
   "metadata": {
    "collapsed": true
   },
   "outputs": [],
   "source": [
    "# 打開剛才下載的檔案試試\n",
    "data_config ={\"year\":2016, \"month\":12, \"day\":18}\n",
    "tar = tarfile.open(filename_format(**data_config), 'r')"
   ]
  },
  {
   "cell_type": "code",
   "execution_count": null,
   "metadata": {
    "collapsed": false
   },
   "outputs": [],
   "source": [
    "# 如果沒有下載，可以試試看 xz 檔案\n",
    "#data_dconfig ={\"year\":2016, \"month\":11, \"day\":18}\n",
    "#tar = tarfile.open(xz_filename_format(**data_config), 'r')"
   ]
  },
  {
   "cell_type": "code",
   "execution_count": null,
   "metadata": {
    "collapsed": false
   },
   "outputs": [],
   "source": [
    "# 設定欄位名稱\n",
    "M06A_fields = ['VehicleType',\n",
    "               'DetectionTime_O','GantryID_O',\n",
    "               'DetectionTime_D','GantryID_D ',\n",
    "               'TripLength', 'TripEnd', 'TripInformation']\n",
    "# 打開裡面 10 點鐘的資料\n",
    "csv = tar.extractfile(csv_format(hour=10, **data_config))\n",
    "\n",
    "# 讀進資料\n",
    "data = pandas.read_csv(csv, names=M06A_fields)\n",
    "\n",
    "# 檢查異常的資料\n",
    "print(\"異常資料數:\", data[data.TripEnd == 'N'].shape[0])\n",
    "\n",
    "# 去除異常資料\n",
    "data = data[data.TripEnd == 'Y']\n",
    "\n",
    "# 只保留 TripInformation 和 VehicleType\n",
    "data = data[['VehicleType', \"TripInformation\"]]\n",
    "\n",
    "# 看前五筆\n",
    "data.head(5)"
   ]
  },
  {
   "cell_type": "markdown",
   "metadata": {
    "collapsed": true
   },
   "source": [
    "### 時間的格式固定"
   ]
  },
  {
   "cell_type": "code",
   "execution_count": null,
   "metadata": {
    "collapsed": true
   },
   "outputs": [],
   "source": [
    "import datetime\n",
    "# 用來解析時間格式\n",
    "def strptime(x):\n",
    "    return datetime.datetime.strptime(x, \"%Y-%m-%d %H:%M:%S\")"
   ]
  },
  {
   "cell_type": "markdown",
   "metadata": {},
   "source": [
    "### 先用慢動作來解析看看格式\n",
    "* 先抓出第 0 筆資料的 TripInformation\n",
    "* 看看要怎麼拆解這個字串，得到我們要的資料"
   ]
  },
  {
   "cell_type": "code",
   "execution_count": null,
   "metadata": {
    "collapsed": false
   },
   "outputs": [],
   "source": [
    "data.iloc[0].TripInformation"
   ]
  },
  {
   "cell_type": "code",
   "execution_count": null,
   "metadata": {
    "collapsed": true
   },
   "outputs": [],
   "source": []
  },
  {
   "cell_type": "markdown",
   "metadata": {},
   "source": [
    "* 用迴圈來對前十筆資料做相同的事情"
   ]
  },
  {
   "cell_type": "code",
   "execution_count": null,
   "metadata": {
    "collapsed": false
   },
   "outputs": [],
   "source": [
    "# 合在一起看看\n",
    "for idx, row in data.head(10).iterrows():\n",
    "    # 處理過程"
   ]
  },
  {
   "cell_type": "code",
   "execution_count": null,
   "metadata": {
    "collapsed": false
   },
   "outputs": [],
   "source": [
    "# 節省記憶體\n",
    "del data"
   ]
  },
  {
   "cell_type": "markdown",
   "metadata": {},
   "source": [
    "## 偵測站\n",
    "\n",
    "* 手冊附錄\n",
    "* https://zh.wikipedia.org/wiki/%E9%AB%98%E9%80%9F%E5%85%AC%E8%B7%AF%E9%9B%BB%E5%AD%90%E6%94%B6%E8%B2%BB%E7%B3%BB%E7%B5%B1_(%E8%87%BA%E7%81%A3)#.E6.94.B6.E8.B2.BB.E9.96.80.E6.9E.B6\n",
    "* 交流道服務區里程 http://www.freeway.gov.tw/Publish.aspx?cnid=1906\n",
    "* 門架資訊 https://www.freeway.gov.tw/Upload/DownloadFiles/%e5%9c%8b%e9%81%93%e8%a8%88%e8%b2%bb%e9%96%80%e6%9e%b6%e5%ba%a7%e6%a8%99%e5%8f%8a%e9%87%8c%e7%a8%8b%e7%89%8c%e5%83%b9%e8%a1%a8104.09.04%e7%89%88.csv\n"
   ]
  },
  {
   "cell_type": "code",
   "execution_count": null,
   "metadata": {
    "collapsed": false
   },
   "outputs": [],
   "source": [
    "node_data_url = \"http://www.freeway.gov.tw/Upload/DownloadFiles/%e5%9c%8b%e9%81%93%e8%a8%88%e8%b2%bb%e9%96%80%e6%9e%b6%e5%ba%a7%e6%a8%99%e5%8f%8a%e9%87%8c%e7%a8%8b%e7%89%8c%e5%83%b9%e8%a1%a8104.09.04%e7%89%88.csv\"\n",
    "node_data = pandas.read_csv(urlopen(node_data_url), encoding='big5', header=1)\n",
    "# 簡單清理資料\n",
    "node_data = node_data[node_data[\"方向\"].apply(lambda x:x in 'NS')]\n",
    "node_data.head(10)"
   ]
  },
  {
   "cell_type": "markdown",
   "metadata": {
    "collapsed": false
   },
   "source": [
    "## Q\n",
    "查看一下內容，比方看國道五號\n",
    "```python\n",
    "node_data[node_data['編號'].str.startswith('05')]\n",
    "```"
   ]
  },
  {
   "cell_type": "code",
   "execution_count": null,
   "metadata": {
    "collapsed": true
   },
   "outputs": [],
   "source": []
  },
  {
   "cell_type": "markdown",
   "metadata": {},
   "source": [
    "## 畫圖看看"
   ]
  },
  {
   "cell_type": "code",
   "execution_count": null,
   "metadata": {
    "collapsed": true
   },
   "outputs": [],
   "source": [
    "%matplotlib inline"
   ]
  },
  {
   "cell_type": "code",
   "execution_count": null,
   "metadata": {
    "collapsed": false
   },
   "outputs": [],
   "source": [
    "node_data['經度(東經)'] = node_data['經度(東經)'].astype(float)\n",
    "node_data['緯度(北緯)'] = node_data['緯度(北緯)'].astype(float)"
   ]
  },
  {
   "cell_type": "code",
   "execution_count": null,
   "metadata": {
    "collapsed": false
   },
   "outputs": [],
   "source": [
    "node_data.plot.scatter(x='經度(東經)', y='緯度(北緯)')"
   ]
  },
  {
   "cell_type": "code",
   "execution_count": null,
   "metadata": {
    "collapsed": false
   },
   "outputs": [],
   "source": [
    "from PIL import Image\n",
    "import numpy as np\n",
    "import matplotlib.pyplot as plt\n",
    "# 網路上的台灣地圖，有經緯度\n",
    "taiwan_img_url=\"http://gallery.mjes.ntpc.edu.tw/gallery2/main.php?g2_view=core.DownloadItem&g2_itemId=408&g2_serialNumber=1\"\n",
    "taiwan_img = Image.open(urlopen(taiwan_img_url))\n",
    "taiwan_img"
   ]
  },
  {
   "cell_type": "code",
   "execution_count": null,
   "metadata": {
    "collapsed": false
   },
   "outputs": [],
   "source": [
    "# 查看編號的前置碼\n",
    "set(node_data['編號'].str[:3].tolist())"
   ]
  },
  {
   "cell_type": "code",
   "execution_count": null,
   "metadata": {
    "collapsed": false
   },
   "outputs": [],
   "source": [
    "# 依照路線編號\n",
    "cfunc = {'01F':\"green\", '01H':\"blue\", '03A':\"yellow\", '03F':\"red\", '05F':\"purple\"}.get\n",
    "colors = node_data['編號'].str[:3].apply(cfunc)"
   ]
  },
  {
   "cell_type": "code",
   "execution_count": null,
   "metadata": {
    "collapsed": false,
    "scrolled": false
   },
   "outputs": [],
   "source": [
    "fig = plt.gcf()\n",
    "fig.set_size_inches(8,8)\n",
    "extent=[118.75,123.05,21.45,25.75]\n",
    "plt.xlim(*extent[:2])\n",
    "plt.ylim(*extent[2:])\n",
    "plt.scatter(node_data['經度(東經)'], node_data['緯度(北緯)'], c=colors, alpha=1)\n",
    "plt.imshow(np.array(taiwan_img), extent=extent);"
   ]
  },
  {
   "cell_type": "markdown",
   "metadata": {
    "collapsed": false
   },
   "source": [
    "## Q\n",
    "試試看其他劃法，比方依照方向設定顏色\n",
    "```python\n",
    "colors = node_data.方向.apply({'S':'red', 'N':'blue'}.get).tolist()\n",
    "```\n",
    "或只畫國道一號、改變 mark。"
   ]
  },
  {
   "cell_type": "code",
   "execution_count": null,
   "metadata": {
    "collapsed": false
   },
   "outputs": [],
   "source": [
    "node_data[node_data.編號==\"03F-318.7S\"]"
   ]
  },
  {
   "cell_type": "code",
   "execution_count": null,
   "metadata": {
    "collapsed": false
   },
   "outputs": [],
   "source": [
    "node_data[node_data.編號==\"03F-321.1S\"]"
   ]
  },
  {
   "cell_type": "markdown",
   "metadata": {},
   "source": [
    "## Q\n",
    "找找看還有哪些服務區?"
   ]
  }
 ],
 "metadata": {
  "kernelspec": {
   "display_name": "Python 3",
   "language": "python",
   "name": "python3"
  },
  "language_info": {
   "codemirror_mode": {
    "name": "ipython",
    "version": 3
   },
   "file_extension": ".py",
   "mimetype": "text/x-python",
   "name": "python",
   "nbconvert_exporter": "python",
   "pygments_lexer": "ipython3",
   "version": "3.5.2+"
  }
 },
 "nbformat": 4,
 "nbformat_minor": 1
}
