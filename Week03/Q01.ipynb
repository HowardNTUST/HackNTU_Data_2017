{
 "cells": [
  {
   "cell_type": "markdown",
   "metadata": {},
   "source": [
    "### tar 讀取\n",
    "* 導入 tarfile module\n",
    "* 利用 filename_format 和 csv_format 來建立檔名\n",
    "* 讀取 2016-12-18 的 tar 檔並且列表\n",
    "* 打開裡面 10 點鐘的資料的 csv 檔案物件\n",
    "* 讀內容看看 (.read 或 .readline)"
   ]
  },
  {
   "cell_type": "code",
   "execution_count": null,
   "metadata": {
    "collapsed": true
   },
   "outputs": [],
   "source": [
    "# 檔案名稱格式\n",
    "filename_format=\"M06A_{year:04d}{month:02d}{day:02d}.tar.gz\".format\n",
    "csv_format = \"M06A/{year:04d}{month:02d}{day:02d}/{hour:02d}/TDCS_M06A_{year:04d}{month:02d}{day:02d}_{hour:02d}0000.csv\".format"
   ]
  },
  {
   "cell_type": "markdown",
   "metadata": {},
   "source": [
    "### 利用 pandas 來讀入資料\n",
    "* 導入 pandas\n",
    "* 打開 tar 中的 csv 檔案\n",
    "* 利用 pandas.read_html 讀入 https://zh.wikipedia.org/wiki/%E8%87%BA%E7%81%A3%E4%BA%BA%E5%8F%A3 中的歷回人口普查\n",
    "* 利用 pandas.read_html 讀入 https://zh.wikipedia.org/wiki/臺灣行政區人口列表 中的幾個表格\n",
    "* 利用 pandas.read_excel 讀取 平均每人所得消費 http://www.stat.gov.tw/public/data/dgbas03/bs4/nis93/np02.xls\n",
    "\n"
   ]
  },
  {
   "cell_type": "code",
   "execution_count": null,
   "metadata": {
    "collapsed": false
   },
   "outputs": [],
   "source": [
    "# Hint\n",
    "from urllib.parse import quote_plus\n",
    "\"https://zh.wikipedia.org/wiki/\"+quote_plus('臺灣行政區人口列表')"
   ]
  },
  {
   "cell_type": "code",
   "execution_count": null,
   "metadata": {
    "collapsed": true
   },
   "outputs": [],
   "source": []
  },
  {
   "cell_type": "markdown",
   "metadata": {},
   "source": [
    "* 利用 pandas.read_csv 讀取 csv, 並依照國道高速公路手冊設定欄位\n",
    "* 查看前十筆資料\n",
    "* 用 .iloc 看第 11 筆資料\n",
    "* 只注意 TripInformation 和 VehicleType 兩欄(查看前五筆)\n",
    "* 找 VehicleType 是 32 的紀錄"
   ]
  },
  {
   "cell_type": "code",
   "execution_count": null,
   "metadata": {
    "collapsed": false
   },
   "outputs": [],
   "source": [
    "# 欄位名稱\n",
    "M06A_fields = ['VehicleType',\n",
    "               'DetectionTime_O','GantryID_O',\n",
    "               'DetectionTime_D','GantryID_D ',\n",
    "               'TripLength', 'TripEnd', 'TripInformation']"
   ]
  },
  {
   "cell_type": "code",
   "execution_count": null,
   "metadata": {
    "collapsed": true
   },
   "outputs": [],
   "source": []
  }
 ],
 "metadata": {
  "kernelspec": {
   "display_name": "Python 3",
   "language": "python",
   "name": "python3"
  },
  "language_info": {
   "codemirror_mode": {
    "name": "ipython",
    "version": 3
   },
   "file_extension": ".py",
   "mimetype": "text/x-python",
   "name": "python",
   "nbconvert_exporter": "python",
   "pygments_lexer": "ipython3",
   "version": "3.5.2+"
  }
 },
 "nbformat": 4,
 "nbformat_minor": 1
}
